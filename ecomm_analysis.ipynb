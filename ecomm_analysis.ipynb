{
 "cells": [
  {
   "cell_type": "code",
   "execution_count": 204,
   "id": "9a72321d",
   "metadata": {},
   "outputs": [],
   "source": [
    "import pandas as pd\n",
    "import numpy as np\n",
    "import warnings\n",
    "from scipy.stats import uniform\n",
    "import scipy.stats as stats\n",
    "import matplotlib.pyplot as plt\n",
    "import seaborn as sns\n",
    "import plotly.express as px"
   ]
  },
  {
   "cell_type": "code",
   "execution_count": 205,
   "id": "975752b5",
   "metadata": {},
   "outputs": [],
   "source": [
    "from sklearn.preprocessing import StandardScaler\n",
    "from sklearn.model_selection import GridSearchCV\n",
    "from sklearn.pipeline import Pipeline\n",
    "from sklearn.cluster import KMeans, DBSCAN"
   ]
  },
  {
   "cell_type": "code",
   "execution_count": 206,
   "id": "2220acc2",
   "metadata": {},
   "outputs": [],
   "source": [
    "warnings.filterwarnings('ignore')"
   ]
  },
  {
   "cell_type": "markdown",
   "id": "ac1e38be",
   "metadata": {},
   "source": [
    "#### Import the data sets"
   ]
  },
  {
   "cell_type": "code",
   "execution_count": 207,
   "id": "2a4d1a2a",
   "metadata": {},
   "outputs": [],
   "source": [
    "df_cust = pd.read_csv(\"data/olist_customers_dataset.csv\")\n",
    "df_order_items = pd.read_csv(\"data/olist_order_items_dataset.csv\")\n",
    "df_order_pmts = pd.read_csv(\"data/olist_order_payments_dataset.csv\")\n",
    "df_order_reviews = pd.read_csv(\"data/olist_order_reviews_dataset.csv\")\n",
    "df_orders = pd.read_csv(\"data/olist_orders_dataset.csv\")\n",
    "df_products = pd.read_csv(\"data/olist_products_dataset.csv\")\n",
    "df_prod_cat = pd.read_csv(\"data/product_category_name_translation.csv\")"
   ]
  },
  {
   "cell_type": "code",
   "execution_count": 209,
   "id": "03ae12e7",
   "metadata": {},
   "outputs": [
    {
     "data": {
      "text/html": [
       "<div>\n",
       "<style scoped>\n",
       "    .dataframe tbody tr th:only-of-type {\n",
       "        vertical-align: middle;\n",
       "    }\n",
       "\n",
       "    .dataframe tbody tr th {\n",
       "        vertical-align: top;\n",
       "    }\n",
       "\n",
       "    .dataframe thead th {\n",
       "        text-align: right;\n",
       "    }\n",
       "</style>\n",
       "<table border=\"1\" class=\"dataframe\">\n",
       "  <thead>\n",
       "    <tr style=\"text-align: right;\">\n",
       "      <th></th>\n",
       "      <th>customer_id</th>\n",
       "      <th>customer_unique_id</th>\n",
       "      <th>customer_zip_code_prefix</th>\n",
       "      <th>customer_city</th>\n",
       "      <th>customer_state</th>\n",
       "    </tr>\n",
       "  </thead>\n",
       "  <tbody>\n",
       "    <tr>\n",
       "      <th>0</th>\n",
       "      <td>06b8999e2fba1a1fbc88172c00ba8bc7</td>\n",
       "      <td>861eff4711a542e4b93843c6dd7febb0</td>\n",
       "      <td>14409</td>\n",
       "      <td>franca</td>\n",
       "      <td>SP</td>\n",
       "    </tr>\n",
       "    <tr>\n",
       "      <th>1</th>\n",
       "      <td>18955e83d337fd6b2def6b18a428ac77</td>\n",
       "      <td>290c77bc529b7ac935b93aa66c333dc3</td>\n",
       "      <td>9790</td>\n",
       "      <td>sao bernardo do campo</td>\n",
       "      <td>SP</td>\n",
       "    </tr>\n",
       "    <tr>\n",
       "      <th>2</th>\n",
       "      <td>4e7b3e00288586ebd08712fdd0374a03</td>\n",
       "      <td>060e732b5b29e8181a18229c7b0b2b5e</td>\n",
       "      <td>1151</td>\n",
       "      <td>sao paulo</td>\n",
       "      <td>SP</td>\n",
       "    </tr>\n",
       "    <tr>\n",
       "      <th>3</th>\n",
       "      <td>b2b6027bc5c5109e529d4dc6358b12c3</td>\n",
       "      <td>259dac757896d24d7702b9acbbff3f3c</td>\n",
       "      <td>8775</td>\n",
       "      <td>mogi das cruzes</td>\n",
       "      <td>SP</td>\n",
       "    </tr>\n",
       "    <tr>\n",
       "      <th>4</th>\n",
       "      <td>4f2d8ab171c80ec8364f7c12e35b23ad</td>\n",
       "      <td>345ecd01c38d18a9036ed96c73b8d066</td>\n",
       "      <td>13056</td>\n",
       "      <td>campinas</td>\n",
       "      <td>SP</td>\n",
       "    </tr>\n",
       "  </tbody>\n",
       "</table>\n",
       "</div>"
      ],
      "text/plain": [
       "                        customer_id                customer_unique_id  \\\n",
       "0  06b8999e2fba1a1fbc88172c00ba8bc7  861eff4711a542e4b93843c6dd7febb0   \n",
       "1  18955e83d337fd6b2def6b18a428ac77  290c77bc529b7ac935b93aa66c333dc3   \n",
       "2  4e7b3e00288586ebd08712fdd0374a03  060e732b5b29e8181a18229c7b0b2b5e   \n",
       "3  b2b6027bc5c5109e529d4dc6358b12c3  259dac757896d24d7702b9acbbff3f3c   \n",
       "4  4f2d8ab171c80ec8364f7c12e35b23ad  345ecd01c38d18a9036ed96c73b8d066   \n",
       "\n",
       "   customer_zip_code_prefix          customer_city customer_state  \n",
       "0                     14409                 franca             SP  \n",
       "1                      9790  sao bernardo do campo             SP  \n",
       "2                      1151              sao paulo             SP  \n",
       "3                      8775        mogi das cruzes             SP  \n",
       "4                     13056               campinas             SP  "
      ]
     },
     "execution_count": 209,
     "metadata": {},
     "output_type": "execute_result"
    }
   ],
   "source": [
    "# Customer data\n",
    "df_cust.head()"
   ]
  },
  {
   "cell_type": "code",
   "execution_count": 210,
   "id": "ddddd807",
   "metadata": {},
   "outputs": [
    {
     "data": {
      "text/html": [
       "<div>\n",
       "<style scoped>\n",
       "    .dataframe tbody tr th:only-of-type {\n",
       "        vertical-align: middle;\n",
       "    }\n",
       "\n",
       "    .dataframe tbody tr th {\n",
       "        vertical-align: top;\n",
       "    }\n",
       "\n",
       "    .dataframe thead th {\n",
       "        text-align: right;\n",
       "    }\n",
       "</style>\n",
       "<table border=\"1\" class=\"dataframe\">\n",
       "  <thead>\n",
       "    <tr style=\"text-align: right;\">\n",
       "      <th></th>\n",
       "      <th>order_id</th>\n",
       "      <th>customer_id</th>\n",
       "      <th>order_status</th>\n",
       "      <th>order_purchase_timestamp</th>\n",
       "      <th>order_approved_at</th>\n",
       "      <th>order_delivered_carrier_date</th>\n",
       "      <th>order_delivered_customer_date</th>\n",
       "      <th>order_estimated_delivery_date</th>\n",
       "    </tr>\n",
       "  </thead>\n",
       "  <tbody>\n",
       "    <tr>\n",
       "      <th>0</th>\n",
       "      <td>e481f51cbdc54678b7cc49136f2d6af7</td>\n",
       "      <td>9ef432eb6251297304e76186b10a928d</td>\n",
       "      <td>delivered</td>\n",
       "      <td>2017-10-02 10:56:33</td>\n",
       "      <td>2017-10-02 11:07:15</td>\n",
       "      <td>2017-10-04 19:55:00</td>\n",
       "      <td>2017-10-10 21:25:13</td>\n",
       "      <td>2017-10-18 00:00:00</td>\n",
       "    </tr>\n",
       "    <tr>\n",
       "      <th>1</th>\n",
       "      <td>53cdb2fc8bc7dce0b6741e2150273451</td>\n",
       "      <td>b0830fb4747a6c6d20dea0b8c802d7ef</td>\n",
       "      <td>delivered</td>\n",
       "      <td>2018-07-24 20:41:37</td>\n",
       "      <td>2018-07-26 03:24:27</td>\n",
       "      <td>2018-07-26 14:31:00</td>\n",
       "      <td>2018-08-07 15:27:45</td>\n",
       "      <td>2018-08-13 00:00:00</td>\n",
       "    </tr>\n",
       "    <tr>\n",
       "      <th>2</th>\n",
       "      <td>47770eb9100c2d0c44946d9cf07ec65d</td>\n",
       "      <td>41ce2a54c0b03bf3443c3d931a367089</td>\n",
       "      <td>delivered</td>\n",
       "      <td>2018-08-08 08:38:49</td>\n",
       "      <td>2018-08-08 08:55:23</td>\n",
       "      <td>2018-08-08 13:50:00</td>\n",
       "      <td>2018-08-17 18:06:29</td>\n",
       "      <td>2018-09-04 00:00:00</td>\n",
       "    </tr>\n",
       "    <tr>\n",
       "      <th>3</th>\n",
       "      <td>949d5b44dbf5de918fe9c16f97b45f8a</td>\n",
       "      <td>f88197465ea7920adcdbec7375364d82</td>\n",
       "      <td>delivered</td>\n",
       "      <td>2017-11-18 19:28:06</td>\n",
       "      <td>2017-11-18 19:45:59</td>\n",
       "      <td>2017-11-22 13:39:59</td>\n",
       "      <td>2017-12-02 00:28:42</td>\n",
       "      <td>2017-12-15 00:00:00</td>\n",
       "    </tr>\n",
       "    <tr>\n",
       "      <th>4</th>\n",
       "      <td>ad21c59c0840e6cb83a9ceb5573f8159</td>\n",
       "      <td>8ab97904e6daea8866dbdbc4fb7aad2c</td>\n",
       "      <td>delivered</td>\n",
       "      <td>2018-02-13 21:18:39</td>\n",
       "      <td>2018-02-13 22:20:29</td>\n",
       "      <td>2018-02-14 19:46:34</td>\n",
       "      <td>2018-02-16 18:17:02</td>\n",
       "      <td>2018-02-26 00:00:00</td>\n",
       "    </tr>\n",
       "  </tbody>\n",
       "</table>\n",
       "</div>"
      ],
      "text/plain": [
       "                           order_id                       customer_id  \\\n",
       "0  e481f51cbdc54678b7cc49136f2d6af7  9ef432eb6251297304e76186b10a928d   \n",
       "1  53cdb2fc8bc7dce0b6741e2150273451  b0830fb4747a6c6d20dea0b8c802d7ef   \n",
       "2  47770eb9100c2d0c44946d9cf07ec65d  41ce2a54c0b03bf3443c3d931a367089   \n",
       "3  949d5b44dbf5de918fe9c16f97b45f8a  f88197465ea7920adcdbec7375364d82   \n",
       "4  ad21c59c0840e6cb83a9ceb5573f8159  8ab97904e6daea8866dbdbc4fb7aad2c   \n",
       "\n",
       "  order_status order_purchase_timestamp    order_approved_at  \\\n",
       "0    delivered      2017-10-02 10:56:33  2017-10-02 11:07:15   \n",
       "1    delivered      2018-07-24 20:41:37  2018-07-26 03:24:27   \n",
       "2    delivered      2018-08-08 08:38:49  2018-08-08 08:55:23   \n",
       "3    delivered      2017-11-18 19:28:06  2017-11-18 19:45:59   \n",
       "4    delivered      2018-02-13 21:18:39  2018-02-13 22:20:29   \n",
       "\n",
       "  order_delivered_carrier_date order_delivered_customer_date  \\\n",
       "0          2017-10-04 19:55:00           2017-10-10 21:25:13   \n",
       "1          2018-07-26 14:31:00           2018-08-07 15:27:45   \n",
       "2          2018-08-08 13:50:00           2018-08-17 18:06:29   \n",
       "3          2017-11-22 13:39:59           2017-12-02 00:28:42   \n",
       "4          2018-02-14 19:46:34           2018-02-16 18:17:02   \n",
       "\n",
       "  order_estimated_delivery_date  \n",
       "0           2017-10-18 00:00:00  \n",
       "1           2018-08-13 00:00:00  \n",
       "2           2018-09-04 00:00:00  \n",
       "3           2017-12-15 00:00:00  \n",
       "4           2018-02-26 00:00:00  "
      ]
     },
     "execution_count": 210,
     "metadata": {},
     "output_type": "execute_result"
    }
   ],
   "source": [
    "# Order data\n",
    "df_orders.head()"
   ]
  },
  {
   "cell_type": "code",
   "execution_count": 211,
   "id": "2840a31a",
   "metadata": {},
   "outputs": [
    {
     "data": {
      "text/html": [
       "<div>\n",
       "<style scoped>\n",
       "    .dataframe tbody tr th:only-of-type {\n",
       "        vertical-align: middle;\n",
       "    }\n",
       "\n",
       "    .dataframe tbody tr th {\n",
       "        vertical-align: top;\n",
       "    }\n",
       "\n",
       "    .dataframe thead th {\n",
       "        text-align: right;\n",
       "    }\n",
       "</style>\n",
       "<table border=\"1\" class=\"dataframe\">\n",
       "  <thead>\n",
       "    <tr style=\"text-align: right;\">\n",
       "      <th></th>\n",
       "      <th>order_id</th>\n",
       "      <th>order_item_id</th>\n",
       "      <th>product_id</th>\n",
       "      <th>seller_id</th>\n",
       "      <th>shipping_limit_date</th>\n",
       "      <th>price</th>\n",
       "      <th>freight_value</th>\n",
       "    </tr>\n",
       "  </thead>\n",
       "  <tbody>\n",
       "    <tr>\n",
       "      <th>0</th>\n",
       "      <td>00010242fe8c5a6d1ba2dd792cb16214</td>\n",
       "      <td>1</td>\n",
       "      <td>4244733e06e7ecb4970a6e2683c13e61</td>\n",
       "      <td>48436dade18ac8b2bce089ec2a041202</td>\n",
       "      <td>2017-09-19 09:45:35</td>\n",
       "      <td>58.90</td>\n",
       "      <td>13.29</td>\n",
       "    </tr>\n",
       "    <tr>\n",
       "      <th>1</th>\n",
       "      <td>00018f77f2f0320c557190d7a144bdd3</td>\n",
       "      <td>1</td>\n",
       "      <td>e5f2d52b802189ee658865ca93d83a8f</td>\n",
       "      <td>dd7ddc04e1b6c2c614352b383efe2d36</td>\n",
       "      <td>2017-05-03 11:05:13</td>\n",
       "      <td>239.90</td>\n",
       "      <td>19.93</td>\n",
       "    </tr>\n",
       "    <tr>\n",
       "      <th>2</th>\n",
       "      <td>000229ec398224ef6ca0657da4fc703e</td>\n",
       "      <td>1</td>\n",
       "      <td>c777355d18b72b67abbeef9df44fd0fd</td>\n",
       "      <td>5b51032eddd242adc84c38acab88f23d</td>\n",
       "      <td>2018-01-18 14:48:30</td>\n",
       "      <td>199.00</td>\n",
       "      <td>17.87</td>\n",
       "    </tr>\n",
       "    <tr>\n",
       "      <th>3</th>\n",
       "      <td>00024acbcdf0a6daa1e931b038114c75</td>\n",
       "      <td>1</td>\n",
       "      <td>7634da152a4610f1595efa32f14722fc</td>\n",
       "      <td>9d7a1d34a5052409006425275ba1c2b4</td>\n",
       "      <td>2018-08-15 10:10:18</td>\n",
       "      <td>12.99</td>\n",
       "      <td>12.79</td>\n",
       "    </tr>\n",
       "    <tr>\n",
       "      <th>4</th>\n",
       "      <td>00042b26cf59d7ce69dfabb4e55b4fd9</td>\n",
       "      <td>1</td>\n",
       "      <td>ac6c3623068f30de03045865e4e10089</td>\n",
       "      <td>df560393f3a51e74553ab94004ba5c87</td>\n",
       "      <td>2017-02-13 13:57:51</td>\n",
       "      <td>199.90</td>\n",
       "      <td>18.14</td>\n",
       "    </tr>\n",
       "  </tbody>\n",
       "</table>\n",
       "</div>"
      ],
      "text/plain": [
       "                           order_id  order_item_id  \\\n",
       "0  00010242fe8c5a6d1ba2dd792cb16214              1   \n",
       "1  00018f77f2f0320c557190d7a144bdd3              1   \n",
       "2  000229ec398224ef6ca0657da4fc703e              1   \n",
       "3  00024acbcdf0a6daa1e931b038114c75              1   \n",
       "4  00042b26cf59d7ce69dfabb4e55b4fd9              1   \n",
       "\n",
       "                         product_id                         seller_id  \\\n",
       "0  4244733e06e7ecb4970a6e2683c13e61  48436dade18ac8b2bce089ec2a041202   \n",
       "1  e5f2d52b802189ee658865ca93d83a8f  dd7ddc04e1b6c2c614352b383efe2d36   \n",
       "2  c777355d18b72b67abbeef9df44fd0fd  5b51032eddd242adc84c38acab88f23d   \n",
       "3  7634da152a4610f1595efa32f14722fc  9d7a1d34a5052409006425275ba1c2b4   \n",
       "4  ac6c3623068f30de03045865e4e10089  df560393f3a51e74553ab94004ba5c87   \n",
       "\n",
       "   shipping_limit_date   price  freight_value  \n",
       "0  2017-09-19 09:45:35   58.90          13.29  \n",
       "1  2017-05-03 11:05:13  239.90          19.93  \n",
       "2  2018-01-18 14:48:30  199.00          17.87  \n",
       "3  2018-08-15 10:10:18   12.99          12.79  \n",
       "4  2017-02-13 13:57:51  199.90          18.14  "
      ]
     },
     "execution_count": 211,
     "metadata": {},
     "output_type": "execute_result"
    }
   ],
   "source": [
    "# Order items data\n",
    "df_order_items.head()"
   ]
  },
  {
   "cell_type": "code",
   "execution_count": 212,
   "id": "d45c5d4e",
   "metadata": {},
   "outputs": [
    {
     "data": {
      "text/html": [
       "<div>\n",
       "<style scoped>\n",
       "    .dataframe tbody tr th:only-of-type {\n",
       "        vertical-align: middle;\n",
       "    }\n",
       "\n",
       "    .dataframe tbody tr th {\n",
       "        vertical-align: top;\n",
       "    }\n",
       "\n",
       "    .dataframe thead th {\n",
       "        text-align: right;\n",
       "    }\n",
       "</style>\n",
       "<table border=\"1\" class=\"dataframe\">\n",
       "  <thead>\n",
       "    <tr style=\"text-align: right;\">\n",
       "      <th></th>\n",
       "      <th>product_id</th>\n",
       "      <th>product_category_name</th>\n",
       "      <th>product_name_lenght</th>\n",
       "      <th>product_description_lenght</th>\n",
       "      <th>product_photos_qty</th>\n",
       "      <th>product_weight_g</th>\n",
       "      <th>product_length_cm</th>\n",
       "      <th>product_height_cm</th>\n",
       "      <th>product_width_cm</th>\n",
       "    </tr>\n",
       "  </thead>\n",
       "  <tbody>\n",
       "    <tr>\n",
       "      <th>0</th>\n",
       "      <td>1e9e8ef04dbcff4541ed26657ea517e5</td>\n",
       "      <td>perfumaria</td>\n",
       "      <td>40.0</td>\n",
       "      <td>287.0</td>\n",
       "      <td>1.0</td>\n",
       "      <td>225.0</td>\n",
       "      <td>16.0</td>\n",
       "      <td>10.0</td>\n",
       "      <td>14.0</td>\n",
       "    </tr>\n",
       "    <tr>\n",
       "      <th>1</th>\n",
       "      <td>3aa071139cb16b67ca9e5dea641aaa2f</td>\n",
       "      <td>artes</td>\n",
       "      <td>44.0</td>\n",
       "      <td>276.0</td>\n",
       "      <td>1.0</td>\n",
       "      <td>1000.0</td>\n",
       "      <td>30.0</td>\n",
       "      <td>18.0</td>\n",
       "      <td>20.0</td>\n",
       "    </tr>\n",
       "    <tr>\n",
       "      <th>2</th>\n",
       "      <td>96bd76ec8810374ed1b65e291975717f</td>\n",
       "      <td>esporte_lazer</td>\n",
       "      <td>46.0</td>\n",
       "      <td>250.0</td>\n",
       "      <td>1.0</td>\n",
       "      <td>154.0</td>\n",
       "      <td>18.0</td>\n",
       "      <td>9.0</td>\n",
       "      <td>15.0</td>\n",
       "    </tr>\n",
       "    <tr>\n",
       "      <th>3</th>\n",
       "      <td>cef67bcfe19066a932b7673e239eb23d</td>\n",
       "      <td>bebes</td>\n",
       "      <td>27.0</td>\n",
       "      <td>261.0</td>\n",
       "      <td>1.0</td>\n",
       "      <td>371.0</td>\n",
       "      <td>26.0</td>\n",
       "      <td>4.0</td>\n",
       "      <td>26.0</td>\n",
       "    </tr>\n",
       "    <tr>\n",
       "      <th>4</th>\n",
       "      <td>9dc1a7de274444849c219cff195d0b71</td>\n",
       "      <td>utilidades_domesticas</td>\n",
       "      <td>37.0</td>\n",
       "      <td>402.0</td>\n",
       "      <td>4.0</td>\n",
       "      <td>625.0</td>\n",
       "      <td>20.0</td>\n",
       "      <td>17.0</td>\n",
       "      <td>13.0</td>\n",
       "    </tr>\n",
       "  </tbody>\n",
       "</table>\n",
       "</div>"
      ],
      "text/plain": [
       "                         product_id  product_category_name  \\\n",
       "0  1e9e8ef04dbcff4541ed26657ea517e5             perfumaria   \n",
       "1  3aa071139cb16b67ca9e5dea641aaa2f                  artes   \n",
       "2  96bd76ec8810374ed1b65e291975717f          esporte_lazer   \n",
       "3  cef67bcfe19066a932b7673e239eb23d                  bebes   \n",
       "4  9dc1a7de274444849c219cff195d0b71  utilidades_domesticas   \n",
       "\n",
       "   product_name_lenght  product_description_lenght  product_photos_qty  \\\n",
       "0                 40.0                       287.0                 1.0   \n",
       "1                 44.0                       276.0                 1.0   \n",
       "2                 46.0                       250.0                 1.0   \n",
       "3                 27.0                       261.0                 1.0   \n",
       "4                 37.0                       402.0                 4.0   \n",
       "\n",
       "   product_weight_g  product_length_cm  product_height_cm  product_width_cm  \n",
       "0             225.0               16.0               10.0              14.0  \n",
       "1            1000.0               30.0               18.0              20.0  \n",
       "2             154.0               18.0                9.0              15.0  \n",
       "3             371.0               26.0                4.0              26.0  \n",
       "4             625.0               20.0               17.0              13.0  "
      ]
     },
     "execution_count": 212,
     "metadata": {},
     "output_type": "execute_result"
    }
   ],
   "source": [
    "# Product attributes data\n",
    "df_products.head()"
   ]
  },
  {
   "cell_type": "code",
   "execution_count": 213,
   "id": "6d7648cc",
   "metadata": {},
   "outputs": [
    {
     "data": {
      "text/html": [
       "<div>\n",
       "<style scoped>\n",
       "    .dataframe tbody tr th:only-of-type {\n",
       "        vertical-align: middle;\n",
       "    }\n",
       "\n",
       "    .dataframe tbody tr th {\n",
       "        vertical-align: top;\n",
       "    }\n",
       "\n",
       "    .dataframe thead th {\n",
       "        text-align: right;\n",
       "    }\n",
       "</style>\n",
       "<table border=\"1\" class=\"dataframe\">\n",
       "  <thead>\n",
       "    <tr style=\"text-align: right;\">\n",
       "      <th></th>\n",
       "      <th>review_id</th>\n",
       "      <th>order_id</th>\n",
       "      <th>review_score</th>\n",
       "      <th>review_comment_title</th>\n",
       "      <th>review_comment_message</th>\n",
       "      <th>review_creation_date</th>\n",
       "      <th>review_answer_timestamp</th>\n",
       "    </tr>\n",
       "  </thead>\n",
       "  <tbody>\n",
       "    <tr>\n",
       "      <th>0</th>\n",
       "      <td>7bc2406110b926393aa56f80a40eba40</td>\n",
       "      <td>73fc7af87114b39712e6da79b0a377eb</td>\n",
       "      <td>4</td>\n",
       "      <td>NaN</td>\n",
       "      <td>NaN</td>\n",
       "      <td>2018-01-18 00:00:00</td>\n",
       "      <td>2018-01-18 21:46:59</td>\n",
       "    </tr>\n",
       "    <tr>\n",
       "      <th>1</th>\n",
       "      <td>80e641a11e56f04c1ad469d5645fdfde</td>\n",
       "      <td>a548910a1c6147796b98fdf73dbeba33</td>\n",
       "      <td>5</td>\n",
       "      <td>NaN</td>\n",
       "      <td>NaN</td>\n",
       "      <td>2018-03-10 00:00:00</td>\n",
       "      <td>2018-03-11 03:05:13</td>\n",
       "    </tr>\n",
       "    <tr>\n",
       "      <th>2</th>\n",
       "      <td>228ce5500dc1d8e020d8d1322874b6f0</td>\n",
       "      <td>f9e4b658b201a9f2ecdecbb34bed034b</td>\n",
       "      <td>5</td>\n",
       "      <td>NaN</td>\n",
       "      <td>NaN</td>\n",
       "      <td>2018-02-17 00:00:00</td>\n",
       "      <td>2018-02-18 14:36:24</td>\n",
       "    </tr>\n",
       "    <tr>\n",
       "      <th>3</th>\n",
       "      <td>e64fb393e7b32834bb789ff8bb30750e</td>\n",
       "      <td>658677c97b385a9be170737859d3511b</td>\n",
       "      <td>5</td>\n",
       "      <td>NaN</td>\n",
       "      <td>Recebi bem antes do prazo estipulado.</td>\n",
       "      <td>2017-04-21 00:00:00</td>\n",
       "      <td>2017-04-21 22:02:06</td>\n",
       "    </tr>\n",
       "    <tr>\n",
       "      <th>4</th>\n",
       "      <td>f7c4243c7fe1938f181bec41a392bdeb</td>\n",
       "      <td>8e6bfb81e283fa7e4f11123a3fb894f1</td>\n",
       "      <td>5</td>\n",
       "      <td>NaN</td>\n",
       "      <td>Parabéns lojas lannister adorei comprar pela I...</td>\n",
       "      <td>2018-03-01 00:00:00</td>\n",
       "      <td>2018-03-02 10:26:53</td>\n",
       "    </tr>\n",
       "  </tbody>\n",
       "</table>\n",
       "</div>"
      ],
      "text/plain": [
       "                          review_id                          order_id  \\\n",
       "0  7bc2406110b926393aa56f80a40eba40  73fc7af87114b39712e6da79b0a377eb   \n",
       "1  80e641a11e56f04c1ad469d5645fdfde  a548910a1c6147796b98fdf73dbeba33   \n",
       "2  228ce5500dc1d8e020d8d1322874b6f0  f9e4b658b201a9f2ecdecbb34bed034b   \n",
       "3  e64fb393e7b32834bb789ff8bb30750e  658677c97b385a9be170737859d3511b   \n",
       "4  f7c4243c7fe1938f181bec41a392bdeb  8e6bfb81e283fa7e4f11123a3fb894f1   \n",
       "\n",
       "   review_score review_comment_title  \\\n",
       "0             4                  NaN   \n",
       "1             5                  NaN   \n",
       "2             5                  NaN   \n",
       "3             5                  NaN   \n",
       "4             5                  NaN   \n",
       "\n",
       "                              review_comment_message review_creation_date  \\\n",
       "0                                                NaN  2018-01-18 00:00:00   \n",
       "1                                                NaN  2018-03-10 00:00:00   \n",
       "2                                                NaN  2018-02-17 00:00:00   \n",
       "3              Recebi bem antes do prazo estipulado.  2017-04-21 00:00:00   \n",
       "4  Parabéns lojas lannister adorei comprar pela I...  2018-03-01 00:00:00   \n",
       "\n",
       "  review_answer_timestamp  \n",
       "0     2018-01-18 21:46:59  \n",
       "1     2018-03-11 03:05:13  \n",
       "2     2018-02-18 14:36:24  \n",
       "3     2017-04-21 22:02:06  \n",
       "4     2018-03-02 10:26:53  "
      ]
     },
     "execution_count": 213,
     "metadata": {},
     "output_type": "execute_result"
    }
   ],
   "source": [
    "# Order reviews data\n",
    "df_order_reviews.head()"
   ]
  },
  {
   "cell_type": "code",
   "execution_count": 214,
   "id": "8ddbea9c",
   "metadata": {},
   "outputs": [
    {
     "data": {
      "text/html": [
       "<div>\n",
       "<style scoped>\n",
       "    .dataframe tbody tr th:only-of-type {\n",
       "        vertical-align: middle;\n",
       "    }\n",
       "\n",
       "    .dataframe tbody tr th {\n",
       "        vertical-align: top;\n",
       "    }\n",
       "\n",
       "    .dataframe thead th {\n",
       "        text-align: right;\n",
       "    }\n",
       "</style>\n",
       "<table border=\"1\" class=\"dataframe\">\n",
       "  <thead>\n",
       "    <tr style=\"text-align: right;\">\n",
       "      <th></th>\n",
       "      <th>product_category_name</th>\n",
       "      <th>product_category_name_english</th>\n",
       "    </tr>\n",
       "  </thead>\n",
       "  <tbody>\n",
       "    <tr>\n",
       "      <th>0</th>\n",
       "      <td>beleza_saude</td>\n",
       "      <td>health_beauty</td>\n",
       "    </tr>\n",
       "    <tr>\n",
       "      <th>1</th>\n",
       "      <td>informatica_acessorios</td>\n",
       "      <td>computers_accessories</td>\n",
       "    </tr>\n",
       "    <tr>\n",
       "      <th>2</th>\n",
       "      <td>automotivo</td>\n",
       "      <td>auto</td>\n",
       "    </tr>\n",
       "    <tr>\n",
       "      <th>3</th>\n",
       "      <td>cama_mesa_banho</td>\n",
       "      <td>bed_bath_table</td>\n",
       "    </tr>\n",
       "    <tr>\n",
       "      <th>4</th>\n",
       "      <td>moveis_decoracao</td>\n",
       "      <td>furniture_decor</td>\n",
       "    </tr>\n",
       "  </tbody>\n",
       "</table>\n",
       "</div>"
      ],
      "text/plain": [
       "    product_category_name product_category_name_english\n",
       "0            beleza_saude                 health_beauty\n",
       "1  informatica_acessorios         computers_accessories\n",
       "2              automotivo                          auto\n",
       "3         cama_mesa_banho                bed_bath_table\n",
       "4        moveis_decoracao               furniture_decor"
      ]
     },
     "execution_count": 214,
     "metadata": {},
     "output_type": "execute_result"
    }
   ],
   "source": [
    "# Product category translation data\n",
    "df_prod_cat.head()"
   ]
  },
  {
   "cell_type": "code",
   "execution_count": 215,
   "id": "7cae4a39",
   "metadata": {},
   "outputs": [
    {
     "name": "stdout",
     "output_type": "stream",
     "text": [
      "<class 'pandas.core.frame.DataFrame'>\n",
      "RangeIndex: 99441 entries, 0 to 99440\n",
      "Data columns (total 5 columns):\n",
      " #   Column                    Non-Null Count  Dtype \n",
      "---  ------                    --------------  ----- \n",
      " 0   customer_id               99441 non-null  object\n",
      " 1   customer_unique_id        99441 non-null  object\n",
      " 2   customer_zip_code_prefix  99441 non-null  int64 \n",
      " 3   customer_city             99441 non-null  object\n",
      " 4   customer_state            99441 non-null  object\n",
      "dtypes: int64(1), object(4)\n",
      "memory usage: 3.8+ MB\n"
     ]
    }
   ],
   "source": [
    "df_cust.info()"
   ]
  },
  {
   "cell_type": "code",
   "execution_count": 216,
   "id": "61ab2ae8",
   "metadata": {},
   "outputs": [
    {
     "data": {
      "text/plain": [
       "(99441, 5)"
      ]
     },
     "execution_count": 216,
     "metadata": {},
     "output_type": "execute_result"
    }
   ],
   "source": [
    "df_cust.shape"
   ]
  },
  {
   "cell_type": "code",
   "execution_count": 217,
   "id": "a62117d4",
   "metadata": {},
   "outputs": [
    {
     "name": "stdout",
     "output_type": "stream",
     "text": [
      "<class 'pandas.core.frame.DataFrame'>\n",
      "RangeIndex: 99441 entries, 0 to 99440\n",
      "Data columns (total 8 columns):\n",
      " #   Column                         Non-Null Count  Dtype \n",
      "---  ------                         --------------  ----- \n",
      " 0   order_id                       99441 non-null  object\n",
      " 1   customer_id                    99441 non-null  object\n",
      " 2   order_status                   99441 non-null  object\n",
      " 3   order_purchase_timestamp       99441 non-null  object\n",
      " 4   order_approved_at              99281 non-null  object\n",
      " 5   order_delivered_carrier_date   97658 non-null  object\n",
      " 6   order_delivered_customer_date  96476 non-null  object\n",
      " 7   order_estimated_delivery_date  99441 non-null  object\n",
      "dtypes: object(8)\n",
      "memory usage: 6.1+ MB\n"
     ]
    }
   ],
   "source": [
    "df_orders.info()"
   ]
  },
  {
   "cell_type": "code",
   "execution_count": 218,
   "id": "b583f6ab",
   "metadata": {},
   "outputs": [
    {
     "data": {
      "text/plain": [
       "(99441, 8)"
      ]
     },
     "execution_count": 218,
     "metadata": {},
     "output_type": "execute_result"
    }
   ],
   "source": [
    "df_orders.shape"
   ]
  },
  {
   "cell_type": "code",
   "execution_count": 225,
   "id": "22776756",
   "metadata": {},
   "outputs": [
    {
     "data": {
      "text/plain": [
       "99441"
      ]
     },
     "execution_count": 225,
     "metadata": {},
     "output_type": "execute_result"
    }
   ],
   "source": [
    "df_orders.order_id.nunique()"
   ]
  },
  {
   "cell_type": "code",
   "execution_count": 226,
   "id": "c5686fc8",
   "metadata": {},
   "outputs": [
    {
     "name": "stdout",
     "output_type": "stream",
     "text": [
      "<class 'pandas.core.frame.DataFrame'>\n",
      "RangeIndex: 112650 entries, 0 to 112649\n",
      "Data columns (total 7 columns):\n",
      " #   Column               Non-Null Count   Dtype  \n",
      "---  ------               --------------   -----  \n",
      " 0   order_id             112650 non-null  object \n",
      " 1   order_item_id        112650 non-null  int64  \n",
      " 2   product_id           112650 non-null  object \n",
      " 3   seller_id            112650 non-null  object \n",
      " 4   shipping_limit_date  112650 non-null  object \n",
      " 5   price                112650 non-null  float64\n",
      " 6   freight_value        112650 non-null  float64\n",
      "dtypes: float64(2), int64(1), object(4)\n",
      "memory usage: 6.0+ MB\n"
     ]
    }
   ],
   "source": [
    "df_order_items.info()"
   ]
  },
  {
   "cell_type": "code",
   "execution_count": 227,
   "id": "d8eace37",
   "metadata": {},
   "outputs": [
    {
     "data": {
      "text/plain": [
       "(112650, 7)"
      ]
     },
     "execution_count": 227,
     "metadata": {},
     "output_type": "execute_result"
    }
   ],
   "source": [
    "df_order_items.shape"
   ]
  },
  {
   "cell_type": "code",
   "execution_count": 228,
   "id": "06b89fe0",
   "metadata": {},
   "outputs": [
    {
     "data": {
      "text/plain": [
       "98666"
      ]
     },
     "execution_count": 228,
     "metadata": {},
     "output_type": "execute_result"
    }
   ],
   "source": [
    "df_order_items.order_id.nunique()"
   ]
  },
  {
   "cell_type": "markdown",
   "id": "65055835",
   "metadata": {},
   "source": [
    "An order can have more than one item. Some orders don't appear to have an item and these can be ignored."
   ]
  },
  {
   "cell_type": "code",
   "execution_count": 229,
   "id": "a916d228",
   "metadata": {},
   "outputs": [
    {
     "name": "stdout",
     "output_type": "stream",
     "text": [
      "<class 'pandas.core.frame.DataFrame'>\n",
      "RangeIndex: 103886 entries, 0 to 103885\n",
      "Data columns (total 5 columns):\n",
      " #   Column                Non-Null Count   Dtype  \n",
      "---  ------                --------------   -----  \n",
      " 0   order_id              103886 non-null  object \n",
      " 1   payment_sequential    103886 non-null  int64  \n",
      " 2   payment_type          103886 non-null  object \n",
      " 3   payment_installments  103886 non-null  int64  \n",
      " 4   payment_value         103886 non-null  float64\n",
      "dtypes: float64(1), int64(2), object(2)\n",
      "memory usage: 4.0+ MB\n"
     ]
    }
   ],
   "source": [
    "df_order_pmts.info()"
   ]
  },
  {
   "cell_type": "code",
   "execution_count": 230,
   "id": "5e3d865a",
   "metadata": {},
   "outputs": [
    {
     "data": {
      "text/plain": [
       "(103886, 5)"
      ]
     },
     "execution_count": 230,
     "metadata": {},
     "output_type": "execute_result"
    }
   ],
   "source": [
    "df_order_pmts.shape"
   ]
  },
  {
   "cell_type": "code",
   "execution_count": 231,
   "id": "c39fcf81",
   "metadata": {},
   "outputs": [
    {
     "data": {
      "text/plain": [
       "99440"
      ]
     },
     "execution_count": 231,
     "metadata": {},
     "output_type": "execute_result"
    }
   ],
   "source": [
    "df_order_pmts['order_id'].nunique()"
   ]
  },
  {
   "cell_type": "markdown",
   "id": "667577cb",
   "metadata": {},
   "source": [
    "An order can have more than one payment, and a payment can be in installments."
   ]
  },
  {
   "cell_type": "code",
   "execution_count": 232,
   "id": "ad21159b",
   "metadata": {},
   "outputs": [
    {
     "name": "stdout",
     "output_type": "stream",
     "text": [
      "<class 'pandas.core.frame.DataFrame'>\n",
      "RangeIndex: 99224 entries, 0 to 99223\n",
      "Data columns (total 7 columns):\n",
      " #   Column                   Non-Null Count  Dtype \n",
      "---  ------                   --------------  ----- \n",
      " 0   review_id                99224 non-null  object\n",
      " 1   order_id                 99224 non-null  object\n",
      " 2   review_score             99224 non-null  int64 \n",
      " 3   review_comment_title     11568 non-null  object\n",
      " 4   review_comment_message   40977 non-null  object\n",
      " 5   review_creation_date     99224 non-null  object\n",
      " 6   review_answer_timestamp  99224 non-null  object\n",
      "dtypes: int64(1), object(6)\n",
      "memory usage: 5.3+ MB\n"
     ]
    }
   ],
   "source": [
    "df_order_reviews.info()"
   ]
  },
  {
   "cell_type": "code",
   "execution_count": 233,
   "id": "02fc4cd3",
   "metadata": {},
   "outputs": [
    {
     "data": {
      "text/plain": [
       "(99224, 7)"
      ]
     },
     "execution_count": 233,
     "metadata": {},
     "output_type": "execute_result"
    }
   ],
   "source": [
    "df_order_reviews.shape"
   ]
  },
  {
   "cell_type": "code",
   "execution_count": 234,
   "id": "c68d367a",
   "metadata": {},
   "outputs": [
    {
     "data": {
      "text/plain": [
       "98673"
      ]
     },
     "execution_count": 234,
     "metadata": {},
     "output_type": "execute_result"
    }
   ],
   "source": [
    "df_order_reviews.order_id.nunique()"
   ]
  },
  {
   "cell_type": "code",
   "execution_count": 235,
   "id": "01d5f8f5",
   "metadata": {},
   "outputs": [
    {
     "name": "stdout",
     "output_type": "stream",
     "text": [
      "<class 'pandas.core.frame.DataFrame'>\n",
      "RangeIndex: 32951 entries, 0 to 32950\n",
      "Data columns (total 9 columns):\n",
      " #   Column                      Non-Null Count  Dtype  \n",
      "---  ------                      --------------  -----  \n",
      " 0   product_id                  32951 non-null  object \n",
      " 1   product_category_name       32341 non-null  object \n",
      " 2   product_name_lenght         32341 non-null  float64\n",
      " 3   product_description_lenght  32341 non-null  float64\n",
      " 4   product_photos_qty          32341 non-null  float64\n",
      " 5   product_weight_g            32949 non-null  float64\n",
      " 6   product_length_cm           32949 non-null  float64\n",
      " 7   product_height_cm           32949 non-null  float64\n",
      " 8   product_width_cm            32949 non-null  float64\n",
      "dtypes: float64(7), object(2)\n",
      "memory usage: 2.3+ MB\n"
     ]
    }
   ],
   "source": [
    "df_products.info()"
   ]
  },
  {
   "cell_type": "code",
   "execution_count": 236,
   "id": "a62a52f6",
   "metadata": {},
   "outputs": [
    {
     "data": {
      "text/plain": [
       "(32951, 9)"
      ]
     },
     "execution_count": 236,
     "metadata": {},
     "output_type": "execute_result"
    }
   ],
   "source": [
    "df_products.shape"
   ]
  },
  {
   "cell_type": "code",
   "execution_count": 237,
   "id": "6be17afc",
   "metadata": {},
   "outputs": [
    {
     "data": {
      "text/html": [
       "<div>\n",
       "<style scoped>\n",
       "    .dataframe tbody tr th:only-of-type {\n",
       "        vertical-align: middle;\n",
       "    }\n",
       "\n",
       "    .dataframe tbody tr th {\n",
       "        vertical-align: top;\n",
       "    }\n",
       "\n",
       "    .dataframe thead th {\n",
       "        text-align: right;\n",
       "    }\n",
       "</style>\n",
       "<table border=\"1\" class=\"dataframe\">\n",
       "  <thead>\n",
       "    <tr style=\"text-align: right;\">\n",
       "      <th></th>\n",
       "      <th>product_category_name</th>\n",
       "      <th>product_category_name_english</th>\n",
       "    </tr>\n",
       "  </thead>\n",
       "  <tbody>\n",
       "    <tr>\n",
       "      <th>0</th>\n",
       "      <td>beleza_saude</td>\n",
       "      <td>health_beauty</td>\n",
       "    </tr>\n",
       "    <tr>\n",
       "      <th>1</th>\n",
       "      <td>informatica_acessorios</td>\n",
       "      <td>computers_accessories</td>\n",
       "    </tr>\n",
       "    <tr>\n",
       "      <th>2</th>\n",
       "      <td>automotivo</td>\n",
       "      <td>auto</td>\n",
       "    </tr>\n",
       "    <tr>\n",
       "      <th>3</th>\n",
       "      <td>cama_mesa_banho</td>\n",
       "      <td>bed_bath_table</td>\n",
       "    </tr>\n",
       "    <tr>\n",
       "      <th>4</th>\n",
       "      <td>moveis_decoracao</td>\n",
       "      <td>furniture_decor</td>\n",
       "    </tr>\n",
       "  </tbody>\n",
       "</table>\n",
       "</div>"
      ],
      "text/plain": [
       "    product_category_name product_category_name_english\n",
       "0            beleza_saude                 health_beauty\n",
       "1  informatica_acessorios         computers_accessories\n",
       "2              automotivo                          auto\n",
       "3         cama_mesa_banho                bed_bath_table\n",
       "4        moveis_decoracao               furniture_decor"
      ]
     },
     "execution_count": 237,
     "metadata": {},
     "output_type": "execute_result"
    }
   ],
   "source": [
    "df_prod_cat.head()"
   ]
  },
  {
   "cell_type": "code",
   "execution_count": 238,
   "id": "d35fe699",
   "metadata": {},
   "outputs": [
    {
     "data": {
      "text/plain": [
       "(71, 2)"
      ]
     },
     "execution_count": 238,
     "metadata": {},
     "output_type": "execute_result"
    }
   ],
   "source": [
    "df_prod_cat.shape"
   ]
  },
  {
   "cell_type": "code",
   "execution_count": 239,
   "id": "2a552b23",
   "metadata": {},
   "outputs": [
    {
     "data": {
      "text/plain": [
       "73"
      ]
     },
     "execution_count": 239,
     "metadata": {},
     "output_type": "execute_result"
    }
   ],
   "source": [
    "df_products['product_category_name'].nunique()"
   ]
  },
  {
   "cell_type": "markdown",
   "id": "c9960471",
   "metadata": {},
   "source": [
    "Two categories do not have a translation. The original names can be used in place."
   ]
  },
  {
   "cell_type": "code",
   "execution_count": 240,
   "id": "59cb41ec",
   "metadata": {},
   "outputs": [
    {
     "data": {
      "text/plain": [
       "98666"
      ]
     },
     "execution_count": 240,
     "metadata": {},
     "output_type": "execute_result"
    }
   ],
   "source": [
    "df_order_items['order_id'].nunique()"
   ]
  },
  {
   "cell_type": "code",
   "execution_count": 241,
   "id": "2027938a",
   "metadata": {},
   "outputs": [
    {
     "data": {
      "text/plain": [
       "99441"
      ]
     },
     "execution_count": 241,
     "metadata": {},
     "output_type": "execute_result"
    }
   ],
   "source": [
    "df_orders['order_id'].nunique()"
   ]
  },
  {
   "cell_type": "markdown",
   "id": "d7247d66",
   "metadata": {},
   "source": [
    "Some orders do not have an item and these can be ignored."
   ]
  },
  {
   "cell_type": "code",
   "execution_count": 242,
   "id": "99f3becc",
   "metadata": {},
   "outputs": [
    {
     "data": {
      "text/plain": [
       "99440"
      ]
     },
     "execution_count": 242,
     "metadata": {},
     "output_type": "execute_result"
    }
   ],
   "source": [
    "df_order_pmts['order_id'].nunique()"
   ]
  },
  {
   "cell_type": "markdown",
   "id": "f4e15fbd",
   "metadata": {},
   "source": [
    "#### Exploring the data visually"
   ]
  },
  {
   "cell_type": "code",
   "execution_count": 249,
   "id": "bb93d57c",
   "metadata": {},
   "outputs": [
    {
     "data": {
      "image/png": "[encoded data removed]",
      "text/plain": [
       "<Figure size 1200x800 with 1 Axes>"
      ]
     },
     "metadata": {},
     "output_type": "display_data"
    }
   ],
   "source": [
    "# Customer state\n",
    "plt.figure(figsize=(12, 8))\n",
    "ax3 = sns.countplot(data = df_cust, x = 'customer_state')\n",
    "plt.xticks(rotation=45)\n",
    "plt.show()"
   ]
  },
  {
   "cell_type": "markdown",
   "id": "6f39fc5a",
   "metadata": {},
   "source": [
    "Almost half the customers are from one state, Sao Paolo."
   ]
  },
  {
   "cell_type": "code",
   "execution_count": 250,
   "id": "a752ad4d",
   "metadata": {},
   "outputs": [
    {
     "data": {
      "image/png": "[encoded data removed]",
      "text/plain": [
       "<Figure size 1200x800 with 1 Axes>"
      ]
     },
     "metadata": {},
     "output_type": "display_data"
    }
   ],
   "source": [
    "# Order status\n",
    "plt.figure(figsize=(12, 8))\n",
    "ax3 = sns.countplot(data = df_orders, x = 'order_status')\n",
    "plt.xticks(rotation=45)\n",
    "plt.show()"
   ]
  },
  {
   "cell_type": "code",
   "execution_count": 251,
   "id": "9f8d0ae9",
   "metadata": {},
   "outputs": [
    {
     "data": {
      "text/plain": [
       "order_status\n",
       "approved           2\n",
       "canceled         625\n",
       "created            5\n",
       "delivered      96478\n",
       "invoiced         314\n",
       "processing       301\n",
       "shipped         1107\n",
       "unavailable      609\n",
       "dtype: int64"
      ]
     },
     "execution_count": 251,
     "metadata": {},
     "output_type": "execute_result"
    }
   ],
   "source": [
    "df_orders.groupby('order_status').size()"
   ]
  },
  {
   "cell_type": "code",
   "execution_count": 252,
   "id": "b859fc96",
   "metadata": {},
   "outputs": [
    {
     "data": {
      "text/plain": [
       "order_status\n",
       "approved        0.002011\n",
       "canceled        0.628513\n",
       "created         0.005028\n",
       "delivered      97.020344\n",
       "invoiced        0.315765\n",
       "processing      0.302692\n",
       "shipped         1.113223\n",
       "unavailable     0.612423\n",
       "dtype: float64"
      ]
     },
     "execution_count": 252,
     "metadata": {},
     "output_type": "execute_result"
    }
   ],
   "source": [
    "df_orders.groupby('order_status').size().apply(lambda x: 100 * x / df_orders.shape[0])"
   ]
  },
  {
   "cell_type": "markdown",
   "id": "6755c1a8",
   "metadata": {},
   "source": [
    "Almost all the orders are delivered, with very few cancels."
   ]
  },
  {
   "cell_type": "code",
   "execution_count": 253,
   "id": "4a8ae7ef",
   "metadata": {},
   "outputs": [
    {
     "data": {
      "text/plain": [
       "<Axes: xlabel='price', ylabel='Count'>"
      ]
     },
     "execution_count": 253,
     "metadata": {},
     "output_type": "execute_result"
    },
    {
     "data": {
      "image/png": "[encoded data removed]",
      "text/plain": [
       "<Figure size 640x480 with 1 Axes>"
      ]
     },
     "metadata": {},
     "output_type": "display_data"
    }
   ],
   "source": [
    "# Order item price distribution\n",
    "sns.histplot(data=df_order_items, x='price')"
   ]
  },
  {
   "cell_type": "code",
   "execution_count": 254,
   "id": "9ebc764f",
   "metadata": {},
   "outputs": [
    {
     "data": {
      "text/plain": [
       "<Axes: xlabel='price', ylabel='Count'>"
      ]
     },
     "execution_count": 254,
     "metadata": {},
     "output_type": "execute_result"
    },
    {
     "data": {
      "image/png": "[encoded data removed]",
      "text/plain": [
       "<Figure size 640x480 with 1 Axes>"
      ]
     },
     "metadata": {},
     "output_type": "display_data"
    }
   ],
   "source": [
    "sns.histplot(data = df_order_items.query('price <= 1000'), x = 'price')"
   ]
  },
  {
   "cell_type": "code",
   "execution_count": 255,
   "id": "aa00e105",
   "metadata": {},
   "outputs": [
    {
     "data": {
      "text/plain": [
       "<Axes: xlabel='price'>"
      ]
     },
     "execution_count": 255,
     "metadata": {},
     "output_type": "execute_result"
    },
    {
     "data": {
      "image/png": "[encoded data removed]",
      "text/plain": [
       "<Figure size 640x480 with 1 Axes>"
      ]
     },
     "metadata": {},
     "output_type": "display_data"
    }
   ],
   "source": [
    "sns.boxplot(data=df_order_items, x='price')"
   ]
  },
  {
   "cell_type": "markdown",
   "id": "a31be234",
   "metadata": {},
   "source": [
    "Most items are less than R$ 200."
   ]
  },
  {
   "cell_type": "code",
   "execution_count": 39,
   "id": "5367a3c4",
   "metadata": {},
   "outputs": [
    {
     "data": {
      "text/plain": [
       "<Axes: xlabel='freight_value', ylabel='Count'>"
      ]
     },
     "execution_count": 39,
     "metadata": {},
     "output_type": "execute_result"
    },
    {
     "data": {
      "image/png": "[encoded data removed]",
      "text/plain": [
       "<Figure size 640x480 with 1 Axes>"
      ]
     },
     "metadata": {},
     "output_type": "display_data"
    }
   ],
   "source": [
    "# Order freight price distribution\n",
    "sns.histplot(data=df_order_items, x='freight_value')"
   ]
  },
  {
   "cell_type": "code",
   "execution_count": 40,
   "id": "f39074ac",
   "metadata": {},
   "outputs": [
    {
     "data": {
      "text/plain": [
       "<Axes: xlabel='freight_value', ylabel='Count'>"
      ]
     },
     "execution_count": 40,
     "metadata": {},
     "output_type": "execute_result"
    },
    {
     "data": {
      "image/png": "[encoded data removed]",
      "text/plain": [
       "<Figure size 640x480 with 1 Axes>"
      ]
     },
     "metadata": {},
     "output_type": "display_data"
    }
   ],
   "source": [
    "sns.histplot(data = df_order_items.query('freight_value <= 100'), x = 'freight_value')"
   ]
  },
  {
   "cell_type": "code",
   "execution_count": 256,
   "id": "4e79ebe0",
   "metadata": {},
   "outputs": [
    {
     "data": {
      "text/plain": [
       "<Axes: xlabel='freight_value'>"
      ]
     },
     "execution_count": 256,
     "metadata": {},
     "output_type": "execute_result"
    },
    {
     "data": {
      "image/png": "[encoded data removed]",
      "text/plain": [
       "<Figure size 640x480 with 1 Axes>"
      ]
     },
     "metadata": {},
     "output_type": "display_data"
    }
   ],
   "source": [
    "sns.boxplot(data=df_order_items, x='freight_value')"
   ]
  },
  {
   "cell_type": "markdown",
   "id": "53b8d394",
   "metadata": {},
   "source": [
    "Most items cost less than R$ 40 for shipping."
   ]
  },
  {
   "cell_type": "code",
   "execution_count": 263,
   "id": "263f0c8e",
   "metadata": {},
   "outputs": [
    {
     "data": {
      "text/html": [
       "<div>\n",
       "<style scoped>\n",
       "    .dataframe tbody tr th:only-of-type {\n",
       "        vertical-align: middle;\n",
       "    }\n",
       "\n",
       "    .dataframe tbody tr th {\n",
       "        vertical-align: top;\n",
       "    }\n",
       "\n",
       "    .dataframe thead th {\n",
       "        text-align: right;\n",
       "    }\n",
       "</style>\n",
       "<table border=\"1\" class=\"dataframe\">\n",
       "  <thead>\n",
       "    <tr style=\"text-align: right;\">\n",
       "      <th></th>\n",
       "      <th>product_id</th>\n",
       "      <th>product_category_name</th>\n",
       "      <th>product_name_lenght</th>\n",
       "      <th>product_description_lenght</th>\n",
       "      <th>product_photos_qty</th>\n",
       "      <th>product_weight_g</th>\n",
       "      <th>product_length_cm</th>\n",
       "      <th>product_height_cm</th>\n",
       "      <th>product_width_cm</th>\n",
       "      <th>product_category_name_english</th>\n",
       "    </tr>\n",
       "  </thead>\n",
       "  <tbody>\n",
       "    <tr>\n",
       "      <th>0</th>\n",
       "      <td>1e9e8ef04dbcff4541ed26657ea517e5</td>\n",
       "      <td>perfumaria</td>\n",
       "      <td>40.0</td>\n",
       "      <td>287.0</td>\n",
       "      <td>1.0</td>\n",
       "      <td>225.0</td>\n",
       "      <td>16.0</td>\n",
       "      <td>10.0</td>\n",
       "      <td>14.0</td>\n",
       "      <td>perfumery</td>\n",
       "    </tr>\n",
       "    <tr>\n",
       "      <th>1</th>\n",
       "      <td>3aa071139cb16b67ca9e5dea641aaa2f</td>\n",
       "      <td>artes</td>\n",
       "      <td>44.0</td>\n",
       "      <td>276.0</td>\n",
       "      <td>1.0</td>\n",
       "      <td>1000.0</td>\n",
       "      <td>30.0</td>\n",
       "      <td>18.0</td>\n",
       "      <td>20.0</td>\n",
       "      <td>art</td>\n",
       "    </tr>\n",
       "    <tr>\n",
       "      <th>2</th>\n",
       "      <td>96bd76ec8810374ed1b65e291975717f</td>\n",
       "      <td>esporte_lazer</td>\n",
       "      <td>46.0</td>\n",
       "      <td>250.0</td>\n",
       "      <td>1.0</td>\n",
       "      <td>154.0</td>\n",
       "      <td>18.0</td>\n",
       "      <td>9.0</td>\n",
       "      <td>15.0</td>\n",
       "      <td>sports_leisure</td>\n",
       "    </tr>\n",
       "    <tr>\n",
       "      <th>3</th>\n",
       "      <td>cef67bcfe19066a932b7673e239eb23d</td>\n",
       "      <td>bebes</td>\n",
       "      <td>27.0</td>\n",
       "      <td>261.0</td>\n",
       "      <td>1.0</td>\n",
       "      <td>371.0</td>\n",
       "      <td>26.0</td>\n",
       "      <td>4.0</td>\n",
       "      <td>26.0</td>\n",
       "      <td>baby</td>\n",
       "    </tr>\n",
       "    <tr>\n",
       "      <th>4</th>\n",
       "      <td>9dc1a7de274444849c219cff195d0b71</td>\n",
       "      <td>utilidades_domesticas</td>\n",
       "      <td>37.0</td>\n",
       "      <td>402.0</td>\n",
       "      <td>4.0</td>\n",
       "      <td>625.0</td>\n",
       "      <td>20.0</td>\n",
       "      <td>17.0</td>\n",
       "      <td>13.0</td>\n",
       "      <td>housewares</td>\n",
       "    </tr>\n",
       "    <tr>\n",
       "      <th>...</th>\n",
       "      <td>...</td>\n",
       "      <td>...</td>\n",
       "      <td>...</td>\n",
       "      <td>...</td>\n",
       "      <td>...</td>\n",
       "      <td>...</td>\n",
       "      <td>...</td>\n",
       "      <td>...</td>\n",
       "      <td>...</td>\n",
       "      <td>...</td>\n",
       "    </tr>\n",
       "    <tr>\n",
       "      <th>32946</th>\n",
       "      <td>a0b7d5a992ccda646f2d34e418fff5a0</td>\n",
       "      <td>moveis_decoracao</td>\n",
       "      <td>45.0</td>\n",
       "      <td>67.0</td>\n",
       "      <td>2.0</td>\n",
       "      <td>12300.0</td>\n",
       "      <td>40.0</td>\n",
       "      <td>40.0</td>\n",
       "      <td>40.0</td>\n",
       "      <td>furniture_decor</td>\n",
       "    </tr>\n",
       "    <tr>\n",
       "      <th>32947</th>\n",
       "      <td>bf4538d88321d0fd4412a93c974510e6</td>\n",
       "      <td>construcao_ferramentas_iluminacao</td>\n",
       "      <td>41.0</td>\n",
       "      <td>971.0</td>\n",
       "      <td>1.0</td>\n",
       "      <td>1700.0</td>\n",
       "      <td>16.0</td>\n",
       "      <td>19.0</td>\n",
       "      <td>16.0</td>\n",
       "      <td>construction_tools_lights</td>\n",
       "    </tr>\n",
       "    <tr>\n",
       "      <th>32948</th>\n",
       "      <td>9a7c6041fa9592d9d9ef6cfe62a71f8c</td>\n",
       "      <td>cama_mesa_banho</td>\n",
       "      <td>50.0</td>\n",
       "      <td>799.0</td>\n",
       "      <td>1.0</td>\n",
       "      <td>1400.0</td>\n",
       "      <td>27.0</td>\n",
       "      <td>7.0</td>\n",
       "      <td>27.0</td>\n",
       "      <td>bed_bath_table</td>\n",
       "    </tr>\n",
       "    <tr>\n",
       "      <th>32949</th>\n",
       "      <td>83808703fc0706a22e264b9d75f04a2e</td>\n",
       "      <td>informatica_acessorios</td>\n",
       "      <td>60.0</td>\n",
       "      <td>156.0</td>\n",
       "      <td>2.0</td>\n",
       "      <td>700.0</td>\n",
       "      <td>31.0</td>\n",
       "      <td>13.0</td>\n",
       "      <td>20.0</td>\n",
       "      <td>computers_accessories</td>\n",
       "    </tr>\n",
       "    <tr>\n",
       "      <th>32950</th>\n",
       "      <td>106392145fca363410d287a815be6de4</td>\n",
       "      <td>cama_mesa_banho</td>\n",
       "      <td>58.0</td>\n",
       "      <td>309.0</td>\n",
       "      <td>1.0</td>\n",
       "      <td>2083.0</td>\n",
       "      <td>12.0</td>\n",
       "      <td>2.0</td>\n",
       "      <td>7.0</td>\n",
       "      <td>bed_bath_table</td>\n",
       "    </tr>\n",
       "  </tbody>\n",
       "</table>\n",
       "<p>32951 rows × 10 columns</p>\n",
       "</div>"
      ],
      "text/plain": [
       "                             product_id              product_category_name  \\\n",
       "0      1e9e8ef04dbcff4541ed26657ea517e5                         perfumaria   \n",
       "1      3aa071139cb16b67ca9e5dea641aaa2f                              artes   \n",
       "2      96bd76ec8810374ed1b65e291975717f                      esporte_lazer   \n",
       "3      cef67bcfe19066a932b7673e239eb23d                              bebes   \n",
       "4      9dc1a7de274444849c219cff195d0b71              utilidades_domesticas   \n",
       "...                                 ...                                ...   \n",
       "32946  a0b7d5a992ccda646f2d34e418fff5a0                   moveis_decoracao   \n",
       "32947  bf4538d88321d0fd4412a93c974510e6  construcao_ferramentas_iluminacao   \n",
       "32948  9a7c6041fa9592d9d9ef6cfe62a71f8c                    cama_mesa_banho   \n",
       "32949  83808703fc0706a22e264b9d75f04a2e             informatica_acessorios   \n",
       "32950  106392145fca363410d287a815be6de4                    cama_mesa_banho   \n",
       "\n",
       "       product_name_lenght  product_description_lenght  product_photos_qty  \\\n",
       "0                     40.0                       287.0                 1.0   \n",
       "1                     44.0                       276.0                 1.0   \n",
       "2                     46.0                       250.0                 1.0   \n",
       "3                     27.0                       261.0                 1.0   \n",
       "4                     37.0                       402.0                 4.0   \n",
       "...                    ...                         ...                 ...   \n",
       "32946                 45.0                        67.0                 2.0   \n",
       "32947                 41.0                       971.0                 1.0   \n",
       "32948                 50.0                       799.0                 1.0   \n",
       "32949                 60.0                       156.0                 2.0   \n",
       "32950                 58.0                       309.0                 1.0   \n",
       "\n",
       "       product_weight_g  product_length_cm  product_height_cm  \\\n",
       "0                 225.0               16.0               10.0   \n",
       "1                1000.0               30.0               18.0   \n",
       "2                 154.0               18.0                9.0   \n",
       "3                 371.0               26.0                4.0   \n",
       "4                 625.0               20.0               17.0   \n",
       "...                 ...                ...                ...   \n",
       "32946           12300.0               40.0               40.0   \n",
       "32947            1700.0               16.0               19.0   \n",
       "32948            1400.0               27.0                7.0   \n",
       "32949             700.0               31.0               13.0   \n",
       "32950            2083.0               12.0                2.0   \n",
       "\n",
       "       product_width_cm product_category_name_english  \n",
       "0                  14.0                     perfumery  \n",
       "1                  20.0                           art  \n",
       "2                  15.0                sports_leisure  \n",
       "3                  26.0                          baby  \n",
       "4                  13.0                    housewares  \n",
       "...                 ...                           ...  \n",
       "32946              40.0               furniture_decor  \n",
       "32947              16.0     construction_tools_lights  \n",
       "32948              27.0                bed_bath_table  \n",
       "32949              20.0         computers_accessories  \n",
       "32950               7.0                bed_bath_table  \n",
       "\n",
       "[32951 rows x 10 columns]"
      ]
     },
     "execution_count": 263,
     "metadata": {},
     "output_type": "execute_result"
    }
   ],
   "source": [
    "# Combine products with product category name translation\n",
    "df_prod_w_cat = df_products.merge(df_prod_cat, on='product_category_name', how='left')\n",
    "df_prod_w_cat"
   ]
  },
  {
   "cell_type": "code",
   "execution_count": 264,
   "id": "a8a0fb2e",
   "metadata": {},
   "outputs": [
    {
     "data": {
      "text/plain": [
       "71"
      ]
     },
     "execution_count": 264,
     "metadata": {},
     "output_type": "execute_result"
    }
   ],
   "source": [
    "df_prod_w_cat['product_category_name_english'].nunique()"
   ]
  },
  {
   "cell_type": "code",
   "execution_count": 265,
   "id": "09c64ee1",
   "metadata": {},
   "outputs": [],
   "source": [
    "# For the two missing translations, use the original category name\n",
    "df_prod_w_cat['product_category_name_english'].fillna(df_prod_w_cat['product_category_name'], inplace=True)"
   ]
  },
  {
   "cell_type": "code",
   "execution_count": 266,
   "id": "ec89bfeb",
   "metadata": {},
   "outputs": [
    {
     "data": {
      "text/plain": [
       "73"
      ]
     },
     "execution_count": 266,
     "metadata": {},
     "output_type": "execute_result"
    }
   ],
   "source": [
    "df_prod_w_cat['product_category_name_english'].nunique()"
   ]
  },
  {
   "cell_type": "code",
   "execution_count": 267,
   "id": "46209c2f",
   "metadata": {},
   "outputs": [
    {
     "data": {
      "text/html": [
       "<div>\n",
       "<style scoped>\n",
       "    .dataframe tbody tr th:only-of-type {\n",
       "        vertical-align: middle;\n",
       "    }\n",
       "\n",
       "    .dataframe tbody tr th {\n",
       "        vertical-align: top;\n",
       "    }\n",
       "\n",
       "    .dataframe thead th {\n",
       "        text-align: right;\n",
       "    }\n",
       "</style>\n",
       "<table border=\"1\" class=\"dataframe\">\n",
       "  <thead>\n",
       "    <tr style=\"text-align: right;\">\n",
       "      <th></th>\n",
       "      <th>product_id</th>\n",
       "      <th>product_category_name</th>\n",
       "      <th>product_name_lenght</th>\n",
       "      <th>product_description_lenght</th>\n",
       "      <th>product_photos_qty</th>\n",
       "      <th>product_weight_g</th>\n",
       "      <th>product_length_cm</th>\n",
       "      <th>product_height_cm</th>\n",
       "      <th>product_width_cm</th>\n",
       "      <th>category</th>\n",
       "    </tr>\n",
       "  </thead>\n",
       "  <tbody>\n",
       "    <tr>\n",
       "      <th>0</th>\n",
       "      <td>1e9e8ef04dbcff4541ed26657ea517e5</td>\n",
       "      <td>perfumaria</td>\n",
       "      <td>40.0</td>\n",
       "      <td>287.0</td>\n",
       "      <td>1.0</td>\n",
       "      <td>225.0</td>\n",
       "      <td>16.0</td>\n",
       "      <td>10.0</td>\n",
       "      <td>14.0</td>\n",
       "      <td>perfumery</td>\n",
       "    </tr>\n",
       "    <tr>\n",
       "      <th>1</th>\n",
       "      <td>3aa071139cb16b67ca9e5dea641aaa2f</td>\n",
       "      <td>artes</td>\n",
       "      <td>44.0</td>\n",
       "      <td>276.0</td>\n",
       "      <td>1.0</td>\n",
       "      <td>1000.0</td>\n",
       "      <td>30.0</td>\n",
       "      <td>18.0</td>\n",
       "      <td>20.0</td>\n",
       "      <td>art</td>\n",
       "    </tr>\n",
       "    <tr>\n",
       "      <th>2</th>\n",
       "      <td>96bd76ec8810374ed1b65e291975717f</td>\n",
       "      <td>esporte_lazer</td>\n",
       "      <td>46.0</td>\n",
       "      <td>250.0</td>\n",
       "      <td>1.0</td>\n",
       "      <td>154.0</td>\n",
       "      <td>18.0</td>\n",
       "      <td>9.0</td>\n",
       "      <td>15.0</td>\n",
       "      <td>sports_leisure</td>\n",
       "    </tr>\n",
       "    <tr>\n",
       "      <th>3</th>\n",
       "      <td>cef67bcfe19066a932b7673e239eb23d</td>\n",
       "      <td>bebes</td>\n",
       "      <td>27.0</td>\n",
       "      <td>261.0</td>\n",
       "      <td>1.0</td>\n",
       "      <td>371.0</td>\n",
       "      <td>26.0</td>\n",
       "      <td>4.0</td>\n",
       "      <td>26.0</td>\n",
       "      <td>baby</td>\n",
       "    </tr>\n",
       "    <tr>\n",
       "      <th>4</th>\n",
       "      <td>9dc1a7de274444849c219cff195d0b71</td>\n",
       "      <td>utilidades_domesticas</td>\n",
       "      <td>37.0</td>\n",
       "      <td>402.0</td>\n",
       "      <td>4.0</td>\n",
       "      <td>625.0</td>\n",
       "      <td>20.0</td>\n",
       "      <td>17.0</td>\n",
       "      <td>13.0</td>\n",
       "      <td>housewares</td>\n",
       "    </tr>\n",
       "  </tbody>\n",
       "</table>\n",
       "</div>"
      ],
      "text/plain": [
       "                         product_id  product_category_name  \\\n",
       "0  1e9e8ef04dbcff4541ed26657ea517e5             perfumaria   \n",
       "1  3aa071139cb16b67ca9e5dea641aaa2f                  artes   \n",
       "2  96bd76ec8810374ed1b65e291975717f          esporte_lazer   \n",
       "3  cef67bcfe19066a932b7673e239eb23d                  bebes   \n",
       "4  9dc1a7de274444849c219cff195d0b71  utilidades_domesticas   \n",
       "\n",
       "   product_name_lenght  product_description_lenght  product_photos_qty  \\\n",
       "0                 40.0                       287.0                 1.0   \n",
       "1                 44.0                       276.0                 1.0   \n",
       "2                 46.0                       250.0                 1.0   \n",
       "3                 27.0                       261.0                 1.0   \n",
       "4                 37.0                       402.0                 4.0   \n",
       "\n",
       "   product_weight_g  product_length_cm  product_height_cm  product_width_cm  \\\n",
       "0             225.0               16.0               10.0              14.0   \n",
       "1            1000.0               30.0               18.0              20.0   \n",
       "2             154.0               18.0                9.0              15.0   \n",
       "3             371.0               26.0                4.0              26.0   \n",
       "4             625.0               20.0               17.0              13.0   \n",
       "\n",
       "         category  \n",
       "0       perfumery  \n",
       "1             art  \n",
       "2  sports_leisure  \n",
       "3            baby  \n",
       "4      housewares  "
      ]
     },
     "execution_count": 267,
     "metadata": {},
     "output_type": "execute_result"
    }
   ],
   "source": [
    "df_prod_w_cat.rename(columns={'product_category_name_english': 'category'}, inplace=True)\n",
    "df_prod_w_cat.head()"
   ]
  },
  {
   "cell_type": "code",
   "execution_count": 268,
   "id": "8a8a6b75",
   "metadata": {},
   "outputs": [],
   "source": [
    "# Combine order item and product dataframes\n",
    "df_order_items_product = df_order_items.merge(df_prod_w_cat, on='product_id', how='inner')"
   ]
  },
  {
   "cell_type": "code",
   "execution_count": 269,
   "id": "4e2daab7",
   "metadata": {},
   "outputs": [
    {
     "data": {
      "text/html": [
       "<div>\n",
       "<style scoped>\n",
       "    .dataframe tbody tr th:only-of-type {\n",
       "        vertical-align: middle;\n",
       "    }\n",
       "\n",
       "    .dataframe tbody tr th {\n",
       "        vertical-align: top;\n",
       "    }\n",
       "\n",
       "    .dataframe thead th {\n",
       "        text-align: right;\n",
       "    }\n",
       "</style>\n",
       "<table border=\"1\" class=\"dataframe\">\n",
       "  <thead>\n",
       "    <tr style=\"text-align: right;\">\n",
       "      <th></th>\n",
       "      <th>order_id</th>\n",
       "      <th>order_item_id</th>\n",
       "      <th>product_id</th>\n",
       "      <th>seller_id</th>\n",
       "      <th>shipping_limit_date</th>\n",
       "      <th>price</th>\n",
       "      <th>freight_value</th>\n",
       "      <th>product_category_name</th>\n",
       "      <th>product_name_lenght</th>\n",
       "      <th>product_description_lenght</th>\n",
       "      <th>product_photos_qty</th>\n",
       "      <th>product_weight_g</th>\n",
       "      <th>product_length_cm</th>\n",
       "      <th>product_height_cm</th>\n",
       "      <th>product_width_cm</th>\n",
       "      <th>category</th>\n",
       "    </tr>\n",
       "  </thead>\n",
       "  <tbody>\n",
       "    <tr>\n",
       "      <th>112645</th>\n",
       "      <td>ffebd80e3291e811c308365936897efd</td>\n",
       "      <td>1</td>\n",
       "      <td>4cc4d02efc8f249c13355147fb44e34d</td>\n",
       "      <td>d1c7fa84e48cfa21a0e595167c1c500e</td>\n",
       "      <td>2018-07-18 20:23:55</td>\n",
       "      <td>129.9</td>\n",
       "      <td>51.20</td>\n",
       "      <td>ferramentas_jardim</td>\n",
       "      <td>37.0</td>\n",
       "      <td>653.0</td>\n",
       "      <td>1.0</td>\n",
       "      <td>6700.0</td>\n",
       "      <td>35.0</td>\n",
       "      <td>12.0</td>\n",
       "      <td>22.0</td>\n",
       "      <td>garden_tools</td>\n",
       "    </tr>\n",
       "    <tr>\n",
       "      <th>112646</th>\n",
       "      <td>ffee31fb4b5e35c9123608015637c495</td>\n",
       "      <td>1</td>\n",
       "      <td>b10ecf8e33aaaea419a9fa860ea80fb5</td>\n",
       "      <td>0241d4d5d36f10f80c644447315af0bd</td>\n",
       "      <td>2018-08-21 10:10:11</td>\n",
       "      <td>99.0</td>\n",
       "      <td>13.52</td>\n",
       "      <td>moveis_decoracao</td>\n",
       "      <td>30.0</td>\n",
       "      <td>308.0</td>\n",
       "      <td>1.0</td>\n",
       "      <td>2300.0</td>\n",
       "      <td>37.0</td>\n",
       "      <td>30.0</td>\n",
       "      <td>20.0</td>\n",
       "      <td>furniture_decor</td>\n",
       "    </tr>\n",
       "    <tr>\n",
       "      <th>112647</th>\n",
       "      <td>fff7c4452f050315db1b3f24d9df5fcd</td>\n",
       "      <td>1</td>\n",
       "      <td>dd469c03ad67e201bc2179ef077dcd48</td>\n",
       "      <td>7e93a43ef30c4f03f38b393420bc753a</td>\n",
       "      <td>2017-06-07 17:05:23</td>\n",
       "      <td>736.0</td>\n",
       "      <td>20.91</td>\n",
       "      <td>relogios_presentes</td>\n",
       "      <td>33.0</td>\n",
       "      <td>658.0</td>\n",
       "      <td>3.0</td>\n",
       "      <td>400.0</td>\n",
       "      <td>19.0</td>\n",
       "      <td>9.0</td>\n",
       "      <td>15.0</td>\n",
       "      <td>watches_gifts</td>\n",
       "    </tr>\n",
       "    <tr>\n",
       "      <th>112648</th>\n",
       "      <td>fffa82886406ccf10c7b4e35c4ff2788</td>\n",
       "      <td>1</td>\n",
       "      <td>bbe7651fef80287a816ead73f065fc4b</td>\n",
       "      <td>8f2ce03f928b567e3d56181ae20ae952</td>\n",
       "      <td>2017-12-22 17:31:42</td>\n",
       "      <td>229.9</td>\n",
       "      <td>44.02</td>\n",
       "      <td>esporte_lazer</td>\n",
       "      <td>32.0</td>\n",
       "      <td>280.0</td>\n",
       "      <td>2.0</td>\n",
       "      <td>2700.0</td>\n",
       "      <td>60.0</td>\n",
       "      <td>15.0</td>\n",
       "      <td>15.0</td>\n",
       "      <td>sports_leisure</td>\n",
       "    </tr>\n",
       "    <tr>\n",
       "      <th>112649</th>\n",
       "      <td>fffe41c64501cc87c801fd61db3f6244</td>\n",
       "      <td>1</td>\n",
       "      <td>350688d9dc1e75ff97be326363655e01</td>\n",
       "      <td>f7ccf836d21b2fb1de37564105216cc1</td>\n",
       "      <td>2018-06-12 17:10:13</td>\n",
       "      <td>43.0</td>\n",
       "      <td>12.79</td>\n",
       "      <td>cama_mesa_banho</td>\n",
       "      <td>47.0</td>\n",
       "      <td>511.0</td>\n",
       "      <td>1.0</td>\n",
       "      <td>600.0</td>\n",
       "      <td>30.0</td>\n",
       "      <td>3.0</td>\n",
       "      <td>19.0</td>\n",
       "      <td>bed_bath_table</td>\n",
       "    </tr>\n",
       "  </tbody>\n",
       "</table>\n",
       "</div>"
      ],
      "text/plain": [
       "                                order_id  order_item_id  \\\n",
       "112645  ffebd80e3291e811c308365936897efd              1   \n",
       "112646  ffee31fb4b5e35c9123608015637c495              1   \n",
       "112647  fff7c4452f050315db1b3f24d9df5fcd              1   \n",
       "112648  fffa82886406ccf10c7b4e35c4ff2788              1   \n",
       "112649  fffe41c64501cc87c801fd61db3f6244              1   \n",
       "\n",
       "                              product_id                         seller_id  \\\n",
       "112645  4cc4d02efc8f249c13355147fb44e34d  d1c7fa84e48cfa21a0e595167c1c500e   \n",
       "112646  b10ecf8e33aaaea419a9fa860ea80fb5  0241d4d5d36f10f80c644447315af0bd   \n",
       "112647  dd469c03ad67e201bc2179ef077dcd48  7e93a43ef30c4f03f38b393420bc753a   \n",
       "112648  bbe7651fef80287a816ead73f065fc4b  8f2ce03f928b567e3d56181ae20ae952   \n",
       "112649  350688d9dc1e75ff97be326363655e01  f7ccf836d21b2fb1de37564105216cc1   \n",
       "\n",
       "        shipping_limit_date  price  freight_value product_category_name  \\\n",
       "112645  2018-07-18 20:23:55  129.9          51.20    ferramentas_jardim   \n",
       "112646  2018-08-21 10:10:11   99.0          13.52      moveis_decoracao   \n",
       "112647  2017-06-07 17:05:23  736.0          20.91    relogios_presentes   \n",
       "112648  2017-12-22 17:31:42  229.9          44.02         esporte_lazer   \n",
       "112649  2018-06-12 17:10:13   43.0          12.79       cama_mesa_banho   \n",
       "\n",
       "        product_name_lenght  product_description_lenght  product_photos_qty  \\\n",
       "112645                 37.0                       653.0                 1.0   \n",
       "112646                 30.0                       308.0                 1.0   \n",
       "112647                 33.0                       658.0                 3.0   \n",
       "112648                 32.0                       280.0                 2.0   \n",
       "112649                 47.0                       511.0                 1.0   \n",
       "\n",
       "        product_weight_g  product_length_cm  product_height_cm  \\\n",
       "112645            6700.0               35.0               12.0   \n",
       "112646            2300.0               37.0               30.0   \n",
       "112647             400.0               19.0                9.0   \n",
       "112648            2700.0               60.0               15.0   \n",
       "112649             600.0               30.0                3.0   \n",
       "\n",
       "        product_width_cm         category  \n",
       "112645              22.0     garden_tools  \n",
       "112646              20.0  furniture_decor  \n",
       "112647              15.0    watches_gifts  \n",
       "112648              15.0   sports_leisure  \n",
       "112649              19.0   bed_bath_table  "
      ]
     },
     "execution_count": 269,
     "metadata": {},
     "output_type": "execute_result"
    }
   ],
   "source": [
    "df_order_items_product.tail()"
   ]
  },
  {
   "cell_type": "code",
   "execution_count": 270,
   "id": "e0027e33",
   "metadata": {},
   "outputs": [],
   "source": [
    "# Get the top 25 categories\n",
    "top_categories = df_order_items_product['category'].value_counts().index[:25]"
   ]
  },
  {
   "cell_type": "code",
   "execution_count": 271,
   "id": "d20ce29f",
   "metadata": {},
   "outputs": [],
   "source": [
    "# Filter dataframe to include only the top 25 categories\n",
    "df_top_categories = df_order_items_product[df_order_items_product['category'].isin(top_categories)]"
   ]
  },
  {
   "cell_type": "code",
   "execution_count": 272,
   "id": "4d2b7acf",
   "metadata": {},
   "outputs": [
    {
     "data": {
      "image/png": "[encoded data removed]",
      "text/plain": [
       "<Figure size 1000x800 with 1 Axes>"
      ]
     },
     "metadata": {},
     "output_type": "display_data"
    }
   ],
   "source": [
    "plt.figure(figsize=(10, 8))\n",
    "sns.countplot(data=df_top_categories, y='category', order=top_categories, palette='viridis')\n",
    "plt.title('Top 25 Categories by Count')\n",
    "plt.xlabel('Count')\n",
    "plt.ylabel('Category')\n",
    "plt.show()"
   ]
  },
  {
   "cell_type": "markdown",
   "id": "1018d2f7",
   "metadata": {},
   "source": [
    "Majority of the sales come from the top 20 categories. The rest can be combined into an 'other' category for analysis."
   ]
  },
  {
   "cell_type": "code",
   "execution_count": 273,
   "id": "a0a5430a",
   "metadata": {},
   "outputs": [
    {
     "data": {
      "image/png": "[encoded data removed]",
      "text/plain": [
       "<Figure size 1200x800 with 1 Axes>"
      ]
     },
     "metadata": {},
     "output_type": "display_data"
    }
   ],
   "source": [
    "# Order payments\n",
    "plt.figure(figsize=(12, 8))\n",
    "ax3 = sns.countplot(data = df_order_pmts, x = 'payment_type')\n",
    "plt.xticks(rotation=45)\n",
    "plt.show()"
   ]
  },
  {
   "cell_type": "code",
   "execution_count": 274,
   "id": "8bd564ab",
   "metadata": {},
   "outputs": [
    {
     "data": {
      "image/png": "[encoded data removed]",
      "text/plain": [
       "<Figure size 1200x800 with 1 Axes>"
      ]
     },
     "metadata": {},
     "output_type": "display_data"
    }
   ],
   "source": [
    "plt.figure(figsize=(12, 8))\n",
    "ax3 = sns.countplot(data = df_order_pmts, x = 'payment_installments', hue = 'payment_type')\n",
    "plt.xticks(rotation=45)\n",
    "plt.show()"
   ]
  },
  {
   "cell_type": "code",
   "execution_count": 275,
   "id": "ec201e3e",
   "metadata": {},
   "outputs": [],
   "source": [
    "# Create a function to group number of installments 1 through 7, and the rest to '8 or more'\n",
    "def categorize_installments(x):\n",
    "    if x <= 7:\n",
    "        return str(x)\n",
    "    else:\n",
    "        return '8 or more'\n",
    "\n",
    "df_order_pmts['num_installments'] = df_order_pmts['payment_installments'].apply(categorize_installments)"
   ]
  },
  {
   "cell_type": "code",
   "execution_count": 276,
   "id": "afcf899b",
   "metadata": {},
   "outputs": [
    {
     "data": {
      "image/png": "[encoded data removed]",
      "text/plain": [
       "<Figure size 1200x800 with 1 Axes>"
      ]
     },
     "metadata": {},
     "output_type": "display_data"
    }
   ],
   "source": [
    "\n",
    "plt.figure(figsize=(12, 8))\n",
    "ax3 = sns.histplot(data = df_order_pmts.query('payment_value <= 500'), x = 'payment_value', hue='num_installments')\n",
    "plt.xticks(rotation=45)\n",
    "plt.show()"
   ]
  },
  {
   "cell_type": "markdown",
   "id": "0619ef32",
   "metadata": {},
   "source": [
    "As the order value increases, more orders are paid with multiple installments."
   ]
  },
  {
   "cell_type": "code",
   "execution_count": 55,
   "id": "f0068646",
   "metadata": {},
   "outputs": [
    {
     "data": {
      "image/png": "[encoded data removed]",
      "text/plain": [
       "<Figure size 1200x800 with 1 Axes>"
      ]
     },
     "metadata": {},
     "output_type": "display_data"
    }
   ],
   "source": [
    "plt.figure(figsize=(12, 8))\n",
    "ax3 = sns.countplot(data = df_order_reviews, x = 'review_score')\n",
    "plt.xticks(rotation=45)\n",
    "plt.show()"
   ]
  },
  {
   "cell_type": "markdown",
   "id": "c2d75ea9",
   "metadata": {},
   "source": [
    "### Combine customers, orders, order items, order payments, order reviews and products\n",
    "#### Aggregate order, order items, order payments, order views and product category info at the customer level, in order to analyze customers\n",
    "#### "
   ]
  },
  {
   "cell_type": "code",
   "execution_count": 279,
   "id": "7b1d5af6",
   "metadata": {},
   "outputs": [],
   "source": [
    "# Combine customer unique id with order id, order purchase timestamp from orders\n",
    "df_combined = pd.merge(df_cust[['customer_id','customer_unique_id']], df_orders[['order_id','customer_id','order_purchase_timestamp']], on='customer_id')"
   ]
  },
  {
   "cell_type": "code",
   "execution_count": 280,
   "id": "3c7ce172",
   "metadata": {},
   "outputs": [],
   "source": [
    "# Combine with order items - product, price, freight and category\n",
    "df_combined = df_combined.merge(df_order_items_product[['order_id','order_item_id','product_id','price','freight_value','category']], on='order_id')"
   ]
  },
  {
   "cell_type": "code",
   "execution_count": 281,
   "id": "607ec076",
   "metadata": {},
   "outputs": [
    {
     "data": {
      "text/html": [
       "<div>\n",
       "<style scoped>\n",
       "    .dataframe tbody tr th:only-of-type {\n",
       "        vertical-align: middle;\n",
       "    }\n",
       "\n",
       "    .dataframe tbody tr th {\n",
       "        vertical-align: top;\n",
       "    }\n",
       "\n",
       "    .dataframe thead th {\n",
       "        text-align: right;\n",
       "    }\n",
       "</style>\n",
       "<table border=\"1\" class=\"dataframe\">\n",
       "  <thead>\n",
       "    <tr style=\"text-align: right;\">\n",
       "      <th></th>\n",
       "      <th>review_score</th>\n",
       "    </tr>\n",
       "    <tr>\n",
       "      <th>order_id</th>\n",
       "      <th></th>\n",
       "    </tr>\n",
       "  </thead>\n",
       "  <tbody>\n",
       "    <tr>\n",
       "      <th>fffc94f6ce00a00581880bf54a75a037</th>\n",
       "      <td>5.0</td>\n",
       "    </tr>\n",
       "    <tr>\n",
       "      <th>fffcd46ef2263f404302a634eb57f7eb</th>\n",
       "      <td>5.0</td>\n",
       "    </tr>\n",
       "    <tr>\n",
       "      <th>fffce4705a9662cd70adb13d4a31832d</th>\n",
       "      <td>5.0</td>\n",
       "    </tr>\n",
       "    <tr>\n",
       "      <th>fffe18544ffabc95dfada21779c9644f</th>\n",
       "      <td>5.0</td>\n",
       "    </tr>\n",
       "    <tr>\n",
       "      <th>fffe41c64501cc87c801fd61db3f6244</th>\n",
       "      <td>5.0</td>\n",
       "    </tr>\n",
       "  </tbody>\n",
       "</table>\n",
       "</div>"
      ],
      "text/plain": [
       "                                  review_score\n",
       "order_id                                      \n",
       "fffc94f6ce00a00581880bf54a75a037           5.0\n",
       "fffcd46ef2263f404302a634eb57f7eb           5.0\n",
       "fffce4705a9662cd70adb13d4a31832d           5.0\n",
       "fffe18544ffabc95dfada21779c9644f           5.0\n",
       "fffe41c64501cc87c801fd61db3f6244           5.0"
      ]
     },
     "execution_count": 281,
     "metadata": {},
     "output_type": "execute_result"
    }
   ],
   "source": [
    "# Get average order rating for each order, since there can be multiple reviews per order\n",
    "df_order_rating = df_order_reviews.groupby('order_id').agg({'review_score': 'mean'})\n",
    "df_order_rating.tail()"
   ]
  },
  {
   "cell_type": "code",
   "execution_count": 282,
   "id": "65e1266d",
   "metadata": {},
   "outputs": [],
   "source": [
    "# Combine with order rating \n",
    "df_combined = df_combined.merge(df_order_rating, on='order_id')"
   ]
  },
  {
   "cell_type": "code",
   "execution_count": 283,
   "id": "08aca598",
   "metadata": {},
   "outputs": [],
   "source": [
    "# An order can have more than one payment. Get total number of payment installments per order.\n",
    "df_order_pmts_by_order = df_order_pmts.groupby('order_id').agg({'payment_installments': 'sum'})"
   ]
  },
  {
   "cell_type": "code",
   "execution_count": 284,
   "id": "5b0a5803",
   "metadata": {},
   "outputs": [],
   "source": [
    "# Combine with order payments\n",
    "df_combined = df_combined.merge(df_order_pmts_by_order, on='order_id')"
   ]
  },
  {
   "cell_type": "code",
   "execution_count": 285,
   "id": "6a270b8e",
   "metadata": {},
   "outputs": [
    {
     "data": {
      "text/html": [
       "<div>\n",
       "<style scoped>\n",
       "    .dataframe tbody tr th:only-of-type {\n",
       "        vertical-align: middle;\n",
       "    }\n",
       "\n",
       "    .dataframe tbody tr th {\n",
       "        vertical-align: top;\n",
       "    }\n",
       "\n",
       "    .dataframe thead th {\n",
       "        text-align: right;\n",
       "    }\n",
       "</style>\n",
       "<table border=\"1\" class=\"dataframe\">\n",
       "  <thead>\n",
       "    <tr style=\"text-align: right;\">\n",
       "      <th></th>\n",
       "      <th>customer_id</th>\n",
       "      <th>customer_unique_id</th>\n",
       "      <th>order_id</th>\n",
       "      <th>order_purchase_timestamp</th>\n",
       "      <th>order_item_id</th>\n",
       "      <th>product_id</th>\n",
       "      <th>price</th>\n",
       "      <th>freight_value</th>\n",
       "      <th>category</th>\n",
       "      <th>review_score</th>\n",
       "      <th>payment_installments</th>\n",
       "    </tr>\n",
       "  </thead>\n",
       "  <tbody>\n",
       "    <tr>\n",
       "      <th>0</th>\n",
       "      <td>06b8999e2fba1a1fbc88172c00ba8bc7</td>\n",
       "      <td>861eff4711a542e4b93843c6dd7febb0</td>\n",
       "      <td>00e7ee1b050b8499577073aeb2a297a1</td>\n",
       "      <td>2017-05-16 15:05:35</td>\n",
       "      <td>1</td>\n",
       "      <td>a9516a079e37a9c9c36b9b78b10169e8</td>\n",
       "      <td>124.99</td>\n",
       "      <td>21.88</td>\n",
       "      <td>office_furniture</td>\n",
       "      <td>4.0</td>\n",
       "      <td>2</td>\n",
       "    </tr>\n",
       "    <tr>\n",
       "      <th>1</th>\n",
       "      <td>18955e83d337fd6b2def6b18a428ac77</td>\n",
       "      <td>290c77bc529b7ac935b93aa66c333dc3</td>\n",
       "      <td>29150127e6685892b6eab3eec79f59c7</td>\n",
       "      <td>2018-01-12 20:48:24</td>\n",
       "      <td>1</td>\n",
       "      <td>4aa6014eceb682077f9dc4bffebc05b0</td>\n",
       "      <td>289.00</td>\n",
       "      <td>46.48</td>\n",
       "      <td>housewares</td>\n",
       "      <td>5.0</td>\n",
       "      <td>8</td>\n",
       "    </tr>\n",
       "    <tr>\n",
       "      <th>2</th>\n",
       "      <td>4e7b3e00288586ebd08712fdd0374a03</td>\n",
       "      <td>060e732b5b29e8181a18229c7b0b2b5e</td>\n",
       "      <td>b2059ed67ce144a36e2aa97d2c9e9ad2</td>\n",
       "      <td>2018-05-19 16:07:45</td>\n",
       "      <td>1</td>\n",
       "      <td>bd07b66896d6f1494f5b86251848ced7</td>\n",
       "      <td>139.94</td>\n",
       "      <td>17.79</td>\n",
       "      <td>office_furniture</td>\n",
       "      <td>5.0</td>\n",
       "      <td>7</td>\n",
       "    </tr>\n",
       "    <tr>\n",
       "      <th>3</th>\n",
       "      <td>b2b6027bc5c5109e529d4dc6358b12c3</td>\n",
       "      <td>259dac757896d24d7702b9acbbff3f3c</td>\n",
       "      <td>951670f92359f4fe4a63112aa7306eba</td>\n",
       "      <td>2018-03-13 16:06:38</td>\n",
       "      <td>1</td>\n",
       "      <td>a5647c44af977b148e0a3a4751a09e2e</td>\n",
       "      <td>149.94</td>\n",
       "      <td>23.36</td>\n",
       "      <td>office_furniture</td>\n",
       "      <td>5.0</td>\n",
       "      <td>1</td>\n",
       "    </tr>\n",
       "    <tr>\n",
       "      <th>4</th>\n",
       "      <td>4f2d8ab171c80ec8364f7c12e35b23ad</td>\n",
       "      <td>345ecd01c38d18a9036ed96c73b8d066</td>\n",
       "      <td>6b7d50bd145f6fc7f33cebabd7e49d0f</td>\n",
       "      <td>2018-07-29 09:51:30</td>\n",
       "      <td>1</td>\n",
       "      <td>9391a573abe00141c56e38d84d7d5b3b</td>\n",
       "      <td>230.00</td>\n",
       "      <td>22.25</td>\n",
       "      <td>home_confort</td>\n",
       "      <td>5.0</td>\n",
       "      <td>8</td>\n",
       "    </tr>\n",
       "  </tbody>\n",
       "</table>\n",
       "</div>"
      ],
      "text/plain": [
       "                        customer_id                customer_unique_id  \\\n",
       "0  06b8999e2fba1a1fbc88172c00ba8bc7  861eff4711a542e4b93843c6dd7febb0   \n",
       "1  18955e83d337fd6b2def6b18a428ac77  290c77bc529b7ac935b93aa66c333dc3   \n",
       "2  4e7b3e00288586ebd08712fdd0374a03  060e732b5b29e8181a18229c7b0b2b5e   \n",
       "3  b2b6027bc5c5109e529d4dc6358b12c3  259dac757896d24d7702b9acbbff3f3c   \n",
       "4  4f2d8ab171c80ec8364f7c12e35b23ad  345ecd01c38d18a9036ed96c73b8d066   \n",
       "\n",
       "                           order_id order_purchase_timestamp  order_item_id  \\\n",
       "0  00e7ee1b050b8499577073aeb2a297a1      2017-05-16 15:05:35              1   \n",
       "1  29150127e6685892b6eab3eec79f59c7      2018-01-12 20:48:24              1   \n",
       "2  b2059ed67ce144a36e2aa97d2c9e9ad2      2018-05-19 16:07:45              1   \n",
       "3  951670f92359f4fe4a63112aa7306eba      2018-03-13 16:06:38              1   \n",
       "4  6b7d50bd145f6fc7f33cebabd7e49d0f      2018-07-29 09:51:30              1   \n",
       "\n",
       "                         product_id   price  freight_value          category  \\\n",
       "0  a9516a079e37a9c9c36b9b78b10169e8  124.99          21.88  office_furniture   \n",
       "1  4aa6014eceb682077f9dc4bffebc05b0  289.00          46.48        housewares   \n",
       "2  bd07b66896d6f1494f5b86251848ced7  139.94          17.79  office_furniture   \n",
       "3  a5647c44af977b148e0a3a4751a09e2e  149.94          23.36  office_furniture   \n",
       "4  9391a573abe00141c56e38d84d7d5b3b  230.00          22.25      home_confort   \n",
       "\n",
       "   review_score  payment_installments  \n",
       "0           4.0                     2  \n",
       "1           5.0                     8  \n",
       "2           5.0                     7  \n",
       "3           5.0                     1  \n",
       "4           5.0                     8  "
      ]
     },
     "execution_count": 285,
     "metadata": {},
     "output_type": "execute_result"
    }
   ],
   "source": [
    "df_combined.head()"
   ]
  },
  {
   "cell_type": "code",
   "execution_count": 286,
   "id": "41ed3503",
   "metadata": {},
   "outputs": [
    {
     "name": "stdout",
     "output_type": "stream",
     "text": [
      "<class 'pandas.core.frame.DataFrame'>\n",
      "RangeIndex: 111705 entries, 0 to 111704\n",
      "Data columns (total 11 columns):\n",
      " #   Column                    Non-Null Count   Dtype  \n",
      "---  ------                    --------------   -----  \n",
      " 0   customer_id               111705 non-null  object \n",
      " 1   customer_unique_id        111705 non-null  object \n",
      " 2   order_id                  111705 non-null  object \n",
      " 3   order_purchase_timestamp  111705 non-null  object \n",
      " 4   order_item_id             111705 non-null  int64  \n",
      " 5   product_id                111705 non-null  object \n",
      " 6   price                     111705 non-null  float64\n",
      " 7   freight_value             111705 non-null  float64\n",
      " 8   category                  110116 non-null  object \n",
      " 9   review_score              111705 non-null  float64\n",
      " 10  payment_installments      111705 non-null  int64  \n",
      "dtypes: float64(3), int64(2), object(6)\n",
      "memory usage: 9.4+ MB\n"
     ]
    }
   ],
   "source": [
    "df_combined.info()"
   ]
  },
  {
   "cell_type": "code",
   "execution_count": 287,
   "id": "b3f7e092",
   "metadata": {},
   "outputs": [
    {
     "data": {
      "text/plain": [
       "Index(['bed_bath_table', 'health_beauty', 'sports_leisure', 'furniture_decor',\n",
       "       'computers_accessories', 'housewares', 'watches_gifts', 'telephony',\n",
       "       'garden_tools', 'auto', 'toys', 'cool_stuff', 'perfumery', 'baby',\n",
       "       'electronics', 'stationery', 'fashion_bags_accessories', 'pet_shop',\n",
       "       'office_furniture', 'consoles_games'],\n",
       "      dtype='object', name='category')"
      ]
     },
     "execution_count": 287,
     "metadata": {},
     "output_type": "execute_result"
    }
   ],
   "source": [
    "# Generate binary features for top 20 categories, and another binary feature 'other' category for all others\n",
    "top_20_categories = df_combined['category'].value_counts().index[:20]\n",
    "top_20_categories"
   ]
  },
  {
   "cell_type": "code",
   "execution_count": 288,
   "id": "37409c15",
   "metadata": {},
   "outputs": [],
   "source": [
    "# Create binary features for each of the top 20 categories\n",
    "for category in top_20_categories:\n",
    "    df_combined[category] = df_combined['category'].apply(lambda x: 1 if x == category else 0)"
   ]
  },
  {
   "cell_type": "code",
   "execution_count": 289,
   "id": "2850a372",
   "metadata": {},
   "outputs": [],
   "source": [
    "# Create a binary feature for the 'Other' category\n",
    "df_combined['Other'] = df_combined['category'].apply(lambda x: 1 if x not in top_categories else 0)"
   ]
  },
  {
   "cell_type": "code",
   "execution_count": 290,
   "id": "34059cff",
   "metadata": {},
   "outputs": [
    {
     "data": {
      "text/html": [
       "<div>\n",
       "<style scoped>\n",
       "    .dataframe tbody tr th:only-of-type {\n",
       "        vertical-align: middle;\n",
       "    }\n",
       "\n",
       "    .dataframe tbody tr th {\n",
       "        vertical-align: top;\n",
       "    }\n",
       "\n",
       "    .dataframe thead th {\n",
       "        text-align: right;\n",
       "    }\n",
       "</style>\n",
       "<table border=\"1\" class=\"dataframe\">\n",
       "  <thead>\n",
       "    <tr style=\"text-align: right;\">\n",
       "      <th></th>\n",
       "      <th>customer_id</th>\n",
       "      <th>customer_unique_id</th>\n",
       "      <th>order_id</th>\n",
       "      <th>order_purchase_timestamp</th>\n",
       "      <th>order_item_id</th>\n",
       "      <th>product_id</th>\n",
       "      <th>price</th>\n",
       "      <th>freight_value</th>\n",
       "      <th>category</th>\n",
       "      <th>review_score</th>\n",
       "      <th>payment_installments</th>\n",
       "      <th>bed_bath_table</th>\n",
       "      <th>health_beauty</th>\n",
       "      <th>sports_leisure</th>\n",
       "      <th>furniture_decor</th>\n",
       "      <th>computers_accessories</th>\n",
       "      <th>housewares</th>\n",
       "      <th>watches_gifts</th>\n",
       "      <th>telephony</th>\n",
       "      <th>garden_tools</th>\n",
       "      <th>auto</th>\n",
       "      <th>toys</th>\n",
       "      <th>cool_stuff</th>\n",
       "      <th>perfumery</th>\n",
       "      <th>baby</th>\n",
       "      <th>electronics</th>\n",
       "      <th>stationery</th>\n",
       "      <th>fashion_bags_accessories</th>\n",
       "      <th>pet_shop</th>\n",
       "      <th>office_furniture</th>\n",
       "      <th>consoles_games</th>\n",
       "      <th>Other</th>\n",
       "      <th>total_price</th>\n",
       "    </tr>\n",
       "  </thead>\n",
       "  <tbody>\n",
       "    <tr>\n",
       "      <th>0</th>\n",
       "      <td>06b8999e2fba1a1fbc88172c00ba8bc7</td>\n",
       "      <td>861eff4711a542e4b93843c6dd7febb0</td>\n",
       "      <td>00e7ee1b050b8499577073aeb2a297a1</td>\n",
       "      <td>2017-05-16 15:05:35</td>\n",
       "      <td>1</td>\n",
       "      <td>a9516a079e37a9c9c36b9b78b10169e8</td>\n",
       "      <td>124.99</td>\n",
       "      <td>21.88</td>\n",
       "      <td>office_furniture</td>\n",
       "      <td>4.0</td>\n",
       "      <td>2</td>\n",
       "      <td>0</td>\n",
       "      <td>0</td>\n",
       "      <td>0</td>\n",
       "      <td>0</td>\n",
       "      <td>0</td>\n",
       "      <td>0</td>\n",
       "      <td>0</td>\n",
       "      <td>0</td>\n",
       "      <td>0</td>\n",
       "      <td>0</td>\n",
       "      <td>0</td>\n",
       "      <td>0</td>\n",
       "      <td>0</td>\n",
       "      <td>0</td>\n",
       "      <td>0</td>\n",
       "      <td>0</td>\n",
       "      <td>0</td>\n",
       "      <td>0</td>\n",
       "      <td>1</td>\n",
       "      <td>0</td>\n",
       "      <td>0</td>\n",
       "      <td>146.87</td>\n",
       "    </tr>\n",
       "    <tr>\n",
       "      <th>1</th>\n",
       "      <td>18955e83d337fd6b2def6b18a428ac77</td>\n",
       "      <td>290c77bc529b7ac935b93aa66c333dc3</td>\n",
       "      <td>29150127e6685892b6eab3eec79f59c7</td>\n",
       "      <td>2018-01-12 20:48:24</td>\n",
       "      <td>1</td>\n",
       "      <td>4aa6014eceb682077f9dc4bffebc05b0</td>\n",
       "      <td>289.00</td>\n",
       "      <td>46.48</td>\n",
       "      <td>housewares</td>\n",
       "      <td>5.0</td>\n",
       "      <td>8</td>\n",
       "      <td>0</td>\n",
       "      <td>0</td>\n",
       "      <td>0</td>\n",
       "      <td>0</td>\n",
       "      <td>0</td>\n",
       "      <td>1</td>\n",
       "      <td>0</td>\n",
       "      <td>0</td>\n",
       "      <td>0</td>\n",
       "      <td>0</td>\n",
       "      <td>0</td>\n",
       "      <td>0</td>\n",
       "      <td>0</td>\n",
       "      <td>0</td>\n",
       "      <td>0</td>\n",
       "      <td>0</td>\n",
       "      <td>0</td>\n",
       "      <td>0</td>\n",
       "      <td>0</td>\n",
       "      <td>0</td>\n",
       "      <td>0</td>\n",
       "      <td>335.48</td>\n",
       "    </tr>\n",
       "    <tr>\n",
       "      <th>2</th>\n",
       "      <td>4e7b3e00288586ebd08712fdd0374a03</td>\n",
       "      <td>060e732b5b29e8181a18229c7b0b2b5e</td>\n",
       "      <td>b2059ed67ce144a36e2aa97d2c9e9ad2</td>\n",
       "      <td>2018-05-19 16:07:45</td>\n",
       "      <td>1</td>\n",
       "      <td>bd07b66896d6f1494f5b86251848ced7</td>\n",
       "      <td>139.94</td>\n",
       "      <td>17.79</td>\n",
       "      <td>office_furniture</td>\n",
       "      <td>5.0</td>\n",
       "      <td>7</td>\n",
       "      <td>0</td>\n",
       "      <td>0</td>\n",
       "      <td>0</td>\n",
       "      <td>0</td>\n",
       "      <td>0</td>\n",
       "      <td>0</td>\n",
       "      <td>0</td>\n",
       "      <td>0</td>\n",
       "      <td>0</td>\n",
       "      <td>0</td>\n",
       "      <td>0</td>\n",
       "      <td>0</td>\n",
       "      <td>0</td>\n",
       "      <td>0</td>\n",
       "      <td>0</td>\n",
       "      <td>0</td>\n",
       "      <td>0</td>\n",
       "      <td>0</td>\n",
       "      <td>1</td>\n",
       "      <td>0</td>\n",
       "      <td>0</td>\n",
       "      <td>157.73</td>\n",
       "    </tr>\n",
       "    <tr>\n",
       "      <th>3</th>\n",
       "      <td>b2b6027bc5c5109e529d4dc6358b12c3</td>\n",
       "      <td>259dac757896d24d7702b9acbbff3f3c</td>\n",
       "      <td>951670f92359f4fe4a63112aa7306eba</td>\n",
       "      <td>2018-03-13 16:06:38</td>\n",
       "      <td>1</td>\n",
       "      <td>a5647c44af977b148e0a3a4751a09e2e</td>\n",
       "      <td>149.94</td>\n",
       "      <td>23.36</td>\n",
       "      <td>office_furniture</td>\n",
       "      <td>5.0</td>\n",
       "      <td>1</td>\n",
       "      <td>0</td>\n",
       "      <td>0</td>\n",
       "      <td>0</td>\n",
       "      <td>0</td>\n",
       "      <td>0</td>\n",
       "      <td>0</td>\n",
       "      <td>0</td>\n",
       "      <td>0</td>\n",
       "      <td>0</td>\n",
       "      <td>0</td>\n",
       "      <td>0</td>\n",
       "      <td>0</td>\n",
       "      <td>0</td>\n",
       "      <td>0</td>\n",
       "      <td>0</td>\n",
       "      <td>0</td>\n",
       "      <td>0</td>\n",
       "      <td>0</td>\n",
       "      <td>1</td>\n",
       "      <td>0</td>\n",
       "      <td>0</td>\n",
       "      <td>173.30</td>\n",
       "    </tr>\n",
       "    <tr>\n",
       "      <th>4</th>\n",
       "      <td>4f2d8ab171c80ec8364f7c12e35b23ad</td>\n",
       "      <td>345ecd01c38d18a9036ed96c73b8d066</td>\n",
       "      <td>6b7d50bd145f6fc7f33cebabd7e49d0f</td>\n",
       "      <td>2018-07-29 09:51:30</td>\n",
       "      <td>1</td>\n",
       "      <td>9391a573abe00141c56e38d84d7d5b3b</td>\n",
       "      <td>230.00</td>\n",
       "      <td>22.25</td>\n",
       "      <td>home_confort</td>\n",
       "      <td>5.0</td>\n",
       "      <td>8</td>\n",
       "      <td>0</td>\n",
       "      <td>0</td>\n",
       "      <td>0</td>\n",
       "      <td>0</td>\n",
       "      <td>0</td>\n",
       "      <td>0</td>\n",
       "      <td>0</td>\n",
       "      <td>0</td>\n",
       "      <td>0</td>\n",
       "      <td>0</td>\n",
       "      <td>0</td>\n",
       "      <td>0</td>\n",
       "      <td>0</td>\n",
       "      <td>0</td>\n",
       "      <td>0</td>\n",
       "      <td>0</td>\n",
       "      <td>0</td>\n",
       "      <td>0</td>\n",
       "      <td>0</td>\n",
       "      <td>0</td>\n",
       "      <td>1</td>\n",
       "      <td>252.25</td>\n",
       "    </tr>\n",
       "  </tbody>\n",
       "</table>\n",
       "</div>"
      ],
      "text/plain": [
       "                        customer_id                customer_unique_id  \\\n",
       "0  06b8999e2fba1a1fbc88172c00ba8bc7  861eff4711a542e4b93843c6dd7febb0   \n",
       "1  18955e83d337fd6b2def6b18a428ac77  290c77bc529b7ac935b93aa66c333dc3   \n",
       "2  4e7b3e00288586ebd08712fdd0374a03  060e732b5b29e8181a18229c7b0b2b5e   \n",
       "3  b2b6027bc5c5109e529d4dc6358b12c3  259dac757896d24d7702b9acbbff3f3c   \n",
       "4  4f2d8ab171c80ec8364f7c12e35b23ad  345ecd01c38d18a9036ed96c73b8d066   \n",
       "\n",
       "                           order_id order_purchase_timestamp  order_item_id  \\\n",
       "0  00e7ee1b050b8499577073aeb2a297a1      2017-05-16 15:05:35              1   \n",
       "1  29150127e6685892b6eab3eec79f59c7      2018-01-12 20:48:24              1   \n",
       "2  b2059ed67ce144a36e2aa97d2c9e9ad2      2018-05-19 16:07:45              1   \n",
       "3  951670f92359f4fe4a63112aa7306eba      2018-03-13 16:06:38              1   \n",
       "4  6b7d50bd145f6fc7f33cebabd7e49d0f      2018-07-29 09:51:30              1   \n",
       "\n",
       "                         product_id   price  freight_value          category  \\\n",
       "0  a9516a079e37a9c9c36b9b78b10169e8  124.99          21.88  office_furniture   \n",
       "1  4aa6014eceb682077f9dc4bffebc05b0  289.00          46.48        housewares   \n",
       "2  bd07b66896d6f1494f5b86251848ced7  139.94          17.79  office_furniture   \n",
       "3  a5647c44af977b148e0a3a4751a09e2e  149.94          23.36  office_furniture   \n",
       "4  9391a573abe00141c56e38d84d7d5b3b  230.00          22.25      home_confort   \n",
       "\n",
       "   review_score  payment_installments  bed_bath_table  health_beauty  \\\n",
       "0           4.0                     2               0              0   \n",
       "1           5.0                     8               0              0   \n",
       "2           5.0                     7               0              0   \n",
       "3           5.0                     1               0              0   \n",
       "4           5.0                     8               0              0   \n",
       "\n",
       "   sports_leisure  furniture_decor  computers_accessories  housewares  \\\n",
       "0               0                0                      0           0   \n",
       "1               0                0                      0           1   \n",
       "2               0                0                      0           0   \n",
       "3               0                0                      0           0   \n",
       "4               0                0                      0           0   \n",
       "\n",
       "   watches_gifts  telephony  garden_tools  auto  toys  cool_stuff  perfumery  \\\n",
       "0              0          0             0     0     0           0          0   \n",
       "1              0          0             0     0     0           0          0   \n",
       "2              0          0             0     0     0           0          0   \n",
       "3              0          0             0     0     0           0          0   \n",
       "4              0          0             0     0     0           0          0   \n",
       "\n",
       "   baby  electronics  stationery  fashion_bags_accessories  pet_shop  \\\n",
       "0     0            0           0                         0         0   \n",
       "1     0            0           0                         0         0   \n",
       "2     0            0           0                         0         0   \n",
       "3     0            0           0                         0         0   \n",
       "4     0            0           0                         0         0   \n",
       "\n",
       "   office_furniture  consoles_games  Other  total_price  \n",
       "0                 1               0      0       146.87  \n",
       "1                 0               0      0       335.48  \n",
       "2                 1               0      0       157.73  \n",
       "3                 1               0      0       173.30  \n",
       "4                 0               0      1       252.25  "
      ]
     },
     "execution_count": 290,
     "metadata": {},
     "output_type": "execute_result"
    }
   ],
   "source": [
    "# Add price and freight to get total order amount\n",
    "df_combined['total_price'] = df_combined['price'] + df_combined['freight_value']\n",
    "df_combined.head()"
   ]
  },
  {
   "cell_type": "code",
   "execution_count": 291,
   "id": "cb086947",
   "metadata": {},
   "outputs": [
    {
     "name": "stdout",
     "output_type": "stream",
     "text": [
      "<class 'pandas.core.frame.DataFrame'>\n",
      "RangeIndex: 111705 entries, 0 to 111704\n",
      "Data columns (total 33 columns):\n",
      " #   Column                    Non-Null Count   Dtype  \n",
      "---  ------                    --------------   -----  \n",
      " 0   customer_id               111705 non-null  object \n",
      " 1   customer_unique_id        111705 non-null  object \n",
      " 2   order_id                  111705 non-null  object \n",
      " 3   order_purchase_timestamp  111705 non-null  object \n",
      " 4   order_item_id             111705 non-null  int64  \n",
      " 5   product_id                111705 non-null  object \n",
      " 6   price                     111705 non-null  float64\n",
      " 7   freight_value             111705 non-null  float64\n",
      " 8   category                  110116 non-null  object \n",
      " 9   review_score              111705 non-null  float64\n",
      " 10  payment_installments      111705 non-null  int64  \n",
      " 11  bed_bath_table            111705 non-null  int64  \n",
      " 12  health_beauty             111705 non-null  int64  \n",
      " 13  sports_leisure            111705 non-null  int64  \n",
      " 14  furniture_decor           111705 non-null  int64  \n",
      " 15  computers_accessories     111705 non-null  int64  \n",
      " 16  housewares                111705 non-null  int64  \n",
      " 17  watches_gifts             111705 non-null  int64  \n",
      " 18  telephony                 111705 non-null  int64  \n",
      " 19  garden_tools              111705 non-null  int64  \n",
      " 20  auto                      111705 non-null  int64  \n",
      " 21  toys                      111705 non-null  int64  \n",
      " 22  cool_stuff                111705 non-null  int64  \n",
      " 23  perfumery                 111705 non-null  int64  \n",
      " 24  baby                      111705 non-null  int64  \n",
      " 25  electronics               111705 non-null  int64  \n",
      " 26  stationery                111705 non-null  int64  \n",
      " 27  fashion_bags_accessories  111705 non-null  int64  \n",
      " 28  pet_shop                  111705 non-null  int64  \n",
      " 29  office_furniture          111705 non-null  int64  \n",
      " 30  consoles_games            111705 non-null  int64  \n",
      " 31  Other                     111705 non-null  int64  \n",
      " 32  total_price               111705 non-null  float64\n",
      "dtypes: float64(4), int64(23), object(6)\n",
      "memory usage: 28.1+ MB\n"
     ]
    }
   ],
   "source": [
    "df_combined.info()"
   ]
  },
  {
   "cell_type": "code",
   "execution_count": 295,
   "id": "7bc55cd3",
   "metadata": {},
   "outputs": [],
   "source": [
    "# Generate dataframe at unique customer id level\n",
    "# For every customer, get order count, last order timestamp, item count, total price, average price,\n",
    "# average rating, average payment installments.\n",
    "# And for each of the 20 categories, get binary indicator if customer purchased from the category\n",
    "df_final = df_combined.groupby('customer_unique_id').agg(\n",
    "    order_count = pd.NamedAgg(column='order_id', aggfunc='count'),\n",
    "    last_order_date = pd.NamedAgg(column='order_purchase_timestamp', aggfunc='max'),\n",
    "    item_count = pd.NamedAgg(column='product_id', aggfunc='count'),\n",
    "    total_order_value = pd.NamedAgg(column='total_price', aggfunc='sum'),\n",
    "    avg_order_value = pd.NamedAgg(column='total_price', aggfunc='mean'),\n",
    "    avg_rating = pd.NamedAgg(column='review_score', aggfunc='mean'),\n",
    "    avg_installments = pd.NamedAgg(column='payment_installments', aggfunc='mean'),\n",
    "    bed_bath_table = pd.NamedAgg(column='bed_bath_table', aggfunc='max'),\n",
    "    health_beauty = pd.NamedAgg(column='health_beauty', aggfunc='max'),\n",
    "    sports_leisure = pd.NamedAgg(column='sports_leisure', aggfunc='max'),\n",
    "    furniture_decor = pd.NamedAgg(column='furniture_decor', aggfunc='max'),\n",
    "    computers_accessories = pd.NamedAgg(column='computers_accessories', aggfunc='max'),\n",
    "    housewares = pd.NamedAgg(column='housewares', aggfunc='max'),\n",
    "    watches_gifts = pd.NamedAgg(column='watches_gifts', aggfunc='max'),\n",
    "    telephony = pd.NamedAgg(column='telephony', aggfunc='max'),\n",
    "    garden_tools = pd.NamedAgg(column='garden_tools', aggfunc='max'),\n",
    "    auto = pd.NamedAgg(column='auto', aggfunc='max'),\n",
    "    toys = pd.NamedAgg(column='toys', aggfunc='max'),\n",
    "    cool_stuff = pd.NamedAgg(column='cool_stuff', aggfunc='max'),\n",
    "    perfumery = pd.NamedAgg(column='perfumery', aggfunc='max'),\n",
    "    baby = pd.NamedAgg(column='baby', aggfunc='max'),\n",
    "    electronics = pd.NamedAgg(column='electronics', aggfunc='max'),\n",
    "    stationery = pd.NamedAgg(column='stationery', aggfunc='max'),\n",
    "    fashion_bags_accessories = pd.NamedAgg(column='fashion_bags_accessories', aggfunc='max'),\n",
    "    pet_shop = pd.NamedAgg(column='pet_shop', aggfunc='max'),\n",
    "    office_furniture = pd.NamedAgg(column='office_furniture', aggfunc='max'),\n",
    "    consoles_games = pd.NamedAgg(column='consoles_games', aggfunc='max'),\n",
    "    other_categories = pd.NamedAgg(column='Other', aggfunc='max')\n",
    ")"
   ]
  },
  {
   "cell_type": "code",
   "execution_count": 296,
   "id": "ee663eb5",
   "metadata": {},
   "outputs": [
    {
     "data": {
      "text/html": [
       "<div>\n",
       "<style scoped>\n",
       "    .dataframe tbody tr th:only-of-type {\n",
       "        vertical-align: middle;\n",
       "    }\n",
       "\n",
       "    .dataframe tbody tr th {\n",
       "        vertical-align: top;\n",
       "    }\n",
       "\n",
       "    .dataframe thead th {\n",
       "        text-align: right;\n",
       "    }\n",
       "</style>\n",
       "<table border=\"1\" class=\"dataframe\">\n",
       "  <thead>\n",
       "    <tr style=\"text-align: right;\">\n",
       "      <th></th>\n",
       "      <th>order_count</th>\n",
       "      <th>last_order_date</th>\n",
       "      <th>item_count</th>\n",
       "      <th>total_order_value</th>\n",
       "      <th>avg_order_value</th>\n",
       "      <th>avg_rating</th>\n",
       "      <th>avg_installments</th>\n",
       "      <th>bed_bath_table</th>\n",
       "      <th>health_beauty</th>\n",
       "      <th>sports_leisure</th>\n",
       "      <th>furniture_decor</th>\n",
       "      <th>computers_accessories</th>\n",
       "      <th>housewares</th>\n",
       "      <th>watches_gifts</th>\n",
       "      <th>telephony</th>\n",
       "      <th>garden_tools</th>\n",
       "      <th>auto</th>\n",
       "      <th>toys</th>\n",
       "      <th>cool_stuff</th>\n",
       "      <th>perfumery</th>\n",
       "      <th>baby</th>\n",
       "      <th>electronics</th>\n",
       "      <th>stationery</th>\n",
       "      <th>fashion_bags_accessories</th>\n",
       "      <th>pet_shop</th>\n",
       "      <th>office_furniture</th>\n",
       "      <th>consoles_games</th>\n",
       "      <th>other_categories</th>\n",
       "    </tr>\n",
       "    <tr>\n",
       "      <th>customer_unique_id</th>\n",
       "      <th></th>\n",
       "      <th></th>\n",
       "      <th></th>\n",
       "      <th></th>\n",
       "      <th></th>\n",
       "      <th></th>\n",
       "      <th></th>\n",
       "      <th></th>\n",
       "      <th></th>\n",
       "      <th></th>\n",
       "      <th></th>\n",
       "      <th></th>\n",
       "      <th></th>\n",
       "      <th></th>\n",
       "      <th></th>\n",
       "      <th></th>\n",
       "      <th></th>\n",
       "      <th></th>\n",
       "      <th></th>\n",
       "      <th></th>\n",
       "      <th></th>\n",
       "      <th></th>\n",
       "      <th></th>\n",
       "      <th></th>\n",
       "      <th></th>\n",
       "      <th></th>\n",
       "      <th></th>\n",
       "      <th></th>\n",
       "    </tr>\n",
       "  </thead>\n",
       "  <tbody>\n",
       "    <tr>\n",
       "      <th>fffcf5a5ff07b0908bd4e2dbc735a684</th>\n",
       "      <td>2</td>\n",
       "      <td>2017-06-08 21:00:36</td>\n",
       "      <td>2</td>\n",
       "      <td>2067.42</td>\n",
       "      <td>1033.71</td>\n",
       "      <td>5.0</td>\n",
       "      <td>10.0</td>\n",
       "      <td>0</td>\n",
       "      <td>1</td>\n",
       "      <td>0</td>\n",
       "      <td>0</td>\n",
       "      <td>0</td>\n",
       "      <td>0</td>\n",
       "      <td>0</td>\n",
       "      <td>0</td>\n",
       "      <td>0</td>\n",
       "      <td>0</td>\n",
       "      <td>0</td>\n",
       "      <td>0</td>\n",
       "      <td>0</td>\n",
       "      <td>0</td>\n",
       "      <td>0</td>\n",
       "      <td>0</td>\n",
       "      <td>0</td>\n",
       "      <td>0</td>\n",
       "      <td>0</td>\n",
       "      <td>0</td>\n",
       "      <td>0</td>\n",
       "    </tr>\n",
       "    <tr>\n",
       "      <th>fffea47cd6d3cc0a88bd621562a9d061</th>\n",
       "      <td>1</td>\n",
       "      <td>2017-12-10 20:07:56</td>\n",
       "      <td>1</td>\n",
       "      <td>84.58</td>\n",
       "      <td>84.58</td>\n",
       "      <td>4.0</td>\n",
       "      <td>1.0</td>\n",
       "      <td>0</td>\n",
       "      <td>0</td>\n",
       "      <td>0</td>\n",
       "      <td>0</td>\n",
       "      <td>0</td>\n",
       "      <td>0</td>\n",
       "      <td>0</td>\n",
       "      <td>0</td>\n",
       "      <td>0</td>\n",
       "      <td>0</td>\n",
       "      <td>0</td>\n",
       "      <td>0</td>\n",
       "      <td>0</td>\n",
       "      <td>1</td>\n",
       "      <td>0</td>\n",
       "      <td>0</td>\n",
       "      <td>0</td>\n",
       "      <td>0</td>\n",
       "      <td>0</td>\n",
       "      <td>0</td>\n",
       "      <td>0</td>\n",
       "    </tr>\n",
       "    <tr>\n",
       "      <th>ffff371b4d645b6ecea244b27531430a</th>\n",
       "      <td>1</td>\n",
       "      <td>2017-02-07 15:49:16</td>\n",
       "      <td>1</td>\n",
       "      <td>112.46</td>\n",
       "      <td>112.46</td>\n",
       "      <td>5.0</td>\n",
       "      <td>1.0</td>\n",
       "      <td>0</td>\n",
       "      <td>0</td>\n",
       "      <td>0</td>\n",
       "      <td>0</td>\n",
       "      <td>0</td>\n",
       "      <td>0</td>\n",
       "      <td>0</td>\n",
       "      <td>0</td>\n",
       "      <td>0</td>\n",
       "      <td>1</td>\n",
       "      <td>0</td>\n",
       "      <td>0</td>\n",
       "      <td>0</td>\n",
       "      <td>0</td>\n",
       "      <td>0</td>\n",
       "      <td>0</td>\n",
       "      <td>0</td>\n",
       "      <td>0</td>\n",
       "      <td>0</td>\n",
       "      <td>0</td>\n",
       "      <td>0</td>\n",
       "    </tr>\n",
       "    <tr>\n",
       "      <th>ffff5962728ec6157033ef9805bacc48</th>\n",
       "      <td>1</td>\n",
       "      <td>2018-05-02 15:17:41</td>\n",
       "      <td>1</td>\n",
       "      <td>133.69</td>\n",
       "      <td>133.69</td>\n",
       "      <td>5.0</td>\n",
       "      <td>5.0</td>\n",
       "      <td>0</td>\n",
       "      <td>0</td>\n",
       "      <td>0</td>\n",
       "      <td>0</td>\n",
       "      <td>0</td>\n",
       "      <td>0</td>\n",
       "      <td>1</td>\n",
       "      <td>0</td>\n",
       "      <td>0</td>\n",
       "      <td>0</td>\n",
       "      <td>0</td>\n",
       "      <td>0</td>\n",
       "      <td>0</td>\n",
       "      <td>0</td>\n",
       "      <td>0</td>\n",
       "      <td>0</td>\n",
       "      <td>0</td>\n",
       "      <td>0</td>\n",
       "      <td>0</td>\n",
       "      <td>0</td>\n",
       "      <td>0</td>\n",
       "    </tr>\n",
       "    <tr>\n",
       "      <th>ffffd2657e2aad2907e67c3e9daecbeb</th>\n",
       "      <td>1</td>\n",
       "      <td>2017-05-02 20:18:45</td>\n",
       "      <td>1</td>\n",
       "      <td>71.56</td>\n",
       "      <td>71.56</td>\n",
       "      <td>5.0</td>\n",
       "      <td>4.0</td>\n",
       "      <td>0</td>\n",
       "      <td>0</td>\n",
       "      <td>0</td>\n",
       "      <td>0</td>\n",
       "      <td>0</td>\n",
       "      <td>0</td>\n",
       "      <td>0</td>\n",
       "      <td>0</td>\n",
       "      <td>0</td>\n",
       "      <td>0</td>\n",
       "      <td>0</td>\n",
       "      <td>0</td>\n",
       "      <td>1</td>\n",
       "      <td>0</td>\n",
       "      <td>0</td>\n",
       "      <td>0</td>\n",
       "      <td>0</td>\n",
       "      <td>0</td>\n",
       "      <td>0</td>\n",
       "      <td>0</td>\n",
       "      <td>0</td>\n",
       "    </tr>\n",
       "  </tbody>\n",
       "</table>\n",
       "</div>"
      ],
      "text/plain": [
       "                                  order_count      last_order_date  \\\n",
       "customer_unique_id                                                   \n",
       "fffcf5a5ff07b0908bd4e2dbc735a684            2  2017-06-08 21:00:36   \n",
       "fffea47cd6d3cc0a88bd621562a9d061            1  2017-12-10 20:07:56   \n",
       "ffff371b4d645b6ecea244b27531430a            1  2017-02-07 15:49:16   \n",
       "ffff5962728ec6157033ef9805bacc48            1  2018-05-02 15:17:41   \n",
       "ffffd2657e2aad2907e67c3e9daecbeb            1  2017-05-02 20:18:45   \n",
       "\n",
       "                                  item_count  total_order_value  \\\n",
       "customer_unique_id                                                \n",
       "fffcf5a5ff07b0908bd4e2dbc735a684           2            2067.42   \n",
       "fffea47cd6d3cc0a88bd621562a9d061           1              84.58   \n",
       "ffff371b4d645b6ecea244b27531430a           1             112.46   \n",
       "ffff5962728ec6157033ef9805bacc48           1             133.69   \n",
       "ffffd2657e2aad2907e67c3e9daecbeb           1              71.56   \n",
       "\n",
       "                                  avg_order_value  avg_rating  \\\n",
       "customer_unique_id                                              \n",
       "fffcf5a5ff07b0908bd4e2dbc735a684          1033.71         5.0   \n",
       "fffea47cd6d3cc0a88bd621562a9d061            84.58         4.0   \n",
       "ffff371b4d645b6ecea244b27531430a           112.46         5.0   \n",
       "ffff5962728ec6157033ef9805bacc48           133.69         5.0   \n",
       "ffffd2657e2aad2907e67c3e9daecbeb            71.56         5.0   \n",
       "\n",
       "                                  avg_installments  bed_bath_table  \\\n",
       "customer_unique_id                                                   \n",
       "fffcf5a5ff07b0908bd4e2dbc735a684              10.0               0   \n",
       "fffea47cd6d3cc0a88bd621562a9d061               1.0               0   \n",
       "ffff371b4d645b6ecea244b27531430a               1.0               0   \n",
       "ffff5962728ec6157033ef9805bacc48               5.0               0   \n",
       "ffffd2657e2aad2907e67c3e9daecbeb               4.0               0   \n",
       "\n",
       "                                  health_beauty  sports_leisure  \\\n",
       "customer_unique_id                                                \n",
       "fffcf5a5ff07b0908bd4e2dbc735a684              1               0   \n",
       "fffea47cd6d3cc0a88bd621562a9d061              0               0   \n",
       "ffff371b4d645b6ecea244b27531430a              0               0   \n",
       "ffff5962728ec6157033ef9805bacc48              0               0   \n",
       "ffffd2657e2aad2907e67c3e9daecbeb              0               0   \n",
       "\n",
       "                                  furniture_decor  computers_accessories  \\\n",
       "customer_unique_id                                                         \n",
       "fffcf5a5ff07b0908bd4e2dbc735a684                0                      0   \n",
       "fffea47cd6d3cc0a88bd621562a9d061                0                      0   \n",
       "ffff371b4d645b6ecea244b27531430a                0                      0   \n",
       "ffff5962728ec6157033ef9805bacc48                0                      0   \n",
       "ffffd2657e2aad2907e67c3e9daecbeb                0                      0   \n",
       "\n",
       "                                  housewares  watches_gifts  telephony  \\\n",
       "customer_unique_id                                                       \n",
       "fffcf5a5ff07b0908bd4e2dbc735a684           0              0          0   \n",
       "fffea47cd6d3cc0a88bd621562a9d061           0              0          0   \n",
       "ffff371b4d645b6ecea244b27531430a           0              0          0   \n",
       "ffff5962728ec6157033ef9805bacc48           0              1          0   \n",
       "ffffd2657e2aad2907e67c3e9daecbeb           0              0          0   \n",
       "\n",
       "                                  garden_tools  auto  toys  cool_stuff  \\\n",
       "customer_unique_id                                                       \n",
       "fffcf5a5ff07b0908bd4e2dbc735a684             0     0     0           0   \n",
       "fffea47cd6d3cc0a88bd621562a9d061             0     0     0           0   \n",
       "ffff371b4d645b6ecea244b27531430a             0     1     0           0   \n",
       "ffff5962728ec6157033ef9805bacc48             0     0     0           0   \n",
       "ffffd2657e2aad2907e67c3e9daecbeb             0     0     0           0   \n",
       "\n",
       "                                  perfumery  baby  electronics  stationery  \\\n",
       "customer_unique_id                                                           \n",
       "fffcf5a5ff07b0908bd4e2dbc735a684          0     0            0           0   \n",
       "fffea47cd6d3cc0a88bd621562a9d061          0     1            0           0   \n",
       "ffff371b4d645b6ecea244b27531430a          0     0            0           0   \n",
       "ffff5962728ec6157033ef9805bacc48          0     0            0           0   \n",
       "ffffd2657e2aad2907e67c3e9daecbeb          1     0            0           0   \n",
       "\n",
       "                                  fashion_bags_accessories  pet_shop  \\\n",
       "customer_unique_id                                                     \n",
       "fffcf5a5ff07b0908bd4e2dbc735a684                         0         0   \n",
       "fffea47cd6d3cc0a88bd621562a9d061                         0         0   \n",
       "ffff371b4d645b6ecea244b27531430a                         0         0   \n",
       "ffff5962728ec6157033ef9805bacc48                         0         0   \n",
       "ffffd2657e2aad2907e67c3e9daecbeb                         0         0   \n",
       "\n",
       "                                  office_furniture  consoles_games  \\\n",
       "customer_unique_id                                                   \n",
       "fffcf5a5ff07b0908bd4e2dbc735a684                 0               0   \n",
       "fffea47cd6d3cc0a88bd621562a9d061                 0               0   \n",
       "ffff371b4d645b6ecea244b27531430a                 0               0   \n",
       "ffff5962728ec6157033ef9805bacc48                 0               0   \n",
       "ffffd2657e2aad2907e67c3e9daecbeb                 0               0   \n",
       "\n",
       "                                  other_categories  \n",
       "customer_unique_id                                  \n",
       "fffcf5a5ff07b0908bd4e2dbc735a684                 0  \n",
       "fffea47cd6d3cc0a88bd621562a9d061                 0  \n",
       "ffff371b4d645b6ecea244b27531430a                 0  \n",
       "ffff5962728ec6157033ef9805bacc48                 0  \n",
       "ffffd2657e2aad2907e67c3e9daecbeb                 0  "
      ]
     },
     "execution_count": 296,
     "metadata": {},
     "output_type": "execute_result"
    }
   ],
   "source": [
    "df_final.tail()"
   ]
  },
  {
   "cell_type": "code",
   "execution_count": 297,
   "id": "6385683a",
   "metadata": {},
   "outputs": [],
   "source": [
    "# Convert last_order_date to datetime\n",
    "df_final['last_order_date'] = df_final['last_order_date'].apply(pd.to_datetime)"
   ]
  },
  {
   "cell_type": "code",
   "execution_count": 299,
   "id": "b5fef349",
   "metadata": {},
   "outputs": [
    {
     "data": {
      "text/plain": [
       "Timestamp('2018-09-03 09:06:57')"
      ]
     },
     "execution_count": 299,
     "metadata": {},
     "output_type": "execute_result"
    }
   ],
   "source": [
    "# Add a recency feature relative to last order date in the data set\n",
    "# Get last order date in the data set\n",
    "df_final['last_order_date'].max()"
   ]
  },
  {
   "cell_type": "code",
   "execution_count": 300,
   "id": "a6f33b73",
   "metadata": {},
   "outputs": [],
   "source": [
    "# Add recency column: number of days since the last order\n",
    "df_final['recency'] = (pd.to_datetime('2018-09-04') - df_final['last_order_date']).dt.days"
   ]
  },
  {
   "cell_type": "code",
   "execution_count": 301,
   "id": "fed16e12",
   "metadata": {},
   "outputs": [
    {
     "data": {
      "text/html": [
       "<div>\n",
       "<style scoped>\n",
       "    .dataframe tbody tr th:only-of-type {\n",
       "        vertical-align: middle;\n",
       "    }\n",
       "\n",
       "    .dataframe tbody tr th {\n",
       "        vertical-align: top;\n",
       "    }\n",
       "\n",
       "    .dataframe thead th {\n",
       "        text-align: right;\n",
       "    }\n",
       "</style>\n",
       "<table border=\"1\" class=\"dataframe\">\n",
       "  <thead>\n",
       "    <tr style=\"text-align: right;\">\n",
       "      <th></th>\n",
       "      <th>order_count</th>\n",
       "      <th>item_count</th>\n",
       "      <th>total_order_value</th>\n",
       "      <th>avg_order_value</th>\n",
       "      <th>avg_rating</th>\n",
       "      <th>avg_installments</th>\n",
       "      <th>bed_bath_table</th>\n",
       "      <th>health_beauty</th>\n",
       "      <th>sports_leisure</th>\n",
       "      <th>furniture_decor</th>\n",
       "      <th>computers_accessories</th>\n",
       "      <th>housewares</th>\n",
       "      <th>watches_gifts</th>\n",
       "      <th>telephony</th>\n",
       "      <th>garden_tools</th>\n",
       "      <th>auto</th>\n",
       "      <th>toys</th>\n",
       "      <th>cool_stuff</th>\n",
       "      <th>perfumery</th>\n",
       "      <th>baby</th>\n",
       "      <th>electronics</th>\n",
       "      <th>stationery</th>\n",
       "      <th>fashion_bags_accessories</th>\n",
       "      <th>pet_shop</th>\n",
       "      <th>office_furniture</th>\n",
       "      <th>consoles_games</th>\n",
       "      <th>other_categories</th>\n",
       "      <th>recency</th>\n",
       "    </tr>\n",
       "    <tr>\n",
       "      <th>customer_unique_id</th>\n",
       "      <th></th>\n",
       "      <th></th>\n",
       "      <th></th>\n",
       "      <th></th>\n",
       "      <th></th>\n",
       "      <th></th>\n",
       "      <th></th>\n",
       "      <th></th>\n",
       "      <th></th>\n",
       "      <th></th>\n",
       "      <th></th>\n",
       "      <th></th>\n",
       "      <th></th>\n",
       "      <th></th>\n",
       "      <th></th>\n",
       "      <th></th>\n",
       "      <th></th>\n",
       "      <th></th>\n",
       "      <th></th>\n",
       "      <th></th>\n",
       "      <th></th>\n",
       "      <th></th>\n",
       "      <th></th>\n",
       "      <th></th>\n",
       "      <th></th>\n",
       "      <th></th>\n",
       "      <th></th>\n",
       "      <th></th>\n",
       "    </tr>\n",
       "  </thead>\n",
       "  <tbody>\n",
       "    <tr>\n",
       "      <th>fffcf5a5ff07b0908bd4e2dbc735a684</th>\n",
       "      <td>2</td>\n",
       "      <td>2</td>\n",
       "      <td>2067.42</td>\n",
       "      <td>1033.71</td>\n",
       "      <td>5.0</td>\n",
       "      <td>10.0</td>\n",
       "      <td>0</td>\n",
       "      <td>1</td>\n",
       "      <td>0</td>\n",
       "      <td>0</td>\n",
       "      <td>0</td>\n",
       "      <td>0</td>\n",
       "      <td>0</td>\n",
       "      <td>0</td>\n",
       "      <td>0</td>\n",
       "      <td>0</td>\n",
       "      <td>0</td>\n",
       "      <td>0</td>\n",
       "      <td>0</td>\n",
       "      <td>0</td>\n",
       "      <td>0</td>\n",
       "      <td>0</td>\n",
       "      <td>0</td>\n",
       "      <td>0</td>\n",
       "      <td>0</td>\n",
       "      <td>0</td>\n",
       "      <td>0</td>\n",
       "      <td>452</td>\n",
       "    </tr>\n",
       "    <tr>\n",
       "      <th>fffea47cd6d3cc0a88bd621562a9d061</th>\n",
       "      <td>1</td>\n",
       "      <td>1</td>\n",
       "      <td>84.58</td>\n",
       "      <td>84.58</td>\n",
       "      <td>4.0</td>\n",
       "      <td>1.0</td>\n",
       "      <td>0</td>\n",
       "      <td>0</td>\n",
       "      <td>0</td>\n",
       "      <td>0</td>\n",
       "      <td>0</td>\n",
       "      <td>0</td>\n",
       "      <td>0</td>\n",
       "      <td>0</td>\n",
       "      <td>0</td>\n",
       "      <td>0</td>\n",
       "      <td>0</td>\n",
       "      <td>0</td>\n",
       "      <td>0</td>\n",
       "      <td>1</td>\n",
       "      <td>0</td>\n",
       "      <td>0</td>\n",
       "      <td>0</td>\n",
       "      <td>0</td>\n",
       "      <td>0</td>\n",
       "      <td>0</td>\n",
       "      <td>0</td>\n",
       "      <td>267</td>\n",
       "    </tr>\n",
       "    <tr>\n",
       "      <th>ffff371b4d645b6ecea244b27531430a</th>\n",
       "      <td>1</td>\n",
       "      <td>1</td>\n",
       "      <td>112.46</td>\n",
       "      <td>112.46</td>\n",
       "      <td>5.0</td>\n",
       "      <td>1.0</td>\n",
       "      <td>0</td>\n",
       "      <td>0</td>\n",
       "      <td>0</td>\n",
       "      <td>0</td>\n",
       "      <td>0</td>\n",
       "      <td>0</td>\n",
       "      <td>0</td>\n",
       "      <td>0</td>\n",
       "      <td>0</td>\n",
       "      <td>1</td>\n",
       "      <td>0</td>\n",
       "      <td>0</td>\n",
       "      <td>0</td>\n",
       "      <td>0</td>\n",
       "      <td>0</td>\n",
       "      <td>0</td>\n",
       "      <td>0</td>\n",
       "      <td>0</td>\n",
       "      <td>0</td>\n",
       "      <td>0</td>\n",
       "      <td>0</td>\n",
       "      <td>573</td>\n",
       "    </tr>\n",
       "    <tr>\n",
       "      <th>ffff5962728ec6157033ef9805bacc48</th>\n",
       "      <td>1</td>\n",
       "      <td>1</td>\n",
       "      <td>133.69</td>\n",
       "      <td>133.69</td>\n",
       "      <td>5.0</td>\n",
       "      <td>5.0</td>\n",
       "      <td>0</td>\n",
       "      <td>0</td>\n",
       "      <td>0</td>\n",
       "      <td>0</td>\n",
       "      <td>0</td>\n",
       "      <td>0</td>\n",
       "      <td>1</td>\n",
       "      <td>0</td>\n",
       "      <td>0</td>\n",
       "      <td>0</td>\n",
       "      <td>0</td>\n",
       "      <td>0</td>\n",
       "      <td>0</td>\n",
       "      <td>0</td>\n",
       "      <td>0</td>\n",
       "      <td>0</td>\n",
       "      <td>0</td>\n",
       "      <td>0</td>\n",
       "      <td>0</td>\n",
       "      <td>0</td>\n",
       "      <td>0</td>\n",
       "      <td>124</td>\n",
       "    </tr>\n",
       "    <tr>\n",
       "      <th>ffffd2657e2aad2907e67c3e9daecbeb</th>\n",
       "      <td>1</td>\n",
       "      <td>1</td>\n",
       "      <td>71.56</td>\n",
       "      <td>71.56</td>\n",
       "      <td>5.0</td>\n",
       "      <td>4.0</td>\n",
       "      <td>0</td>\n",
       "      <td>0</td>\n",
       "      <td>0</td>\n",
       "      <td>0</td>\n",
       "      <td>0</td>\n",
       "      <td>0</td>\n",
       "      <td>0</td>\n",
       "      <td>0</td>\n",
       "      <td>0</td>\n",
       "      <td>0</td>\n",
       "      <td>0</td>\n",
       "      <td>0</td>\n",
       "      <td>1</td>\n",
       "      <td>0</td>\n",
       "      <td>0</td>\n",
       "      <td>0</td>\n",
       "      <td>0</td>\n",
       "      <td>0</td>\n",
       "      <td>0</td>\n",
       "      <td>0</td>\n",
       "      <td>0</td>\n",
       "      <td>489</td>\n",
       "    </tr>\n",
       "  </tbody>\n",
       "</table>\n",
       "</div>"
      ],
      "text/plain": [
       "                                  order_count  item_count  total_order_value  \\\n",
       "customer_unique_id                                                             \n",
       "fffcf5a5ff07b0908bd4e2dbc735a684            2           2            2067.42   \n",
       "fffea47cd6d3cc0a88bd621562a9d061            1           1              84.58   \n",
       "ffff371b4d645b6ecea244b27531430a            1           1             112.46   \n",
       "ffff5962728ec6157033ef9805bacc48            1           1             133.69   \n",
       "ffffd2657e2aad2907e67c3e9daecbeb            1           1              71.56   \n",
       "\n",
       "                                  avg_order_value  avg_rating  \\\n",
       "customer_unique_id                                              \n",
       "fffcf5a5ff07b0908bd4e2dbc735a684          1033.71         5.0   \n",
       "fffea47cd6d3cc0a88bd621562a9d061            84.58         4.0   \n",
       "ffff371b4d645b6ecea244b27531430a           112.46         5.0   \n",
       "ffff5962728ec6157033ef9805bacc48           133.69         5.0   \n",
       "ffffd2657e2aad2907e67c3e9daecbeb            71.56         5.0   \n",
       "\n",
       "                                  avg_installments  bed_bath_table  \\\n",
       "customer_unique_id                                                   \n",
       "fffcf5a5ff07b0908bd4e2dbc735a684              10.0               0   \n",
       "fffea47cd6d3cc0a88bd621562a9d061               1.0               0   \n",
       "ffff371b4d645b6ecea244b27531430a               1.0               0   \n",
       "ffff5962728ec6157033ef9805bacc48               5.0               0   \n",
       "ffffd2657e2aad2907e67c3e9daecbeb               4.0               0   \n",
       "\n",
       "                                  health_beauty  sports_leisure  \\\n",
       "customer_unique_id                                                \n",
       "fffcf5a5ff07b0908bd4e2dbc735a684              1               0   \n",
       "fffea47cd6d3cc0a88bd621562a9d061              0               0   \n",
       "ffff371b4d645b6ecea244b27531430a              0               0   \n",
       "ffff5962728ec6157033ef9805bacc48              0               0   \n",
       "ffffd2657e2aad2907e67c3e9daecbeb              0               0   \n",
       "\n",
       "                                  furniture_decor  computers_accessories  \\\n",
       "customer_unique_id                                                         \n",
       "fffcf5a5ff07b0908bd4e2dbc735a684                0                      0   \n",
       "fffea47cd6d3cc0a88bd621562a9d061                0                      0   \n",
       "ffff371b4d645b6ecea244b27531430a                0                      0   \n",
       "ffff5962728ec6157033ef9805bacc48                0                      0   \n",
       "ffffd2657e2aad2907e67c3e9daecbeb                0                      0   \n",
       "\n",
       "                                  housewares  watches_gifts  telephony  \\\n",
       "customer_unique_id                                                       \n",
       "fffcf5a5ff07b0908bd4e2dbc735a684           0              0          0   \n",
       "fffea47cd6d3cc0a88bd621562a9d061           0              0          0   \n",
       "ffff371b4d645b6ecea244b27531430a           0              0          0   \n",
       "ffff5962728ec6157033ef9805bacc48           0              1          0   \n",
       "ffffd2657e2aad2907e67c3e9daecbeb           0              0          0   \n",
       "\n",
       "                                  garden_tools  auto  toys  cool_stuff  \\\n",
       "customer_unique_id                                                       \n",
       "fffcf5a5ff07b0908bd4e2dbc735a684             0     0     0           0   \n",
       "fffea47cd6d3cc0a88bd621562a9d061             0     0     0           0   \n",
       "ffff371b4d645b6ecea244b27531430a             0     1     0           0   \n",
       "ffff5962728ec6157033ef9805bacc48             0     0     0           0   \n",
       "ffffd2657e2aad2907e67c3e9daecbeb             0     0     0           0   \n",
       "\n",
       "                                  perfumery  baby  electronics  stationery  \\\n",
       "customer_unique_id                                                           \n",
       "fffcf5a5ff07b0908bd4e2dbc735a684          0     0            0           0   \n",
       "fffea47cd6d3cc0a88bd621562a9d061          0     1            0           0   \n",
       "ffff371b4d645b6ecea244b27531430a          0     0            0           0   \n",
       "ffff5962728ec6157033ef9805bacc48          0     0            0           0   \n",
       "ffffd2657e2aad2907e67c3e9daecbeb          1     0            0           0   \n",
       "\n",
       "                                  fashion_bags_accessories  pet_shop  \\\n",
       "customer_unique_id                                                     \n",
       "fffcf5a5ff07b0908bd4e2dbc735a684                         0         0   \n",
       "fffea47cd6d3cc0a88bd621562a9d061                         0         0   \n",
       "ffff371b4d645b6ecea244b27531430a                         0         0   \n",
       "ffff5962728ec6157033ef9805bacc48                         0         0   \n",
       "ffffd2657e2aad2907e67c3e9daecbeb                         0         0   \n",
       "\n",
       "                                  office_furniture  consoles_games  \\\n",
       "customer_unique_id                                                   \n",
       "fffcf5a5ff07b0908bd4e2dbc735a684                 0               0   \n",
       "fffea47cd6d3cc0a88bd621562a9d061                 0               0   \n",
       "ffff371b4d645b6ecea244b27531430a                 0               0   \n",
       "ffff5962728ec6157033ef9805bacc48                 0               0   \n",
       "ffffd2657e2aad2907e67c3e9daecbeb                 0               0   \n",
       "\n",
       "                                  other_categories  recency  \n",
       "customer_unique_id                                           \n",
       "fffcf5a5ff07b0908bd4e2dbc735a684                 0      452  \n",
       "fffea47cd6d3cc0a88bd621562a9d061                 0      267  \n",
       "ffff371b4d645b6ecea244b27531430a                 0      573  \n",
       "ffff5962728ec6157033ef9805bacc48                 0      124  \n",
       "ffffd2657e2aad2907e67c3e9daecbeb                 0      489  "
      ]
     },
     "execution_count": 301,
     "metadata": {},
     "output_type": "execute_result"
    }
   ],
   "source": [
    "df_final.drop(columns='last_order_date', inplace=True)\n",
    "df_final.tail()"
   ]
  },
  {
   "cell_type": "code",
   "execution_count": 302,
   "id": "a075d305",
   "metadata": {},
   "outputs": [
    {
     "name": "stdout",
     "output_type": "stream",
     "text": [
      "<class 'pandas.core.frame.DataFrame'>\n",
      "Index: 94720 entries, 0000366f3b9a7992bf8c76cfdf3221e2 to ffffd2657e2aad2907e67c3e9daecbeb\n",
      "Data columns (total 28 columns):\n",
      " #   Column                    Non-Null Count  Dtype  \n",
      "---  ------                    --------------  -----  \n",
      " 0   order_count               94720 non-null  int64  \n",
      " 1   item_count                94720 non-null  int64  \n",
      " 2   total_order_value         94720 non-null  float64\n",
      " 3   avg_order_value           94720 non-null  float64\n",
      " 4   avg_rating                94720 non-null  float64\n",
      " 5   avg_installments          94720 non-null  float64\n",
      " 6   bed_bath_table            94720 non-null  int64  \n",
      " 7   health_beauty             94720 non-null  int64  \n",
      " 8   sports_leisure            94720 non-null  int64  \n",
      " 9   furniture_decor           94720 non-null  int64  \n",
      " 10  computers_accessories     94720 non-null  int64  \n",
      " 11  housewares                94720 non-null  int64  \n",
      " 12  watches_gifts             94720 non-null  int64  \n",
      " 13  telephony                 94720 non-null  int64  \n",
      " 14  garden_tools              94720 non-null  int64  \n",
      " 15  auto                      94720 non-null  int64  \n",
      " 16  toys                      94720 non-null  int64  \n",
      " 17  cool_stuff                94720 non-null  int64  \n",
      " 18  perfumery                 94720 non-null  int64  \n",
      " 19  baby                      94720 non-null  int64  \n",
      " 20  electronics               94720 non-null  int64  \n",
      " 21  stationery                94720 non-null  int64  \n",
      " 22  fashion_bags_accessories  94720 non-null  int64  \n",
      " 23  pet_shop                  94720 non-null  int64  \n",
      " 24  office_furniture          94720 non-null  int64  \n",
      " 25  consoles_games            94720 non-null  int64  \n",
      " 26  other_categories          94720 non-null  int64  \n",
      " 27  recency                   94720 non-null  int64  \n",
      "dtypes: float64(4), int64(24)\n",
      "memory usage: 21.0+ MB\n"
     ]
    }
   ],
   "source": [
    "df_final.info()"
   ]
  },
  {
   "cell_type": "code",
   "execution_count": 303,
   "id": "2ffb8285",
   "metadata": {},
   "outputs": [
    {
     "data": {
      "text/html": [
       "<div>\n",
       "<style scoped>\n",
       "    .dataframe tbody tr th:only-of-type {\n",
       "        vertical-align: middle;\n",
       "    }\n",
       "\n",
       "    .dataframe tbody tr th {\n",
       "        vertical-align: top;\n",
       "    }\n",
       "\n",
       "    .dataframe thead th {\n",
       "        text-align: right;\n",
       "    }\n",
       "</style>\n",
       "<table border=\"1\" class=\"dataframe\">\n",
       "  <thead>\n",
       "    <tr style=\"text-align: right;\">\n",
       "      <th></th>\n",
       "      <th>order_count</th>\n",
       "      <th>item_count</th>\n",
       "      <th>total_order_value</th>\n",
       "      <th>avg_order_value</th>\n",
       "      <th>avg_rating</th>\n",
       "      <th>avg_installments</th>\n",
       "      <th>bed_bath_table</th>\n",
       "      <th>health_beauty</th>\n",
       "      <th>sports_leisure</th>\n",
       "      <th>furniture_decor</th>\n",
       "      <th>computers_accessories</th>\n",
       "      <th>housewares</th>\n",
       "      <th>watches_gifts</th>\n",
       "      <th>telephony</th>\n",
       "      <th>garden_tools</th>\n",
       "      <th>auto</th>\n",
       "      <th>toys</th>\n",
       "      <th>cool_stuff</th>\n",
       "      <th>perfumery</th>\n",
       "      <th>baby</th>\n",
       "      <th>electronics</th>\n",
       "      <th>stationery</th>\n",
       "      <th>fashion_bags_accessories</th>\n",
       "      <th>pet_shop</th>\n",
       "      <th>office_furniture</th>\n",
       "      <th>consoles_games</th>\n",
       "      <th>other_categories</th>\n",
       "      <th>recency</th>\n",
       "    </tr>\n",
       "  </thead>\n",
       "  <tbody>\n",
       "    <tr>\n",
       "      <th>count</th>\n",
       "      <td>94720.000000</td>\n",
       "      <td>94720.000000</td>\n",
       "      <td>94720.000000</td>\n",
       "      <td>94720.000000</td>\n",
       "      <td>94720.000000</td>\n",
       "      <td>94720.000000</td>\n",
       "      <td>94720.000000</td>\n",
       "      <td>94720.000000</td>\n",
       "      <td>94720.000000</td>\n",
       "      <td>94720.000000</td>\n",
       "      <td>94720.000000</td>\n",
       "      <td>94720.000000</td>\n",
       "      <td>94720.000000</td>\n",
       "      <td>94720.000000</td>\n",
       "      <td>94720.000000</td>\n",
       "      <td>94720.000000</td>\n",
       "      <td>94720.000000</td>\n",
       "      <td>94720.000000</td>\n",
       "      <td>94720.000000</td>\n",
       "      <td>94720.000000</td>\n",
       "      <td>94720.000000</td>\n",
       "      <td>94720.000000</td>\n",
       "      <td>94720.000000</td>\n",
       "      <td>94720.000000</td>\n",
       "      <td>94720.000000</td>\n",
       "      <td>94720.000000</td>\n",
       "      <td>94720.000000</td>\n",
       "      <td>94720.000000</td>\n",
       "    </tr>\n",
       "    <tr>\n",
       "      <th>mean</th>\n",
       "      <td>1.179318</td>\n",
       "      <td>1.179318</td>\n",
       "      <td>165.748545</td>\n",
       "      <td>146.556200</td>\n",
       "      <td>4.102215</td>\n",
       "      <td>2.967272</td>\n",
       "      <td>0.095513</td>\n",
       "      <td>0.090942</td>\n",
       "      <td>0.078832</td>\n",
       "      <td>0.066174</td>\n",
       "      <td>0.068834</td>\n",
       "      <td>0.061033</td>\n",
       "      <td>0.058055</td>\n",
       "      <td>0.043528</td>\n",
       "      <td>0.036603</td>\n",
       "      <td>0.040467</td>\n",
       "      <td>0.040234</td>\n",
       "      <td>0.037817</td>\n",
       "      <td>0.032855</td>\n",
       "      <td>0.029930</td>\n",
       "      <td>0.026626</td>\n",
       "      <td>0.024071</td>\n",
       "      <td>0.018898</td>\n",
       "      <td>0.017736</td>\n",
       "      <td>0.013239</td>\n",
       "      <td>0.011064</td>\n",
       "      <td>0.094098</td>\n",
       "      <td>243.338978</td>\n",
       "    </tr>\n",
       "    <tr>\n",
       "      <th>std</th>\n",
       "      <td>0.616014</td>\n",
       "      <td>0.616014</td>\n",
       "      <td>227.106060</td>\n",
       "      <td>197.649556</td>\n",
       "      <td>1.326808</td>\n",
       "      <td>2.718191</td>\n",
       "      <td>0.293924</td>\n",
       "      <td>0.287528</td>\n",
       "      <td>0.269478</td>\n",
       "      <td>0.248587</td>\n",
       "      <td>0.253174</td>\n",
       "      <td>0.239391</td>\n",
       "      <td>0.233849</td>\n",
       "      <td>0.204044</td>\n",
       "      <td>0.187785</td>\n",
       "      <td>0.197052</td>\n",
       "      <td>0.196509</td>\n",
       "      <td>0.190754</td>\n",
       "      <td>0.178257</td>\n",
       "      <td>0.170396</td>\n",
       "      <td>0.160988</td>\n",
       "      <td>0.153270</td>\n",
       "      <td>0.136165</td>\n",
       "      <td>0.131993</td>\n",
       "      <td>0.114297</td>\n",
       "      <td>0.104603</td>\n",
       "      <td>0.291967</td>\n",
       "      <td>153.164269</td>\n",
       "    </tr>\n",
       "    <tr>\n",
       "      <th>min</th>\n",
       "      <td>1.000000</td>\n",
       "      <td>1.000000</td>\n",
       "      <td>9.590000</td>\n",
       "      <td>9.341429</td>\n",
       "      <td>1.000000</td>\n",
       "      <td>0.000000</td>\n",
       "      <td>0.000000</td>\n",
       "      <td>0.000000</td>\n",
       "      <td>0.000000</td>\n",
       "      <td>0.000000</td>\n",
       "      <td>0.000000</td>\n",
       "      <td>0.000000</td>\n",
       "      <td>0.000000</td>\n",
       "      <td>0.000000</td>\n",
       "      <td>0.000000</td>\n",
       "      <td>0.000000</td>\n",
       "      <td>0.000000</td>\n",
       "      <td>0.000000</td>\n",
       "      <td>0.000000</td>\n",
       "      <td>0.000000</td>\n",
       "      <td>0.000000</td>\n",
       "      <td>0.000000</td>\n",
       "      <td>0.000000</td>\n",
       "      <td>0.000000</td>\n",
       "      <td>0.000000</td>\n",
       "      <td>0.000000</td>\n",
       "      <td>0.000000</td>\n",
       "      <td>0.000000</td>\n",
       "    </tr>\n",
       "    <tr>\n",
       "      <th>25%</th>\n",
       "      <td>1.000000</td>\n",
       "      <td>1.000000</td>\n",
       "      <td>63.100000</td>\n",
       "      <td>57.790000</td>\n",
       "      <td>4.000000</td>\n",
       "      <td>1.000000</td>\n",
       "      <td>0.000000</td>\n",
       "      <td>0.000000</td>\n",
       "      <td>0.000000</td>\n",
       "      <td>0.000000</td>\n",
       "      <td>0.000000</td>\n",
       "      <td>0.000000</td>\n",
       "      <td>0.000000</td>\n",
       "      <td>0.000000</td>\n",
       "      <td>0.000000</td>\n",
       "      <td>0.000000</td>\n",
       "      <td>0.000000</td>\n",
       "      <td>0.000000</td>\n",
       "      <td>0.000000</td>\n",
       "      <td>0.000000</td>\n",
       "      <td>0.000000</td>\n",
       "      <td>0.000000</td>\n",
       "      <td>0.000000</td>\n",
       "      <td>0.000000</td>\n",
       "      <td>0.000000</td>\n",
       "      <td>0.000000</td>\n",
       "      <td>0.000000</td>\n",
       "      <td>119.000000</td>\n",
       "    </tr>\n",
       "    <tr>\n",
       "      <th>50%</th>\n",
       "      <td>1.000000</td>\n",
       "      <td>1.000000</td>\n",
       "      <td>107.850000</td>\n",
       "      <td>96.660000</td>\n",
       "      <td>5.000000</td>\n",
       "      <td>2.000000</td>\n",
       "      <td>0.000000</td>\n",
       "      <td>0.000000</td>\n",
       "      <td>0.000000</td>\n",
       "      <td>0.000000</td>\n",
       "      <td>0.000000</td>\n",
       "      <td>0.000000</td>\n",
       "      <td>0.000000</td>\n",
       "      <td>0.000000</td>\n",
       "      <td>0.000000</td>\n",
       "      <td>0.000000</td>\n",
       "      <td>0.000000</td>\n",
       "      <td>0.000000</td>\n",
       "      <td>0.000000</td>\n",
       "      <td>0.000000</td>\n",
       "      <td>0.000000</td>\n",
       "      <td>0.000000</td>\n",
       "      <td>0.000000</td>\n",
       "      <td>0.000000</td>\n",
       "      <td>0.000000</td>\n",
       "      <td>0.000000</td>\n",
       "      <td>0.000000</td>\n",
       "      <td>224.000000</td>\n",
       "    </tr>\n",
       "    <tr>\n",
       "      <th>75%</th>\n",
       "      <td>1.000000</td>\n",
       "      <td>1.000000</td>\n",
       "      <td>182.910000</td>\n",
       "      <td>163.122500</td>\n",
       "      <td>5.000000</td>\n",
       "      <td>4.000000</td>\n",
       "      <td>0.000000</td>\n",
       "      <td>0.000000</td>\n",
       "      <td>0.000000</td>\n",
       "      <td>0.000000</td>\n",
       "      <td>0.000000</td>\n",
       "      <td>0.000000</td>\n",
       "      <td>0.000000</td>\n",
       "      <td>0.000000</td>\n",
       "      <td>0.000000</td>\n",
       "      <td>0.000000</td>\n",
       "      <td>0.000000</td>\n",
       "      <td>0.000000</td>\n",
       "      <td>0.000000</td>\n",
       "      <td>0.000000</td>\n",
       "      <td>0.000000</td>\n",
       "      <td>0.000000</td>\n",
       "      <td>0.000000</td>\n",
       "      <td>0.000000</td>\n",
       "      <td>0.000000</td>\n",
       "      <td>0.000000</td>\n",
       "      <td>0.000000</td>\n",
       "      <td>353.000000</td>\n",
       "    </tr>\n",
       "    <tr>\n",
       "      <th>max</th>\n",
       "      <td>24.000000</td>\n",
       "      <td>24.000000</td>\n",
       "      <td>13664.080000</td>\n",
       "      <td>6929.310000</td>\n",
       "      <td>5.000000</td>\n",
       "      <td>29.000000</td>\n",
       "      <td>1.000000</td>\n",
       "      <td>1.000000</td>\n",
       "      <td>1.000000</td>\n",
       "      <td>1.000000</td>\n",
       "      <td>1.000000</td>\n",
       "      <td>1.000000</td>\n",
       "      <td>1.000000</td>\n",
       "      <td>1.000000</td>\n",
       "      <td>1.000000</td>\n",
       "      <td>1.000000</td>\n",
       "      <td>1.000000</td>\n",
       "      <td>1.000000</td>\n",
       "      <td>1.000000</td>\n",
       "      <td>1.000000</td>\n",
       "      <td>1.000000</td>\n",
       "      <td>1.000000</td>\n",
       "      <td>1.000000</td>\n",
       "      <td>1.000000</td>\n",
       "      <td>1.000000</td>\n",
       "      <td>1.000000</td>\n",
       "      <td>1.000000</td>\n",
       "      <td>729.000000</td>\n",
       "    </tr>\n",
       "  </tbody>\n",
       "</table>\n",
       "</div>"
      ],
      "text/plain": [
       "        order_count    item_count  total_order_value  avg_order_value  \\\n",
       "count  94720.000000  94720.000000       94720.000000     94720.000000   \n",
       "mean       1.179318      1.179318         165.748545       146.556200   \n",
       "std        0.616014      0.616014         227.106060       197.649556   \n",
       "min        1.000000      1.000000           9.590000         9.341429   \n",
       "25%        1.000000      1.000000          63.100000        57.790000   \n",
       "50%        1.000000      1.000000         107.850000        96.660000   \n",
       "75%        1.000000      1.000000         182.910000       163.122500   \n",
       "max       24.000000     24.000000       13664.080000      6929.310000   \n",
       "\n",
       "         avg_rating  avg_installments  bed_bath_table  health_beauty  \\\n",
       "count  94720.000000      94720.000000    94720.000000   94720.000000   \n",
       "mean       4.102215          2.967272        0.095513       0.090942   \n",
       "std        1.326808          2.718191        0.293924       0.287528   \n",
       "min        1.000000          0.000000        0.000000       0.000000   \n",
       "25%        4.000000          1.000000        0.000000       0.000000   \n",
       "50%        5.000000          2.000000        0.000000       0.000000   \n",
       "75%        5.000000          4.000000        0.000000       0.000000   \n",
       "max        5.000000         29.000000        1.000000       1.000000   \n",
       "\n",
       "       sports_leisure  furniture_decor  computers_accessories    housewares  \\\n",
       "count    94720.000000     94720.000000           94720.000000  94720.000000   \n",
       "mean         0.078832         0.066174               0.068834      0.061033   \n",
       "std          0.269478         0.248587               0.253174      0.239391   \n",
       "min          0.000000         0.000000               0.000000      0.000000   \n",
       "25%          0.000000         0.000000               0.000000      0.000000   \n",
       "50%          0.000000         0.000000               0.000000      0.000000   \n",
       "75%          0.000000         0.000000               0.000000      0.000000   \n",
       "max          1.000000         1.000000               1.000000      1.000000   \n",
       "\n",
       "       watches_gifts     telephony  garden_tools          auto          toys  \\\n",
       "count   94720.000000  94720.000000  94720.000000  94720.000000  94720.000000   \n",
       "mean        0.058055      0.043528      0.036603      0.040467      0.040234   \n",
       "std         0.233849      0.204044      0.187785      0.197052      0.196509   \n",
       "min         0.000000      0.000000      0.000000      0.000000      0.000000   \n",
       "25%         0.000000      0.000000      0.000000      0.000000      0.000000   \n",
       "50%         0.000000      0.000000      0.000000      0.000000      0.000000   \n",
       "75%         0.000000      0.000000      0.000000      0.000000      0.000000   \n",
       "max         1.000000      1.000000      1.000000      1.000000      1.000000   \n",
       "\n",
       "         cool_stuff     perfumery          baby   electronics    stationery  \\\n",
       "count  94720.000000  94720.000000  94720.000000  94720.000000  94720.000000   \n",
       "mean       0.037817      0.032855      0.029930      0.026626      0.024071   \n",
       "std        0.190754      0.178257      0.170396      0.160988      0.153270   \n",
       "min        0.000000      0.000000      0.000000      0.000000      0.000000   \n",
       "25%        0.000000      0.000000      0.000000      0.000000      0.000000   \n",
       "50%        0.000000      0.000000      0.000000      0.000000      0.000000   \n",
       "75%        0.000000      0.000000      0.000000      0.000000      0.000000   \n",
       "max        1.000000      1.000000      1.000000      1.000000      1.000000   \n",
       "\n",
       "       fashion_bags_accessories      pet_shop  office_furniture  \\\n",
       "count              94720.000000  94720.000000      94720.000000   \n",
       "mean                   0.018898      0.017736          0.013239   \n",
       "std                    0.136165      0.131993          0.114297   \n",
       "min                    0.000000      0.000000          0.000000   \n",
       "25%                    0.000000      0.000000          0.000000   \n",
       "50%                    0.000000      0.000000          0.000000   \n",
       "75%                    0.000000      0.000000          0.000000   \n",
       "max                    1.000000      1.000000          1.000000   \n",
       "\n",
       "       consoles_games  other_categories       recency  \n",
       "count    94720.000000      94720.000000  94720.000000  \n",
       "mean         0.011064          0.094098    243.338978  \n",
       "std          0.104603          0.291967    153.164269  \n",
       "min          0.000000          0.000000      0.000000  \n",
       "25%          0.000000          0.000000    119.000000  \n",
       "50%          0.000000          0.000000    224.000000  \n",
       "75%          0.000000          0.000000    353.000000  \n",
       "max          1.000000          1.000000    729.000000  "
      ]
     },
     "execution_count": 303,
     "metadata": {},
     "output_type": "execute_result"
    }
   ],
   "source": [
    "df_final.describe()"
   ]
  },
  {
   "cell_type": "markdown",
   "id": "21b826d5",
   "metadata": {},
   "source": [
    "#### Scale the dataset before running analysis"
   ]
  },
  {
   "cell_type": "code",
   "execution_count": 305,
   "id": "e3504675",
   "metadata": {},
   "outputs": [],
   "source": [
    "# Scale the dataset\n",
    "df_scaled = (df_final - df_final.mean())/df_final.std()"
   ]
  },
  {
   "cell_type": "code",
   "execution_count": 306,
   "id": "665fbc85",
   "metadata": {},
   "outputs": [],
   "source": [
    "# Run PCA on the scaled dataset to select the top principal components\n",
    "pca = PCA(n_components=8, random_state=42)\n",
    "df_components = pca.fit_transform(df_scaled)"
   ]
  },
  {
   "cell_type": "markdown",
   "id": "ae735ff3",
   "metadata": {},
   "source": [
    "#### KMeans clustering"
   ]
  },
  {
   "cell_type": "markdown",
   "id": "38f30eed",
   "metadata": {},
   "source": [
    "#### Run GridSearch to tune hyperparameter number of clusters"
   ]
  },
  {
   "cell_type": "code",
   "execution_count": 373,
   "id": "4dbf3f21",
   "metadata": {},
   "outputs": [
    {
     "data": {
      "text/html": [
       "<style>#sk-container-id-8 {color: black;}#sk-container-id-8 pre{padding: 0;}#sk-container-id-8 div.sk-toggleable {background-color: white;}#sk-container-id-8 label.sk-toggleable__label {cursor: pointer;display: block;width: 100%;margin-bottom: 0;padding: 0.3em;box-sizing: border-box;text-align: center;}#sk-container-id-8 label.sk-toggleable__label-arrow:before {content: \"▸\";float: left;margin-right: 0.25em;color: #696969;}#sk-container-id-8 label.sk-toggleable__label-arrow:hover:before {color: black;}#sk-container-id-8 div.sk-estimator:hover label.sk-toggleable__label-arrow:before {color: black;}#sk-container-id-8 div.sk-toggleable__content {max-height: 0;max-width: 0;overflow: hidden;text-align: left;background-color: #f0f8ff;}#sk-container-id-8 div.sk-toggleable__content pre {margin: 0.2em;color: black;border-radius: 0.25em;background-color: #f0f8ff;}#sk-container-id-8 input.sk-toggleable__control:checked~div.sk-toggleable__content {max-height: 200px;max-width: 100%;overflow: auto;}#sk-container-id-8 input.sk-toggleable__control:checked~label.sk-toggleable__label-arrow:before {content: \"▾\";}#sk-container-id-8 div.sk-estimator input.sk-toggleable__control:checked~label.sk-toggleable__label {background-color: #d4ebff;}#sk-container-id-8 div.sk-label input.sk-toggleable__control:checked~label.sk-toggleable__label {background-color: #d4ebff;}#sk-container-id-8 input.sk-hidden--visually {border: 0;clip: rect(1px 1px 1px 1px);clip: rect(1px, 1px, 1px, 1px);height: 1px;margin: -1px;overflow: hidden;padding: 0;position: absolute;width: 1px;}#sk-container-id-8 div.sk-estimator {font-family: monospace;background-color: #f0f8ff;border: 1px dotted black;border-radius: 0.25em;box-sizing: border-box;margin-bottom: 0.5em;}#sk-container-id-8 div.sk-estimator:hover {background-color: #d4ebff;}#sk-container-id-8 div.sk-parallel-item::after {content: \"\";width: 100%;border-bottom: 1px solid gray;flex-grow: 1;}#sk-container-id-8 div.sk-label:hover label.sk-toggleable__label {background-color: #d4ebff;}#sk-container-id-8 div.sk-serial::before {content: \"\";position: absolute;border-left: 1px solid gray;box-sizing: border-box;top: 0;bottom: 0;left: 50%;z-index: 0;}#sk-container-id-8 div.sk-serial {display: flex;flex-direction: column;align-items: center;background-color: white;padding-right: 0.2em;padding-left: 0.2em;position: relative;}#sk-container-id-8 div.sk-item {position: relative;z-index: 1;}#sk-container-id-8 div.sk-parallel {display: flex;align-items: stretch;justify-content: center;background-color: white;position: relative;}#sk-container-id-8 div.sk-item::before, #sk-container-id-8 div.sk-parallel-item::before {content: \"\";position: absolute;border-left: 1px solid gray;box-sizing: border-box;top: 0;bottom: 0;left: 50%;z-index: -1;}#sk-container-id-8 div.sk-parallel-item {display: flex;flex-direction: column;z-index: 1;position: relative;background-color: white;}#sk-container-id-8 div.sk-parallel-item:first-child::after {align-self: flex-end;width: 50%;}#sk-container-id-8 div.sk-parallel-item:last-child::after {align-self: flex-start;width: 50%;}#sk-container-id-8 div.sk-parallel-item:only-child::after {width: 0;}#sk-container-id-8 div.sk-dashed-wrapped {border: 1px dashed gray;margin: 0 0.4em 0.5em 0.4em;box-sizing: border-box;padding-bottom: 0.4em;background-color: white;}#sk-container-id-8 div.sk-label label {font-family: monospace;font-weight: bold;display: inline-block;line-height: 1.2em;}#sk-container-id-8 div.sk-label-container {text-align: center;}#sk-container-id-8 div.sk-container {/* jupyter's `normalize.less` sets `[hidden] { display: none; }` but bootstrap.min.css set `[hidden] { display: none !important; }` so we also need the `!important` here to be able to override the default hidden behavior on the sphinx rendered scikit-learn.org. See: https://github.com/scikit-learn/scikit-learn/issues/21755 */display: inline-block !important;position: relative;}#sk-container-id-8 div.sk-text-repr-fallback {display: none;}</style><div id=\"sk-container-id-8\" class=\"sk-top-container\"><div class=\"sk-text-repr-fallback\"><pre>GridSearchCV(estimator=KMeans(), param_grid={&#x27;n_clusters&#x27;: range(2, 21)})</pre><b>In a Jupyter environment, please rerun this cell to show the HTML representation or trust the notebook. <br />On GitHub, the HTML representation is unable to render, please try loading this page with nbviewer.org.</b></div><div class=\"sk-container\" hidden><div class=\"sk-item sk-dashed-wrapped\"><div class=\"sk-label-container\"><div class=\"sk-label sk-toggleable\"><input class=\"sk-toggleable__control sk-hidden--visually\" id=\"sk-estimator-id-17\" type=\"checkbox\" ><label for=\"sk-estimator-id-17\" class=\"sk-toggleable__label sk-toggleable__label-arrow\">GridSearchCV</label><div class=\"sk-toggleable__content\"><pre>GridSearchCV(estimator=KMeans(), param_grid={&#x27;n_clusters&#x27;: range(2, 21)})</pre></div></div></div><div class=\"sk-parallel\"><div class=\"sk-parallel-item\"><div class=\"sk-item\"><div class=\"sk-label-container\"><div class=\"sk-label sk-toggleable\"><input class=\"sk-toggleable__control sk-hidden--visually\" id=\"sk-estimator-id-18\" type=\"checkbox\" ><label for=\"sk-estimator-id-18\" class=\"sk-toggleable__label sk-toggleable__label-arrow\">estimator: KMeans</label><div class=\"sk-toggleable__content\"><pre>KMeans()</pre></div></div></div><div class=\"sk-serial\"><div class=\"sk-item\"><div class=\"sk-estimator sk-toggleable\"><input class=\"sk-toggleable__control sk-hidden--visually\" id=\"sk-estimator-id-19\" type=\"checkbox\" ><label for=\"sk-estimator-id-19\" class=\"sk-toggleable__label sk-toggleable__label-arrow\">KMeans</label><div class=\"sk-toggleable__content\"><pre>KMeans()</pre></div></div></div></div></div></div></div></div></div></div>"
      ],
      "text/plain": [
       "GridSearchCV(estimator=KMeans(), param_grid={'n_clusters': range(2, 21)})"
      ]
     },
     "execution_count": 373,
     "metadata": {},
     "output_type": "execute_result"
    }
   ],
   "source": [
    "params = {'n_clusters': range(2,21)}\n",
    "knn_grid = GridSearchCV(KMeans(), param_grid=params)\n",
    "knn_grid.fit(df_components)"
   ]
  },
  {
   "cell_type": "code",
   "execution_count": 374,
   "id": "e565fc4d",
   "metadata": {},
   "outputs": [
    {
     "data": {
      "text/plain": [
       "{'mean_fit_time': array([0.77115269, 0.56242566, 0.75392022, 1.07070584, 0.90244064,\n",
       "        1.0821528 , 0.89599171, 1.04973488, 1.11330633, 1.36667509,\n",
       "        1.32695494, 1.83079858, 2.30709558, 2.28888588, 1.91062646,\n",
       "        2.14019551, 2.08684335, 2.33825836, 2.2553268 ]),\n",
       " 'std_fit_time': array([0.3139217 , 0.08871343, 0.11861499, 0.29568211, 0.26534416,\n",
       "        0.41143191, 0.1905449 , 0.24220045, 0.19236668, 0.31649791,\n",
       "        0.50627864, 0.30602602, 0.30302571, 0.45985835, 0.37722017,\n",
       "        0.41461129, 0.44075419, 0.22037334, 0.28075035]),\n",
       " 'mean_score_time': array([0.00493941, 0.0035707 , 0.00518303, 0.00656042, 0.00289545,\n",
       "        0.00334206, 0.00352592, 0.00290003, 0.00403447, 0.00336714,\n",
       "        0.00582943, 0.00267844, 0.00223098, 0.00906177, 0.00342994,\n",
       "        0.01309896, 0.00241404, 0.00241241, 0.02402768]),\n",
       " 'std_score_time': array([0.00492488, 0.00027249, 0.00302912, 0.00621056, 0.00058595,\n",
       "        0.00032051, 0.00036813, 0.00060431, 0.00176991, 0.00079144,\n",
       "        0.00318104, 0.00108128, 0.00119918, 0.01067479, 0.00015939,\n",
       "        0.02043859, 0.00107267, 0.00131886, 0.02816407]),\n",
       " 'param_n_clusters': masked_array(data=[2, 3, 4, 5, 6, 7, 8, 9, 10, 11, 12, 13, 14, 15, 16, 17,\n",
       "                    18, 19, 20],\n",
       "              mask=[False, False, False, False, False, False, False, False,\n",
       "                    False, False, False, False, False, False, False, False,\n",
       "                    False, False, False],\n",
       "        fill_value='?',\n",
       "             dtype=object),\n",
       " 'params': [{'n_clusters': 2},\n",
       "  {'n_clusters': 3},\n",
       "  {'n_clusters': 4},\n",
       "  {'n_clusters': 5},\n",
       "  {'n_clusters': 6},\n",
       "  {'n_clusters': 7},\n",
       "  {'n_clusters': 8},\n",
       "  {'n_clusters': 9},\n",
       "  {'n_clusters': 10},\n",
       "  {'n_clusters': 11},\n",
       "  {'n_clusters': 12},\n",
       "  {'n_clusters': 13},\n",
       "  {'n_clusters': 14},\n",
       "  {'n_clusters': 15},\n",
       "  {'n_clusters': 16},\n",
       "  {'n_clusters': 17},\n",
       "  {'n_clusters': 18},\n",
       "  {'n_clusters': 19},\n",
       "  {'n_clusters': 20}],\n",
       " 'split0_test_score': array([-180841.36575757, -162295.87199989, -147040.17796442,\n",
       "        -132832.91605651, -116231.37590346, -102645.32750638,\n",
       "         -86948.85696141,  -75700.90192733,  -69898.69269072,\n",
       "         -64660.73894415,  -60428.72176338,  -57247.31152588,\n",
       "         -54259.63975565,  -51895.82407458,  -49828.80778998,\n",
       "         -48290.04361248,  -46584.08252598,  -44627.711834  ,\n",
       "         -44300.2613952 ]),\n",
       " 'split1_test_score': array([-181015.98506765, -162136.7792438 , -147803.3224698 ,\n",
       "        -132551.42110682, -114530.79264834,  -98709.49648293,\n",
       "         -86503.77807952,  -74786.77731891,  -68839.02098666,\n",
       "         -63859.26340264,  -60482.53046072,  -56799.45857782,\n",
       "         -53987.89208193,  -51107.46773635,  -49194.71414434,\n",
       "         -48079.90446596,  -45677.43379502,  -43984.23079163,\n",
       "         -43126.94871281]),\n",
       " 'split2_test_score': array([-179716.20921765, -160370.11740283, -143538.48971012,\n",
       "        -128263.92085857, -113370.50850285,  -99239.94654434,\n",
       "         -84722.32622615,  -73606.29997259,  -67812.35466835,\n",
       "         -62872.35127381,  -59227.98576082,  -55710.31416264,\n",
       "         -53099.93921877,  -50795.99866535,  -49011.76238354,\n",
       "         -47428.49134271,  -45696.24831788,  -44989.51829128,\n",
       "         -43314.85317111]),\n",
       " 'split3_test_score': array([-182122.30788143, -162691.23733524, -148706.03916768,\n",
       "        -132287.82755551, -114323.92995952, -100718.9393641 ,\n",
       "         -87901.24152655,  -75667.49590673,  -70069.6403203 ,\n",
       "         -64615.69887524,  -61123.03773424,  -57544.30939146,\n",
       "         -54689.58885644,  -52362.40696966,  -49365.47875684,\n",
       "         -48010.40559408,  -47393.46876892,  -44337.3655661 ,\n",
       "         -44538.56397449]),\n",
       " 'split4_test_score': array([-184795.53124615, -167018.34254628, -148419.40980813,\n",
       "        -133255.44864556, -116040.53519017, -101717.90986453,\n",
       "         -89269.75122122,  -78089.77617481,  -71819.59923279,\n",
       "         -66902.1087613 ,  -62316.93941757,  -58921.11595778,\n",
       "         -56500.8292205 ,  -53946.52863826,  -51916.54849249,\n",
       "         -49723.31036983,  -47855.33048252,  -46307.58573309,\n",
       "         -45705.35900051]),\n",
       " 'mean_test_score': array([-181698.27983409, -162902.46970561, -147101.48782403,\n",
       "        -131838.30684459, -114899.42844087, -100606.32395246,\n",
       "         -87069.19080297,  -75570.25026007,  -69687.86157976,\n",
       "         -64582.03225143,  -60715.84302735,  -57244.50192311,\n",
       "         -54507.57782666,  -52021.64521684,  -49863.46231344,\n",
       "         -48306.43107701,  -46641.31277807,  -44849.28244322,\n",
       "         -44197.19725083]),\n",
       " 'std_test_score': array([1726.33704159, 2206.90186461, 1870.97780314, 1815.72984588,\n",
       "        1084.51792819, 1474.50212847, 1508.42432254, 1472.78430126,\n",
       "        1339.59446943, 1329.32216191, 1007.9593047 , 1044.29140538,\n",
       "        1124.20390897, 1111.31054644, 1061.78795449,  763.87682889,\n",
       "         879.2112887 ,  800.72234416,  930.12561831]),\n",
       " 'rank_test_score': array([19, 18, 17, 16, 15, 14, 13, 12, 11, 10,  9,  8,  7,  6,  5,  4,  3,\n",
       "         2,  1], dtype=int32)}"
      ]
     },
     "execution_count": 374,
     "metadata": {},
     "output_type": "execute_result"
    }
   ],
   "source": [
    "knn_grid.cv_results_"
   ]
  },
  {
   "cell_type": "code",
   "execution_count": 375,
   "id": "7b4f9628",
   "metadata": {},
   "outputs": [],
   "source": [
    "raw_scores = (knn_grid.cv_results_['mean_test_score'].tolist())\n",
    "scores = [-1 * i for i in raw_scores]"
   ]
  },
  {
   "cell_type": "code",
   "execution_count": 376,
   "id": "a5fbdb2e",
   "metadata": {},
   "outputs": [
    {
     "data": {
      "image/png": "[encoded data removed]",
      "text/plain": [
       "<Figure size 800x600 with 1 Axes>"
      ]
     },
     "metadata": {},
     "output_type": "display_data"
    }
   ],
   "source": [
    "plt.figure(figsize=(8, 6))\n",
    "plt.plot(range(2, 21), scores, marker='o')\n",
    "plt.xlabel('Number of clusters')\n",
    "plt.ylabel('Inertia')\n",
    "plt.title('Inertia by Number of Clusters for KMeans')\n",
    "plt.grid(True)\n",
    "plt.show()"
   ]
  },
  {
   "cell_type": "markdown",
   "id": "27d3ec82",
   "metadata": {},
   "source": [
    "#### Nine clusters seems to be optimal"
   ]
  },
  {
   "cell_type": "markdown",
   "id": "5f8fe5df",
   "metadata": {},
   "source": [
    "Run KMeans with 9 clusters"
   ]
  },
  {
   "cell_type": "code",
   "execution_count": 384,
   "id": "07c0b144",
   "metadata": {},
   "outputs": [],
   "source": [
    "kmeans = KMeans(n_clusters=9, random_state=42).fit(df_components)"
   ]
  },
  {
   "cell_type": "code",
   "execution_count": 385,
   "id": "46eb4019",
   "metadata": {},
   "outputs": [],
   "source": [
    "# Assign cluster labels to the original dataset\n",
    "df_clustered = df_final.copy()\n",
    "df_clustered['cluster'] = kmeans.labels_"
   ]
  },
  {
   "cell_type": "code",
   "execution_count": 386,
   "id": "9c4dbbb9",
   "metadata": {},
   "outputs": [
    {
     "data": {
      "text/plain": [
       "cluster\n",
       "1    26905\n",
       "4    24502\n",
       "7     8510\n",
       "3     8247\n",
       "8     8038\n",
       "0     7022\n",
       "6     6180\n",
       "2     2773\n",
       "5     2543\n",
       "Name: count, dtype: int64"
      ]
     },
     "execution_count": 386,
     "metadata": {},
     "output_type": "execute_result"
    }
   ],
   "source": [
    "df_clustered['cluster'].value_counts()"
   ]
  },
  {
   "cell_type": "code",
   "execution_count": 387,
   "id": "48f1b1c8",
   "metadata": {},
   "outputs": [
    {
     "data": {
      "text/plain": [
       "cluster\n",
       "0    1.108089\n",
       "1    1.096450\n",
       "2    3.870177\n",
       "3    1.093974\n",
       "4    1.069545\n",
       "5    1.092411\n",
       "6    1.119579\n",
       "7    1.154172\n",
       "8    1.112839\n",
       "Name: order_count, dtype: float64"
      ]
     },
     "execution_count": 387,
     "metadata": {},
     "output_type": "execute_result"
    }
   ],
   "source": [
    "df_clustered.groupby('cluster')['order_count'].mean()"
   ]
  },
  {
   "cell_type": "code",
   "execution_count": 388,
   "id": "5336f85c",
   "metadata": {},
   "outputs": [
    {
     "data": {
      "text/plain": [
       "<Axes: xlabel='cluster', ylabel='order_count'>"
      ]
     },
     "execution_count": 388,
     "metadata": {},
     "output_type": "execute_result"
    },
    {
     "data": {
      "image/png": "[encoded data removed]",
      "text/plain": [
       "<Figure size 640x480 with 1 Axes>"
      ]
     },
     "metadata": {},
     "output_type": "display_data"
    }
   ],
   "source": [
    "sns.boxplot(data=df_clustered, y=\"order_count\", x=\"cluster\", width=.5)"
   ]
  },
  {
   "cell_type": "code",
   "execution_count": 389,
   "id": "8d46c2c4",
   "metadata": {},
   "outputs": [
    {
     "data": {
      "text/plain": [
       "cluster\n",
       "0    1.108089\n",
       "1    1.096450\n",
       "2    3.870177\n",
       "3    1.093974\n",
       "4    1.069545\n",
       "5    1.092411\n",
       "6    1.119579\n",
       "7    1.154172\n",
       "8    1.112839\n",
       "Name: item_count, dtype: float64"
      ]
     },
     "execution_count": 389,
     "metadata": {},
     "output_type": "execute_result"
    }
   ],
   "source": [
    "df_clustered.groupby('cluster')['item_count'].mean()"
   ]
  },
  {
   "cell_type": "code",
   "execution_count": 390,
   "id": "7e59dcc2",
   "metadata": {},
   "outputs": [
    {
     "data": {
      "text/plain": [
       "<Axes: xlabel='cluster', ylabel='item_count'>"
      ]
     },
     "execution_count": 390,
     "metadata": {},
     "output_type": "execute_result"
    },
    {
     "data": {
      "image/png": "[encoded data removed]",
      "text/plain": [
       "<Figure size 640x480 with 1 Axes>"
      ]
     },
     "metadata": {},
     "output_type": "display_data"
    }
   ],
   "source": [
    "sns.boxplot(data=df_clustered, y=\"item_count\", x=\"cluster\", width=.5)"
   ]
  },
  {
   "cell_type": "code",
   "execution_count": 391,
   "id": "90f69df9",
   "metadata": {},
   "outputs": [
    {
     "data": {
      "text/plain": [
       "cluster\n",
       "0     133.597569\n",
       "1     132.790388\n",
       "2     369.753682\n",
       "3     145.784570\n",
       "4     126.611400\n",
       "5    1096.643748\n",
       "6     133.263780\n",
       "7     128.557203\n",
       "8     143.400445\n",
       "Name: total_order_value, dtype: float64"
      ]
     },
     "execution_count": 391,
     "metadata": {},
     "output_type": "execute_result"
    }
   ],
   "source": [
    "df_clustered.groupby('cluster')['total_order_value'].mean()"
   ]
  },
  {
   "cell_type": "code",
   "execution_count": 392,
   "id": "ef561adf",
   "metadata": {},
   "outputs": [
    {
     "data": {
      "text/plain": [
       "<Axes: xlabel='cluster', ylabel='total_order_value'>"
      ]
     },
     "execution_count": 392,
     "metadata": {},
     "output_type": "execute_result"
    },
    {
     "data": {
      "image/png": "[encoded data removed]",
      "text/plain": [
       "<Figure size 640x480 with 1 Axes>"
      ]
     },
     "metadata": {},
     "output_type": "display_data"
    }
   ],
   "source": [
    "sns.boxplot(data=df_clustered, y=\"total_order_value\", x=\"cluster\", width=.5)"
   ]
  },
  {
   "cell_type": "code",
   "execution_count": 393,
   "id": "d2e14a30",
   "metadata": {},
   "outputs": [
    {
     "data": {
      "text/plain": [
       "cluster\n",
       "0     122.433979\n",
       "1     123.523232\n",
       "2      96.005092\n",
       "3     136.604387\n",
       "4     120.013501\n",
       "5    1027.014326\n",
       "6     119.520546\n",
       "7     112.789193\n",
       "8     131.268914\n",
       "Name: avg_order_value, dtype: float64"
      ]
     },
     "execution_count": 393,
     "metadata": {},
     "output_type": "execute_result"
    }
   ],
   "source": [
    "df_clustered.groupby('cluster')['avg_order_value'].mean()"
   ]
  },
  {
   "cell_type": "code",
   "execution_count": 394,
   "id": "c62bcca8",
   "metadata": {},
   "outputs": [
    {
     "data": {
      "text/plain": [
       "<Axes: xlabel='cluster', ylabel='avg_order_value'>"
      ]
     },
     "execution_count": 394,
     "metadata": {},
     "output_type": "execute_result"
    },
    {
     "data": {
      "image/png": "[encoded data removed]",
      "text/plain": [
       "<Figure size 640x480 with 1 Axes>"
      ]
     },
     "metadata": {},
     "output_type": "display_data"
    }
   ],
   "source": [
    "sns.boxplot(data=df_clustered, y=\"avg_order_value\", x=\"cluster\", width=.5)"
   ]
  },
  {
   "cell_type": "code",
   "execution_count": 395,
   "id": "4a0c5b56",
   "metadata": {},
   "outputs": [
    {
     "data": {
      "text/plain": [
       "cluster\n",
       "0    4.188859\n",
       "1    4.093449\n",
       "2    3.549289\n",
       "3    4.187674\n",
       "4    4.185179\n",
       "5    3.974177\n",
       "6    4.052319\n",
       "7    3.986545\n",
       "8    4.107365\n",
       "Name: avg_rating, dtype: float64"
      ]
     },
     "execution_count": 395,
     "metadata": {},
     "output_type": "execute_result"
    }
   ],
   "source": [
    "df_clustered.groupby('cluster')['avg_rating'].mean()"
   ]
  },
  {
   "cell_type": "code",
   "execution_count": 396,
   "id": "f6a8c1e9",
   "metadata": {},
   "outputs": [
    {
     "data": {
      "text/plain": [
       "<Axes: xlabel='cluster', ylabel='avg_rating'>"
      ]
     },
     "execution_count": 396,
     "metadata": {},
     "output_type": "execute_result"
    },
    {
     "data": {
      "image/png": "[encoded data removed]",
      "text/plain": [
       "<Figure size 640x480 with 1 Axes>"
      ]
     },
     "metadata": {},
     "output_type": "display_data"
    }
   ],
   "source": [
    "sns.boxplot(data=df_clustered, y=\"avg_rating\", x=\"cluster\", width=.5)"
   ]
  },
  {
   "cell_type": "code",
   "execution_count": 397,
   "id": "d706a216",
   "metadata": {},
   "outputs": [
    {
     "data": {
      "text/plain": [
       "cluster\n",
       "0    2.395305\n",
       "1    2.958217\n",
       "2    3.820581\n",
       "3    3.003597\n",
       "4    2.665905\n",
       "5    7.251016\n",
       "6    2.143878\n",
       "7    3.614943\n",
       "8    2.676350\n",
       "Name: avg_installments, dtype: float64"
      ]
     },
     "execution_count": 397,
     "metadata": {},
     "output_type": "execute_result"
    }
   ],
   "source": [
    "df_clustered.groupby('cluster')['avg_installments'].mean()"
   ]
  },
  {
   "cell_type": "code",
   "execution_count": 398,
   "id": "33a18e15",
   "metadata": {},
   "outputs": [
    {
     "data": {
      "text/plain": [
       "<Axes: xlabel='cluster', ylabel='avg_installments'>"
      ]
     },
     "execution_count": 398,
     "metadata": {},
     "output_type": "execute_result"
    },
    {
     "data": {
      "image/png": "[encoded data removed]",
      "text/plain": [
       "<Figure size 640x480 with 1 Axes>"
      ]
     },
     "metadata": {},
     "output_type": "display_data"
    }
   ],
   "source": [
    "sns.boxplot(data=df_clustered, y=\"avg_installments\", x=\"cluster\", width=.5)"
   ]
  },
  {
   "cell_type": "code",
   "execution_count": 399,
   "id": "f51ac0e0",
   "metadata": {},
   "outputs": [
    {
     "data": {
      "text/plain": [
       "cluster\n",
       "0    249.668186\n",
       "1    309.231072\n",
       "2    236.988821\n",
       "3    220.855099\n",
       "4    180.291609\n",
       "5    247.423122\n",
       "6    234.487702\n",
       "7    246.605170\n",
       "8    236.753919\n",
       "Name: recency, dtype: float64"
      ]
     },
     "execution_count": 399,
     "metadata": {},
     "output_type": "execute_result"
    }
   ],
   "source": [
    "df_clustered.groupby('cluster')['recency'].mean()"
   ]
  },
  {
   "cell_type": "code",
   "execution_count": 400,
   "id": "f3430b09",
   "metadata": {},
   "outputs": [
    {
     "data": {
      "text/plain": [
       "<Axes: xlabel='cluster', ylabel='recency'>"
      ]
     },
     "execution_count": 400,
     "metadata": {},
     "output_type": "execute_result"
    },
    {
     "data": {
      "image/png": "[encoded data removed]",
      "text/plain": [
       "<Figure size 640x480 with 1 Axes>"
      ]
     },
     "metadata": {},
     "output_type": "display_data"
    }
   ],
   "source": [
    "sns.boxplot(data=df_clustered, y=\"recency\", x=\"cluster\", width=.5)"
   ]
  },
  {
   "cell_type": "code",
   "execution_count": 401,
   "id": "e563233e",
   "metadata": {},
   "outputs": [
    {
     "data": {
      "text/plain": [
       "cluster\n",
       "0    0.000427\n",
       "1    0.000000\n",
       "2    0.171295\n",
       "3    0.001213\n",
       "4    0.000000\n",
       "5    0.009831\n",
       "6    0.001618\n",
       "7    0.998120\n",
       "8    0.003732\n",
       "Name: bed_bath_table, dtype: float64"
      ]
     },
     "execution_count": 401,
     "metadata": {},
     "output_type": "execute_result"
    }
   ],
   "source": [
    "df_clustered.groupby('cluster')['bed_bath_table'].mean()"
   ]
  },
  {
   "cell_type": "code",
   "execution_count": 402,
   "id": "4d36a4d0",
   "metadata": {},
   "outputs": [
    {
     "data": {
      "text/plain": [
       "<Axes: xlabel='cluster', ylabel='bed_bath_table'>"
      ]
     },
     "execution_count": 402,
     "metadata": {},
     "output_type": "execute_result"
    },
    {
     "data": {
      "image/png": "[encoded data removed]",
      "text/plain": [
       "<Figure size 640x480 with 1 Axes>"
      ]
     },
     "metadata": {},
     "output_type": "display_data"
    }
   ],
   "source": [
    "sns.boxplot(data=df_clustered, y=\"bed_bath_table\", x=\"cluster\", width=.5)"
   ]
  },
  {
   "cell_type": "code",
   "execution_count": 403,
   "id": "234e6156",
   "metadata": {},
   "outputs": [
    {
     "data": {
      "text/plain": [
       "cluster\n",
       "0    0.000000\n",
       "1    0.000000\n",
       "2    0.062748\n",
       "3    1.000000\n",
       "4    0.000000\n",
       "5    0.067243\n",
       "6    0.000971\n",
       "7    0.001175\n",
       "8    0.000746\n",
       "Name: health_beauty, dtype: float64"
      ]
     },
     "execution_count": 403,
     "metadata": {},
     "output_type": "execute_result"
    }
   ],
   "source": [
    "df_clustered.groupby('cluster')['health_beauty'].mean()"
   ]
  },
  {
   "cell_type": "code",
   "execution_count": 404,
   "id": "5db6483b",
   "metadata": {},
   "outputs": [
    {
     "data": {
      "text/plain": [
       "<Axes: xlabel='cluster', ylabel='health_beauty'>"
      ]
     },
     "execution_count": 404,
     "metadata": {},
     "output_type": "execute_result"
    },
    {
     "data": {
      "image/png": "[encoded data removed]",
      "text/plain": [
       "<Figure size 640x480 with 1 Axes>"
      ]
     },
     "metadata": {},
     "output_type": "display_data"
    }
   ],
   "source": [
    "sns.boxplot(data=df_clustered, y=\"health_beauty\", x=\"cluster\", width=.5)"
   ]
  },
  {
   "cell_type": "code",
   "execution_count": 405,
   "id": "a11e49a7",
   "metadata": {},
   "outputs": [
    {
     "data": {
      "text/plain": [
       "cluster\n",
       "0    1.000000\n",
       "1    0.000260\n",
       "2    0.086909\n",
       "3    0.003638\n",
       "4    0.000041\n",
       "5    0.044042\n",
       "6    0.001780\n",
       "7    0.000588\n",
       "8    0.004728\n",
       "Name: sports_leisure, dtype: float64"
      ]
     },
     "execution_count": 405,
     "metadata": {},
     "output_type": "execute_result"
    }
   ],
   "source": [
    "df_clustered.groupby('cluster')['sports_leisure'].mean()"
   ]
  },
  {
   "cell_type": "code",
   "execution_count": 406,
   "id": "21f83190",
   "metadata": {},
   "outputs": [
    {
     "data": {
      "text/plain": [
       "cluster\n",
       "0    0.001994\n",
       "1    0.202750\n",
       "2    0.205554\n",
       "3    0.001819\n",
       "4    0.001714\n",
       "5    0.012977\n",
       "6    0.000971\n",
       "7    0.009401\n",
       "8    0.006594\n",
       "Name: furniture_decor, dtype: float64"
      ]
     },
     "execution_count": 406,
     "metadata": {},
     "output_type": "execute_result"
    }
   ],
   "source": [
    "df_clustered.groupby('cluster')['furniture_decor'].mean()"
   ]
  },
  {
   "cell_type": "code",
   "execution_count": 407,
   "id": "5089e5e2",
   "metadata": {},
   "outputs": [
    {
     "data": {
      "text/plain": [
       "cluster\n",
       "0    0.000000\n",
       "1    0.000112\n",
       "2    0.089073\n",
       "3    0.000364\n",
       "4    0.000000\n",
       "5    0.036964\n",
       "6    0.998382\n",
       "7    0.000235\n",
       "8    0.000124\n",
       "Name: computers_accessories, dtype: float64"
      ]
     },
     "execution_count": 407,
     "metadata": {},
     "output_type": "execute_result"
    }
   ],
   "source": [
    "df_clustered.groupby('cluster')['computers_accessories'].mean()"
   ]
  },
  {
   "cell_type": "code",
   "execution_count": 408,
   "id": "7dbb0972",
   "metadata": {},
   "outputs": [
    {
     "data": {
      "text/plain": [
       "cluster\n",
       "0    0.002563\n",
       "1    0.008772\n",
       "2    0.106744\n",
       "3    0.001091\n",
       "4    0.208024\n",
       "5    0.020842\n",
       "6    0.002427\n",
       "7    0.003055\n",
       "8    0.003857\n",
       "Name: housewares, dtype: float64"
      ]
     },
     "execution_count": 408,
     "metadata": {},
     "output_type": "execute_result"
    }
   ],
   "source": [
    "df_clustered.groupby('cluster')['housewares'].mean()"
   ]
  },
  {
   "cell_type": "code",
   "execution_count": 409,
   "id": "0aa2fb72",
   "metadata": {},
   "outputs": [
    {
     "data": {
      "text/plain": [
       "cluster\n",
       "0    0.002279\n",
       "1    0.000112\n",
       "2    0.038947\n",
       "3    0.001091\n",
       "4    0.196106\n",
       "5    0.212741\n",
       "6    0.000324\n",
       "7    0.000823\n",
       "8    0.000995\n",
       "Name: watches_gifts, dtype: float64"
      ]
     },
     "execution_count": 409,
     "metadata": {},
     "output_type": "execute_result"
    }
   ],
   "source": [
    "df_clustered.groupby('cluster')['watches_gifts'].mean()"
   ]
  },
  {
   "cell_type": "code",
   "execution_count": 410,
   "id": "8fc17430",
   "metadata": {},
   "outputs": [
    {
     "data": {
      "text/plain": [
       "cluster\n",
       "0    0.000854\n",
       "1    0.128229\n",
       "2    0.021277\n",
       "3    0.001213\n",
       "4    0.019998\n",
       "5    0.026740\n",
       "6    0.003883\n",
       "7    0.000940\n",
       "8    0.000995\n",
       "Name: telephony, dtype: float64"
      ]
     },
     "execution_count": 410,
     "metadata": {},
     "output_type": "execute_result"
    }
   ],
   "source": [
    "df_clustered.groupby('cluster')['telephony'].mean()"
   ]
  },
  {
   "cell_type": "code",
   "execution_count": 411,
   "id": "a95a06c1",
   "metadata": {},
   "outputs": [
    {
     "data": {
      "text/plain": [
       "cluster\n",
       "0    0.001139\n",
       "1    0.112693\n",
       "2    0.069960\n",
       "3    0.000485\n",
       "4    0.003224\n",
       "5    0.042470\n",
       "6    0.002427\n",
       "7    0.001058\n",
       "8    0.002239\n",
       "Name: garden_tools, dtype: float64"
      ]
     },
     "execution_count": 411,
     "metadata": {},
     "output_type": "execute_result"
    }
   ],
   "source": [
    "df_clustered.groupby('cluster')['garden_tools'].mean()"
   ]
  },
  {
   "cell_type": "code",
   "execution_count": 412,
   "id": "883b7955",
   "metadata": {},
   "outputs": [
    {
     "data": {
      "text/plain": [
       "cluster\n",
       "0    0.000854\n",
       "1    0.011299\n",
       "2    0.031735\n",
       "3    0.000606\n",
       "4    0.132193\n",
       "5    0.066064\n",
       "6    0.001456\n",
       "7    0.000940\n",
       "8    0.000746\n",
       "Name: auto, dtype: float64"
      ]
     },
     "execution_count": 412,
     "metadata": {},
     "output_type": "execute_result"
    }
   ],
   "source": [
    "df_clustered.groupby('cluster')['auto'].mean()"
   ]
  },
  {
   "cell_type": "code",
   "execution_count": 413,
   "id": "226b3d5f",
   "metadata": {},
   "outputs": [
    {
     "data": {
      "text/plain": [
       "cluster\n",
       "0    0.000854\n",
       "1    0.107861\n",
       "2    0.024162\n",
       "3    0.000728\n",
       "4    0.029467\n",
       "5    0.031852\n",
       "6    0.000809\n",
       "7    0.001058\n",
       "8    0.001617\n",
       "Name: toys, dtype: float64"
      ]
     },
     "execution_count": 413,
     "metadata": {},
     "output_type": "execute_result"
    }
   ],
   "source": [
    "df_clustered.groupby('cluster')['toys'].mean()"
   ]
  },
  {
   "cell_type": "code",
   "execution_count": 414,
   "id": "77eee4a2",
   "metadata": {},
   "outputs": [
    {
     "data": {
      "text/plain": [
       "cluster\n",
       "0    0.000570\n",
       "1    0.122988\n",
       "2    0.021277\n",
       "3    0.000728\n",
       "4    0.000000\n",
       "5    0.064884\n",
       "6    0.001456\n",
       "7    0.001880\n",
       "8    0.001742\n",
       "Name: cool_stuff, dtype: float64"
      ]
     },
     "execution_count": 414,
     "metadata": {},
     "output_type": "execute_result"
    }
   ],
   "source": [
    "df_clustered.groupby('cluster')['cool_stuff'].mean()"
   ]
  },
  {
   "cell_type": "code",
   "execution_count": 415,
   "id": "f8d16ef3",
   "metadata": {},
   "outputs": [
    {
     "data": {
      "text/plain": [
       "cluster\n",
       "0    0.001282\n",
       "1    0.090058\n",
       "2    0.023440\n",
       "3    0.002546\n",
       "4    0.022610\n",
       "5    0.003539\n",
       "6    0.000000\n",
       "7    0.002233\n",
       "8    0.001493\n",
       "Name: perfumery, dtype: float64"
      ]
     },
     "execution_count": 415,
     "metadata": {},
     "output_type": "execute_result"
    }
   ],
   "source": [
    "df_clustered.groupby('cluster')['perfumery'].mean()"
   ]
  },
  {
   "cell_type": "code",
   "execution_count": 416,
   "id": "91bf4e7d",
   "metadata": {},
   "outputs": [
    {
     "data": {
      "text/plain": [
       "cluster\n",
       "0    0.000427\n",
       "1    0.025163\n",
       "2    0.024522\n",
       "3    0.000485\n",
       "4    0.078443\n",
       "5    0.044436\n",
       "6    0.000485\n",
       "7    0.003643\n",
       "8    0.001742\n",
       "Name: baby, dtype: float64"
      ]
     },
     "execution_count": 416,
     "metadata": {},
     "output_type": "execute_result"
    }
   ],
   "source": [
    "df_clustered.groupby('cluster')['baby'].mean()"
   ]
  },
  {
   "cell_type": "code",
   "execution_count": 417,
   "id": "5d042bec",
   "metadata": {},
   "outputs": [
    {
     "data": {
      "text/plain": [
       "cluster\n",
       "0    0.001139\n",
       "1    0.000818\n",
       "2    0.019473\n",
       "3    0.000485\n",
       "4    0.097992\n",
       "5    0.005505\n",
       "6    0.001133\n",
       "7    0.000588\n",
       "8    0.000871\n",
       "Name: electronics, dtype: float64"
      ]
     },
     "execution_count": 417,
     "metadata": {},
     "output_type": "execute_result"
    }
   ],
   "source": [
    "df_clustered.groupby('cluster')['electronics'].mean()"
   ]
  },
  {
   "cell_type": "code",
   "execution_count": 418,
   "id": "68acde64",
   "metadata": {},
   "outputs": [
    {
     "data": {
      "text/plain": [
       "cluster\n",
       "0    0.000427\n",
       "1    0.006504\n",
       "2    0.018031\n",
       "3    0.001455\n",
       "4    0.082401\n",
       "5    0.003932\n",
       "6    0.000809\n",
       "7    0.000353\n",
       "8    0.000373\n",
       "Name: stationery, dtype: float64"
      ]
     },
     "execution_count": 418,
     "metadata": {},
     "output_type": "execute_result"
    }
   ],
   "source": [
    "df_clustered.groupby('cluster')['stationery'].mean()"
   ]
  },
  {
   "cell_type": "code",
   "execution_count": 419,
   "id": "f459eaad",
   "metadata": {},
   "outputs": [
    {
     "data": {
      "text/plain": [
       "cluster\n",
       "0    0.000997\n",
       "1    0.049805\n",
       "2    0.027768\n",
       "3    0.000728\n",
       "4    0.013387\n",
       "5    0.004719\n",
       "6    0.000485\n",
       "7    0.000353\n",
       "8    0.001742\n",
       "Name: fashion_bags_accessories, dtype: float64"
      ]
     },
     "execution_count": 419,
     "metadata": {},
     "output_type": "execute_result"
    }
   ],
   "source": [
    "df_clustered.groupby('cluster')['fashion_bags_accessories'].mean()"
   ]
  },
  {
   "cell_type": "code",
   "execution_count": 420,
   "id": "5be6d8aa",
   "metadata": {},
   "outputs": [
    {
     "data": {
      "text/plain": [
       "cluster\n",
       "0    0.000142\n",
       "1    0.011968\n",
       "2    0.022719\n",
       "3    0.000485\n",
       "4    0.049996\n",
       "5    0.015729\n",
       "6    0.000809\n",
       "7    0.001058\n",
       "8    0.001368\n",
       "Name: pet_shop, dtype: float64"
      ]
     },
     "execution_count": 420,
     "metadata": {},
     "output_type": "execute_result"
    }
   ],
   "source": [
    "df_clustered.groupby('cluster')['pet_shop'].mean()"
   ]
  },
  {
   "cell_type": "code",
   "execution_count": 421,
   "id": "63a05df1",
   "metadata": {},
   "outputs": [
    {
     "data": {
      "text/plain": [
       "cluster\n",
       "0    0.000142\n",
       "1    0.041108\n",
       "2    0.034980\n",
       "3    0.000243\n",
       "4    0.000082\n",
       "5    0.012190\n",
       "6    0.000647\n",
       "7    0.000235\n",
       "8    0.001120\n",
       "Name: office_furniture, dtype: float64"
      ]
     },
     "execution_count": 421,
     "metadata": {},
     "output_type": "execute_result"
    }
   ],
   "source": [
    "df_clustered.groupby('cluster')['office_furniture'].mean()"
   ]
  },
  {
   "cell_type": "code",
   "execution_count": 422,
   "id": "40c55609",
   "metadata": {},
   "outputs": [
    {
     "data": {
      "text/plain": [
       "cluster\n",
       "0    0.000142\n",
       "1    0.035867\n",
       "2    0.005770\n",
       "3    0.000243\n",
       "4    0.000122\n",
       "5    0.020842\n",
       "6    0.000324\n",
       "7    0.000235\n",
       "8    0.000498\n",
       "Name: consoles_games, dtype: float64"
      ]
     },
     "execution_count": 422,
     "metadata": {},
     "output_type": "execute_result"
    }
   ],
   "source": [
    "df_clustered.groupby('cluster')['consoles_games'].mean()"
   ]
  },
  {
   "cell_type": "code",
   "execution_count": 423,
   "id": "d2ef0c45",
   "metadata": {},
   "outputs": [
    {
     "data": {
      "text/plain": [
       "cluster\n",
       "0    0.000142\n",
       "1    0.000000\n",
       "2    0.138478\n",
       "3    0.002183\n",
       "4    0.000163\n",
       "5    0.157688\n",
       "6    0.003074\n",
       "7    0.005640\n",
       "8    1.000000\n",
       "Name: other_categories, dtype: float64"
      ]
     },
     "execution_count": 423,
     "metadata": {},
     "output_type": "execute_result"
    }
   ],
   "source": [
    "df_clustered.groupby('cluster')['other_categories'].mean()"
   ]
  },
  {
   "cell_type": "markdown",
   "id": "7a23a9f4",
   "metadata": {},
   "source": [
    "##### Results\n",
    "\n",
    "The nine clusters represent distinct groups of customers, each with its own characteristics.\n",
    "\n",
    "Cluster 0 - 7000 customers, most of them have purchased from the sports-leisure category.\n",
    "\n",
    "Cluster 1 - 26900 customers. This group has not purchased in 309 days, on average. Some have purchased from furniture-decor category.\n",
    "\n",
    "Cluster 2 - 2700 customers. The average order value is lower than other groups, but they have a higher repeat rate (3.87 orders per customer on average). They also tend to give lower rating than other groups. Some have purchased from furniture-decor category.\n",
    "\n",
    "Cluster 3 - 8200 customers, most of them have purchased from the health-beauty category. Some have purchased from watches-gifts categories.\n",
    "\n",
    "Cluster 4 - 24500 customers, pay over the lowest number of installments. They have the lowest recency (180 days since last purchase on average). Some have purchased housewares category.\n",
    "\n",
    "Cluster 5 - 2500 customers, high value customers who spend more than R$ 1000 on average. Perhaps due to high order value, these customers pay over 7+ installments on average.\n",
    "\n",
    "Cluster 6 - 6200 customers - most have purchased from computers-accessories category.\n",
    "\n",
    "Cluster 7 - 8500 customers, most of them have purchased from the bed-bath-table category.\n",
    "\n",
    "Cluster 8 - 8000 customers, they are purchasers of categories other than the top 20 categories."
   ]
  },
  {
   "cell_type": "code",
   "execution_count": null,
   "id": "60a2757f",
   "metadata": {},
   "outputs": [],
   "source": []
  }
 ],
 "metadata": {
  "kernelspec": {
   "display_name": "Python 3 (ipykernel)",
   "language": "python",
   "name": "python3"
  },
  "language_info": {
   "codemirror_mode": {
    "name": "ipython",
    "version": 3
   },
   "file_extension": ".py",
   "mimetype": "text/x-python",
   "name": "python",
   "nbconvert_exporter": "python",
   "pygments_lexer": "ipython3",
   "version": "3.11.5"
  }
 },
 "nbformat": 4,
 "nbformat_minor": 5
}
